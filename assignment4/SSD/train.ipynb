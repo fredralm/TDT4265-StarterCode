{
 "cells": [
  {
   "cell_type": "code",
   "execution_count": 1,
   "metadata": {},
   "outputs": [],
   "source": [
    "%load_ext autoreload"
   ]
  },
  {
   "cell_type": "code",
   "execution_count": 2,
   "metadata": {},
   "outputs": [],
   "source": [
    "%autoreload \n",
    "import logging\n",
    "import os\n",
    "import pathlib\n",
    "import torch\n",
    "from ssd.engine.inference import do_evaluation\n",
    "from ssd.config.defaults import cfg\n",
    "from ssd.utils.logger import setup_logger\n",
    "from train import start_train"
   ]
  },
  {
   "cell_type": "code",
   "execution_count": 3,
   "metadata": {},
   "outputs": [
    {
     "name": "stdout",
     "output_type": "stream",
     "text": [
      "2021-03-23 14:14:48,032 SSD INFO: Loaded configuration file configs/mnist_tdt4265_server.yaml\n",
      "2021-03-23 14:14:48,034 SSD INFO: \n",
      "MODEL:\n",
      "    NUM_CLASSES: 11\n",
      "    THRESHOLD: 0.7\n",
      "    BACKBONE:\n",
      "        NAME: 'improved'\n",
      "        PRETRAINED: False\n",
      "        OUT_CHANNELS: [512, 1024, 512, 512, 256, 256]\n",
      "        INPUT_CHANNELS: 3\n",
      "    PRIORS:\n",
      "        MIN_SIZES: [[10, 10], [60, 60], [111, 111], [162, 162], [213, 213], [264, 264]]\n",
      "        MAX_SIZES: [[60, 60], [111, 111], [162, 162], [213, 213], [264, 264], [315, 315]]\n",
      "        ASPECT_RATIOS: [[2], [2, 3], [2, 3], [2, 3], [2], [2]]\n",
      "        BOXES_PER_LOCATION: [4, 6, 6, 6, 4, 4]\n",
      "INPUT:\n",
      "    IMAGE_SIZE: [300, 300]\n",
      "    PIXEL_MEAN: [123.675, 116.280, 103.530]\n",
      "    PIXEL_STD: [1, 1, 1]\n",
      "DATASETS:\n",
      "    TRAIN: (\"mnist_detection_train\", \"mnist_detection_val\")\n",
      "    TEST: (\"mnist_detection_val\", )\n",
      "SOLVER:\n",
      "    MAX_ITER: 15000\n",
      "    GAMMA: 0.1\n",
      "    BATCH_SIZE: 16\n",
      "    LR: 5e-4\n",
      "OUTPUT_DIR: 'outputs/improved'\n",
      "DATASET_DIR: \"/work/datasets\"\n",
      "\n",
      "2021-03-23 14:14:48,036 SSD INFO: Running with config:\n",
      "DATASETS:\n",
      "  TEST: ('mnist_detection_val',)\n",
      "  TRAIN: ('mnist_detection_train', 'mnist_detection_val')\n",
      "DATASET_DIR: /work/datasets\n",
      "DATA_LOADER:\n",
      "  NUM_WORKERS: 4\n",
      "  PIN_MEMORY: True\n",
      "EVAL_STEP: 500\n",
      "INPUT:\n",
      "  IMAGE_SIZE: [300, 300]\n",
      "  PIXEL_MEAN: [123.675, 116.28, 103.53]\n",
      "  PIXEL_STD: [1, 1, 1]\n",
      "LOG_STEP: 10\n",
      "MODEL:\n",
      "  BACKBONE:\n",
      "    INPUT_CHANNELS: 3\n",
      "    NAME: improved\n",
      "    OUT_CHANNELS: (512, 1024, 512, 512, 256, 256)\n",
      "    PRETRAINED: False\n",
      "  CENTER_VARIANCE: 0.1\n",
      "  NEG_POS_RATIO: 3\n",
      "  NUM_CLASSES: 11\n",
      "  PRIORS:\n",
      "    ASPECT_RATIOS: [[2], [2, 3], [2, 3], [2, 3], [2], [2]]\n",
      "    BOXES_PER_LOCATION: [4, 6, 6, 6, 4, 4]\n",
      "    CLIP: True\n",
      "    FEATURE_MAPS: [[38, 38], [19, 19], [10, 10], [5, 5], [3, 3], [1, 1]]\n",
      "    MAX_SIZES: [[60, 60], [111, 111], [162, 162], [213, 213], [264, 264], [315, 315]]\n",
      "    MIN_SIZES: [[10, 10], [60, 60], [111, 111], [162, 162], [213, 213], [264, 264]]\n",
      "    STRIDES: [[8, 8], [16, 16], [32, 32], [64, 64], [100, 100], [300, 300]]\n",
      "  SIZE_VARIANCE: 0.2\n",
      "  THRESHOLD: 0.7\n",
      "MODEL_SAVE_STEP: 500\n",
      "OUTPUT_DIR: outputs/improved\n",
      "SOLVER:\n",
      "  BATCH_SIZE: 16\n",
      "  GAMMA: 0.1\n",
      "  LR: 0.0005\n",
      "  MAX_ITER: 15000\n",
      "  MOMENTUM: 0.9\n",
      "  WEIGHT_DECAY: 0.0005\n",
      "TEST:\n",
      "  BATCH_SIZE: 10\n",
      "  CONFIDENCE_THRESHOLD: 0.01\n",
      "  MAX_PER_CLASS: -1\n",
      "  MAX_PER_IMAGE: 100\n",
      "  NMS_THRESHOLD: 0.45\n"
     ]
    }
   ],
   "source": [
    "config_file = \"configs/mnist_tdt4265_server.yaml\"\n",
    "\n",
    "cfg.merge_from_file(config_file)\n",
    "cfg.freeze()\n",
    "output_dir = pathlib.Path(cfg.OUTPUT_DIR)\n",
    "output_dir.mkdir(exist_ok=True, parents=True)\n",
    "\n",
    "logger = setup_logger(\"SSD\", output_dir)\n",
    "\n",
    "logger.info(\"Loaded configuration file {}\".format(config_file))\n",
    "with open(config_file, \"r\") as cf:\n",
    "    config_str = \"\\n\" + cf.read()\n",
    "    logger.info(config_str)\n",
    "logger.info(\"Running with config:\\n{}\".format(cfg))\n"
   ]
  },
  {
   "cell_type": "code",
   "execution_count": 4,
   "metadata": {},
   "outputs": [
    {
     "name": "stdout",
     "output_type": "stream",
     "text": [
      "Detector initialized. Total Number of params:  36.15M\n",
      "Backbone number of parameters: 33.94M\n",
      "SSD Head number of parameters: 2.21M\n",
      "2021-03-23 14:14:50,180 SSD.trainer INFO: Loading checkpoint from outputs/improved/model_final.pth\n",
      "2021-03-23 14:14:50,392 SSD.trainer INFO: Loading optimizer from outputs/improved/model_final.pth\n",
      "2021-03-23 14:14:51,928 SSD.trainer INFO: Start training ...\n",
      "2021-03-23 14:14:55,011 SSD.trainer INFO: Saving checkpoint to outputs/improved/model_final.pth\n",
      "2021-03-23 14:14:56,265 SSD.trainer INFO: Total training time: 0:00:03 (0.0002 s / it)\n"
     ]
    }
   ],
   "source": [
    "model = start_train(cfg)"
   ]
  },
  {
   "cell_type": "code",
   "execution_count": 5,
   "metadata": {},
   "outputs": [
    {
     "name": "stdout",
     "output_type": "stream",
     "text": [
      "2021-03-23 14:14:56,296 SSD INFO: Start evaluating...\n",
      "2021-03-23 14:14:56,439 SSD.inference INFO: Evaluating mnist_detection_val dataset(1000 images):\n"
     ]
    },
    {
     "name": "stderr",
     "output_type": "stream",
     "text": [
      "100%|██████████| 100/100 [00:13<00:00,  7.57it/s]\n"
     ]
    },
    {
     "name": "stdout",
     "output_type": "stream",
     "text": [
      "2021-03-23 14:15:10,319 SSD.inference INFO: mAP: 0.9018\n",
      "0               : 0.9078\n",
      "1               : 0.8646\n",
      "2               : 0.9052\n",
      "3               : 0.9064\n",
      "4               : 0.9060\n",
      "5               : 0.9075\n",
      "6               : 0.9061\n",
      "7               : 0.9026\n",
      "8               : 0.9083\n",
      "9               : 0.9036\n",
      "\n"
     ]
    },
    {
     "data": {
      "text/plain": [
       "[{'metrics': {'mAP': 0.9018027776597384,\n",
       "   '0': 0.9077993342757572,\n",
       "   '1': 0.8646305974344708,\n",
       "   '2': 0.905155716519353,\n",
       "   '3': 0.9064256275225915,\n",
       "   '4': 0.9060076588216525,\n",
       "   '5': 0.9074993633817164,\n",
       "   '6': 0.9060624302669842,\n",
       "   '7': 0.902554578829434,\n",
       "   '8': 0.9082682655134315,\n",
       "   '9': 0.903624204031994}}]"
      ]
     },
     "execution_count": 5,
     "metadata": {},
     "output_type": "execute_result"
    }
   ],
   "source": [
    "logger.info('Start evaluating...')\n",
    "torch.cuda.empty_cache()  # speed up evaluating after training finished\n",
    "do_evaluation(cfg, model)"
   ]
  }
 ],
 "metadata": {
  "kernelspec": {
   "display_name": "Python 3",
   "language": "python",
   "name": "python3"
  },
  "language_info": {
   "codemirror_mode": {
    "name": "ipython",
    "version": 3
   },
   "file_extension": ".py",
   "mimetype": "text/x-python",
   "name": "python",
   "nbconvert_exporter": "python",
   "pygments_lexer": "ipython3",
   "version": "3.8.5"
  }
 },
 "nbformat": 4,
 "nbformat_minor": 4
}
