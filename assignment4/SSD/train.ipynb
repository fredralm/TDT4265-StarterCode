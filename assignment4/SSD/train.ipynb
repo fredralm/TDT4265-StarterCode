{
 "cells": [
  {
   "cell_type": "code",
   "execution_count": 1,
   "metadata": {},
   "outputs": [],
   "source": [
    "%load_ext autoreload"
   ]
  },
  {
   "cell_type": "code",
   "execution_count": 2,
   "metadata": {},
   "outputs": [],
   "source": [
    "%autoreload \n",
    "import logging\n",
    "import os\n",
    "import pathlib\n",
    "import torch\n",
    "from ssd.engine.inference import do_evaluation\n",
    "from ssd.config.defaults import cfg\n",
    "from ssd.utils.logger import setup_logger\n",
    "from train import start_train"
   ]
  },
  {
   "cell_type": "code",
   "execution_count": 3,
   "metadata": {},
   "outputs": [
    {
     "name": "stdout",
     "output_type": "stream",
     "text": [
      "2021-03-22 18:11:09,942 SSD INFO: Loaded configuration file configs/mnist_tdt4265_server.yaml\n",
      "2021-03-22 18:11:09,944 SSD INFO: \n",
      "MODEL:\n",
      "    NUM_CLASSES: 11\n",
      "    THRESHOLD: 0.6\n",
      "    BACKBONE:\n",
      "        NAME: 'improved'\n",
      "        PRETRAINED: False\n",
      "        OUT_CHANNELS: [512, 1024, 512, 512, 256, 256]\n",
      "        INPUT_CHANNELS: 3\n",
      "    PRIORS:\n",
      "        MIN_SIZES: [[15, 15], [60, 60], [111, 111], [162, 162], [213, 213], [264, 264]]\n",
      "        MAX_SIZES: [[60, 60], [111, 111], [162, 162], [213, 213], [264, 264], [315, 315]]\n",
      "        ASPECT_RATIOS: [[2], [2, 3], [2, 3], [2, 3], [2], [2]]\n",
      "        BOXES_PER_LOCATION: [4, 6, 6, 6, 4, 4]\n",
      "INPUT:\n",
      "    IMAGE_SIZE: [300, 300]\n",
      "    PIXEL_MEAN: [123.675, 116.280, 103.530]\n",
      "    PIXEL_STD: [1, 1, 1]\n",
      "DATASETS:\n",
      "    TRAIN: (\"mnist_detection_train\", \"mnist_detection_val\")\n",
      "    TEST: (\"mnist_detection_val\", )\n",
      "SOLVER:\n",
      "    MAX_ITER: 15000\n",
      "    GAMMA: 0.1\n",
      "    BATCH_SIZE: 16\n",
      "    LR: 5e-4\n",
      "OUTPUT_DIR: 'outputs/improved'\n",
      "DATASET_DIR: \"/work/datasets\"\n",
      "\n",
      "2021-03-22 18:11:09,945 SSD INFO: Running with config:\n",
      "DATASETS:\n",
      "  TEST: ('mnist_detection_val',)\n",
      "  TRAIN: ('mnist_detection_train', 'mnist_detection_val')\n",
      "DATASET_DIR: /work/datasets\n",
      "DATA_LOADER:\n",
      "  NUM_WORKERS: 4\n",
      "  PIN_MEMORY: True\n",
      "EVAL_STEP: 500\n",
      "INPUT:\n",
      "  IMAGE_SIZE: [300, 300]\n",
      "  PIXEL_MEAN: [123.675, 116.28, 103.53]\n",
      "  PIXEL_STD: [1, 1, 1]\n",
      "LOG_STEP: 10\n",
      "MODEL:\n",
      "  BACKBONE:\n",
      "    INPUT_CHANNELS: 3\n",
      "    NAME: improved\n",
      "    OUT_CHANNELS: (512, 1024, 512, 512, 256, 256)\n",
      "    PRETRAINED: False\n",
      "  CENTER_VARIANCE: 0.1\n",
      "  NEG_POS_RATIO: 3\n",
      "  NUM_CLASSES: 11\n",
      "  PRIORS:\n",
      "    ASPECT_RATIOS: [[2], [2, 3], [2, 3], [2, 3], [2], [2]]\n",
      "    BOXES_PER_LOCATION: [4, 6, 6, 6, 4, 4]\n",
      "    CLIP: True\n",
      "    FEATURE_MAPS: [[38, 38], [19, 19], [10, 10], [5, 5], [3, 3], [1, 1]]\n",
      "    MAX_SIZES: [[60, 60], [111, 111], [162, 162], [213, 213], [264, 264], [315, 315]]\n",
      "    MIN_SIZES: [[15, 15], [60, 60], [111, 111], [162, 162], [213, 213], [264, 264]]\n",
      "    STRIDES: [[8, 8], [16, 16], [32, 32], [64, 64], [100, 100], [300, 300]]\n",
      "  SIZE_VARIANCE: 0.2\n",
      "  THRESHOLD: 0.6\n",
      "MODEL_SAVE_STEP: 500\n",
      "OUTPUT_DIR: outputs/improved\n",
      "SOLVER:\n",
      "  BATCH_SIZE: 16\n",
      "  GAMMA: 0.1\n",
      "  LR: 0.0005\n",
      "  MAX_ITER: 15000\n",
      "  MOMENTUM: 0.9\n",
      "  WEIGHT_DECAY: 0.0005\n",
      "TEST:\n",
      "  BATCH_SIZE: 10\n",
      "  CONFIDENCE_THRESHOLD: 0.01\n",
      "  MAX_PER_CLASS: -1\n",
      "  MAX_PER_IMAGE: 100\n",
      "  NMS_THRESHOLD: 0.45\n"
     ]
    }
   ],
   "source": [
    "config_file = \"configs/mnist_tdt4265_server.yaml\"\n",
    "\n",
    "cfg.merge_from_file(config_file)\n",
    "cfg.freeze()\n",
    "output_dir = pathlib.Path(cfg.OUTPUT_DIR)\n",
    "output_dir.mkdir(exist_ok=True, parents=True)\n",
    "\n",
    "logger = setup_logger(\"SSD\", output_dir)\n",
    "\n",
    "logger.info(\"Loaded configuration file {}\".format(config_file))\n",
    "with open(config_file, \"r\") as cf:\n",
    "    config_str = \"\\n\" + cf.read()\n",
    "    logger.info(config_str)\n",
    "logger.info(\"Running with config:\\n{}\".format(cfg))\n"
   ]
  },
  {
   "cell_type": "code",
   "execution_count": null,
   "metadata": {},
   "outputs": [
    {
     "name": "stdout",
     "output_type": "stream",
     "text": [
      "Detector initialized. Total Number of params:  36.15M\n",
      "Backbone number of parameters: 33.94M\n",
      "SSD Head number of parameters: 2.21M\n",
      "2021-03-22 18:11:12,106 SSD.trainer INFO: No checkpoint found.\n",
      "2021-03-22 18:11:13,501 SSD.trainer INFO: Start training ...\n",
      "2021-03-22 18:11:28,230 SSD.trainer INFO: iter: 000010, lr: 0.00050, total_loss: 24.622 (24.622), reg_loss: 4.043 (4.043), cls_loss: 20.579 (20.579), time: 1.350 (1.350), eta: 5:37:19, mem: 12309M\n",
      "2021-03-22 18:11:32,507 SSD.trainer INFO: iter: 000020, lr: 0.00050, total_loss: 18.467 (21.544), reg_loss: 2.759 (3.401), cls_loss: 15.708 (18.143), time: 0.428 (0.889), eta: 3:41:56, mem: 12309M\n",
      "2021-03-22 18:11:36,794 SSD.trainer INFO: iter: 000030, lr: 0.00050, total_loss: 16.059 (19.716), reg_loss: 2.335 (3.046), cls_loss: 13.724 (16.670), time: 0.429 (0.736), eta: 3:03:31, mem: 12309M\n",
      "2021-03-22 18:11:41,082 SSD.trainer INFO: iter: 000040, lr: 0.00050, total_loss: 13.740 (18.222), reg_loss: 1.877 (2.754), cls_loss: 11.863 (15.468), time: 0.429 (0.659), eta: 2:44:16, mem: 12309M\n",
      "2021-03-22 18:11:45,378 SSD.trainer INFO: iter: 000050, lr: 0.00050, total_loss: 12.980 (17.174), reg_loss: 1.849 (2.573), cls_loss: 11.131 (14.601), time: 0.430 (0.613), eta: 2:32:44, mem: 12309M\n",
      "2021-03-22 18:11:49,639 SSD.trainer INFO: iter: 000060, lr: 0.00050, total_loss: 17.905 (17.296), reg_loss: 1.811 (2.446), cls_loss: 16.094 (14.850), time: 0.426 (0.582), eta: 2:24:52, mem: 12309M\n",
      "2021-03-22 18:11:53,950 SSD.trainer INFO: iter: 000070, lr: 0.00050, total_loss: 12.826 (16.657), reg_loss: 1.844 (2.360), cls_loss: 10.982 (14.297), time: 0.431 (0.560), eta: 2:19:25, mem: 12309M\n",
      "2021-03-22 18:11:58,258 SSD.trainer INFO: iter: 000080, lr: 0.00050, total_loss: 9.344 (15.743), reg_loss: 1.608 (2.266), cls_loss: 7.736 (13.477), time: 0.431 (0.544), eta: 2:15:18, mem: 12309M\n",
      "2021-03-22 18:12:02,566 SSD.trainer INFO: iter: 000090, lr: 0.00050, total_loss: 6.803 (14.750), reg_loss: 1.403 (2.170), cls_loss: 5.400 (12.580), time: 0.431 (0.532), eta: 2:12:05, mem: 12309M\n",
      "2021-03-22 18:12:06,891 SSD.trainer INFO: iter: 000100, lr: 0.00050, total_loss: 5.570 (13.832), reg_loss: 1.269 (2.080), cls_loss: 4.301 (11.752), time: 0.433 (0.522), eta: 2:09:32, mem: 12309M\n",
      "2021-03-22 18:12:11,215 SSD.trainer INFO: iter: 000110, lr: 0.00050, total_loss: 5.007 (13.029), reg_loss: 1.173 (1.997), cls_loss: 3.834 (11.032), time: 0.432 (0.514), eta: 2:07:26, mem: 12309M\n"
     ]
    }
   ],
   "source": [
    "model = start_train(cfg)"
   ]
  },
  {
   "cell_type": "code",
   "execution_count": null,
   "metadata": {},
   "outputs": [],
   "source": [
    "logger.info('Start evaluating...')\n",
    "torch.cuda.empty_cache()  # speed up evaluating after training finished\n",
    "do_evaluation(cfg, model)"
   ]
  },
  {
   "cell_type": "code",
   "execution_count": null,
   "metadata": {},
   "outputs": [],
   "source": []
  }
 ],
 "metadata": {
  "kernelspec": {
   "display_name": "Python 3",
   "language": "python",
   "name": "python3"
  },
  "language_info": {
   "codemirror_mode": {
    "name": "ipython",
    "version": 3
   },
   "file_extension": ".py",
   "mimetype": "text/x-python",
   "name": "python",
   "nbconvert_exporter": "python",
   "pygments_lexer": "ipython3",
   "version": "3.8.5"
  }
 },
 "nbformat": 4,
 "nbformat_minor": 4
}
