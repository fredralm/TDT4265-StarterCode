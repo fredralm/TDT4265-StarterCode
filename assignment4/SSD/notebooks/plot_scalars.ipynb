{
 "cells": [
  {
   "cell_type": "code",
   "execution_count": 3,
   "metadata": {},
   "outputs": [],
   "source": [
    "import tensorflow as tf\n",
    "import matplotlib.pyplot as plt\n",
    "from tensorboard.backend.event_processing import event_accumulator"
   ]
  },
  {
   "cell_type": "code",
   "execution_count": 4,
   "metadata": {},
   "outputs": [],
   "source": [
    "def read_all_scalars(log_path):\n",
    "    ea = event_accumulator.EventAccumulator(log_path,\n",
    "        size_guidance={\n",
    "            event_accumulator.SCALARS: 0,\n",
    "        })\n",
    "    ea.Reload() # loads events from file\n",
    "    tags = ea.Tags()[\"scalars\"]\n",
    "    metrics = {\n",
    "        \n",
    "    }\n",
    "    for tag in tags:\n",
    "        metrics[tag] = ea.Scalars(tag)\n",
    "\n",
    "    return metrics"
   ]
  },
  {
   "cell_type": "code",
   "execution_count": 5,
   "metadata": {},
   "outputs": [],
   "source": [
    "# Set the path to your tensorboard log\n",
    "\n",
    "scalars = read_all_scalars(\"../outputs/vgg_VOC/tf_logs/events.out.tfevents.1616513142.jupyter_fredralm.5451.0\")\n",
    "scalars2 = read_all_scalars(\"../outputs/vgg_VOC/tf_logs/events.out.tfevents.1616517285.jupyter_fredralm.412.0\")"
   ]
  },
  {
   "cell_type": "code",
   "execution_count": 6,
   "metadata": {},
   "outputs": [
    {
     "name": "stdout",
     "output_type": "stream",
     "text": [
      "Possible scalars to plot:\n",
      "\t losses/total_loss\n",
      "\t losses/reg_loss\n",
      "\t losses/cls_loss\n",
      "\t lr\n",
      "\t metrics/voc_2007_test/mAP\n",
      "\t metrics/voc_2007_test/aeroplane\n",
      "\t metrics/voc_2007_test/bicycle\n",
      "\t metrics/voc_2007_test/bird\n",
      "\t metrics/voc_2007_test/boat\n",
      "\t metrics/voc_2007_test/bottle\n",
      "\t metrics/voc_2007_test/bus\n",
      "\t metrics/voc_2007_test/car\n",
      "\t metrics/voc_2007_test/cat\n",
      "\t metrics/voc_2007_test/chair\n",
      "\t metrics/voc_2007_test/cow\n",
      "\t metrics/voc_2007_test/diningtable\n",
      "\t metrics/voc_2007_test/dog\n",
      "\t metrics/voc_2007_test/horse\n",
      "\t metrics/voc_2007_test/motorbike\n",
      "\t metrics/voc_2007_test/person\n",
      "\t metrics/voc_2007_test/pottedplant\n",
      "\t metrics/voc_2007_test/sheep\n",
      "\t metrics/voc_2007_test/sofa\n",
      "\t metrics/voc_2007_test/train\n",
      "\t metrics/voc_2007_test/tvmonitor\n"
     ]
    }
   ],
   "source": [
    "print(\"Possible scalars to plot:\")\n",
    "for tag in scalars.keys():\n",
    "    print(\"\\t\", tag)"
   ]
  },
  {
   "cell_type": "code",
   "execution_count": 12,
   "metadata": {},
   "outputs": [
    {
     "data": {
      "image/png": "[encoded data removed]",
      "text/plain": [
       "<Figure size 432x288 with 1 Axes>"
      ]
     },
     "metadata": {
      "needs_background": "light"
     },
     "output_type": "display_data"
    }
   ],
   "source": [
    "tag_to_plot = \"metrics/voc_2007_test/mAP\"\n",
    "values = scalars[tag_to_plot] + scalars2[tag_to_plot]\n",
    "iterations = [val.step for val in values]\n",
    "values = [val.value for val in values]\n",
    "plt.ylim([0.2, 0.6])\n",
    "plt.plot(iterations, values)\n",
    "plt.savefig('mAP_task4f.png')"
   ]
  },
  {
   "cell_type": "code",
   "execution_count": 9,
   "metadata": {},
   "outputs": [],
   "source": [
    "%load_ext tensorboard"
   ]
  },
  {
   "cell_type": "code",
   "execution_count": null,
   "metadata": {},
   "outputs": [],
   "source": [
    "%load_ext tensorboard\n",
    "%tensorboard --logdir output\n"
   ]
  }
 ],
 "metadata": {
  "kernelspec": {
   "display_name": "Python 3",
   "language": "python",
   "name": "python3"
  },
  "language_info": {
   "codemirror_mode": {
    "name": "ipython",
    "version": 3
   },
   "file_extension": ".py",
   "mimetype": "text/x-python",
   "name": "python",
   "nbconvert_exporter": "python",
   "pygments_lexer": "ipython3",
   "version": "3.8.5"
  }
 },
 "nbformat": 4,
 "nbformat_minor": 4
}
