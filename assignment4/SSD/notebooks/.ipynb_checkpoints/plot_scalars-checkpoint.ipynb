{
 "cells": [
  {
   "cell_type": "code",
   "execution_count": 1,
   "metadata": {},
   "outputs": [],
   "source": [
    "import tensorflow as tf\n",
    "import matplotlib.pyplot as plt\n",
    "from tensorboard.backend.event_processing import event_accumulator"
   ]
  },
  {
   "cell_type": "code",
   "execution_count": 2,
   "metadata": {},
   "outputs": [],
   "source": [
    "def read_all_scalars(log_path):\n",
    "    ea = event_accumulator.EventAccumulator(log_path,\n",
    "        size_guidance={\n",
    "            event_accumulator.SCALARS: 0,\n",
    "        })\n",
    "    ea.Reload() # loads events from file\n",
    "    tags = ea.Tags()[\"scalars\"]\n",
    "    metrics = {\n",
    "        \n",
    "    }\n",
    "    for tag in tags:\n",
    "        metrics[tag] = ea.Scalars(tag)\n",
    "\n",
    "    return metrics"
   ]
  },
  {
   "cell_type": "code",
   "execution_count": 9,
   "metadata": {},
   "outputs": [],
   "source": [
    "# Set the path to your tensorboard log\n",
    "\n",
    "scalars = read_all_scalars(\"../outputs/basic/tf_logs/events.out.tfevents.1616083907.jupyter_fredralm.1491.0\")\n",
    "#scalars2 = read_all_scalars(\"../outputs/improved87/tf_logs/events.out.tfevents.1616167181.jupyter_fredralm.336.1\")\n",
    "#scalars3 = read_all_scalars(\"../outputs/improved87/tf_logs/events.out.tfevents.1616257740.jupyter_fredralm.329.0\")"
   ]
  },
  {
   "cell_type": "code",
   "execution_count": 10,
   "metadata": {},
   "outputs": [
    {
     "name": "stdout",
     "output_type": "stream",
     "text": [
      "Possible scalars to plot:\n",
      "\t losses/total_loss\n",
      "\t losses/reg_loss\n",
      "\t losses/cls_loss\n",
      "\t lr\n",
      "\t metrics/mnist_detection_val/mAP\n",
      "\t metrics/mnist_detection_val/0\n",
      "\t metrics/mnist_detection_val/1\n",
      "\t metrics/mnist_detection_val/2\n",
      "\t metrics/mnist_detection_val/3\n",
      "\t metrics/mnist_detection_val/4\n",
      "\t metrics/mnist_detection_val/5\n",
      "\t metrics/mnist_detection_val/6\n",
      "\t metrics/mnist_detection_val/7\n",
      "\t metrics/mnist_detection_val/8\n",
      "\t metrics/mnist_detection_val/9\n"
     ]
    }
   ],
   "source": [
    "print(\"Possible scalars to plot:\")\n",
    "for tag in scalars.keys():\n",
    "    print(\"\\t\", tag)"
   ]
  },
  {
   "cell_type": "code",
   "execution_count": 16,
   "metadata": {},
   "outputs": [
    {
     "data": {
      "image/png": "[encoded data removed]",
      "text/plain": [
       "<Figure size 432x288 with 1 Axes>"
      ]
     },
     "metadata": {
      "needs_background": "light"
     },
     "output_type": "display_data"
    }
   ],
   "source": [
    "tag_to_plot = \"metrics/mnist_detection_val/mAP\"\n",
    "values = scalars[tag_to_plot]# + scalars2[tag_to_plot] + scalars3[tag_to_plot]\n",
    "iterations = [val.step for val in values]\n",
    "values = [val.value for val in values]\n",
    "plt.ylim([0.1, 1])\n",
    "plt.plot(iterations, values)\n",
    "plt.savefig('mAP_task4b')"
   ]
  },
  {
   "cell_type": "code",
   "execution_count": 9,
   "metadata": {},
   "outputs": [],
   "source": [
    "%load_ext tensorboard"
   ]
  },
  {
   "cell_type": "code",
   "execution_count": 10,
   "metadata": {},
   "outputs": [
    {
     "name": "stdout",
     "output_type": "stream",
     "text": [
      "The tensorboard extension is already loaded. To reload it, use:\n",
      "  %reload_ext tensorboard\n"
     ]
    },
    {
     "data": {
      "text/plain": [
       "ERROR: Failed to launch TensorBoard (exited with 1).\n",
       "Contents of stderr:\n",
       "2021-03-18 16:36:13.547742: I tensorflow/stream_executor/platform/default/dso_loader.cc:49] Successfully opened dynamic library libcudart.so.11.0\n",
       "Traceback (most recent call last):\n",
       "  File \"/opt/conda/bin/tensorboard\", line 8, in <module>\n",
       "    sys.exit(run_main())\n",
       "  File \"/home/fredralm/.local/lib/python3.8/site-packages/tensorboard/main.py\", line 75, in run_main\n",
       "    app.run(tensorboard.main, flags_parser=tensorboard.configure)\n",
       "  File \"/opt/conda/lib/python3.8/site-packages/absl/app.py\", line 303, in run\n",
       "    _run_main(main, args)\n",
       "  File \"/opt/conda/lib/python3.8/site-packages/absl/app.py\", line 251, in _run_main\n",
       "    sys.exit(main(argv))\n",
       "  File \"/home/fredralm/.local/lib/python3.8/site-packages/tensorboard/program.py\", line 289, in main\n",
       "    return runner(self.flags) or 0\n",
       "  File \"/home/fredralm/.local/lib/python3.8/site-packages/tensorboard/program.py\", line 305, in _run_serve_subcommand\n",
       "    server = self._make_server()\n",
       "  File \"/home/fredralm/.local/lib/python3.8/site-packages/tensorboard/program.py\", line 414, in _make_server\n",
       "    app = application.TensorBoardWSGIApp(\n",
       "  File \"/home/fredralm/.local/lib/python3.8/site-packages/tensorboard/backend/application.py\", line 143, in TensorBoardWSGIApp\n",
       "    return TensorBoardWSGI(\n",
       "  File \"/home/fredralm/.local/lib/python3.8/site-packages/tensorboard/backend/application.py\", line 256, in __init__\n",
       "    raise ValueError(\n",
       "ValueError: Duplicate plugins for name projector"
      ]
     },
     "metadata": {},
     "output_type": "display_data"
    }
   ],
   "source": [
    "%load_ext tensorboard\n",
    "%tensorboard --logdir output\n"
   ]
  }
 ],
 "metadata": {
  "kernelspec": {
   "display_name": "Python 3",
   "language": "python",
   "name": "python3"
  },
  "language_info": {
   "codemirror_mode": {
    "name": "ipython",
    "version": 3
   },
   "file_extension": ".py",
   "mimetype": "text/x-python",
   "name": "python",
   "nbconvert_exporter": "python",
   "pygments_lexer": "ipython3",
   "version": "3.8.5"
  }
 },
 "nbformat": 4,
 "nbformat_minor": 4
}
