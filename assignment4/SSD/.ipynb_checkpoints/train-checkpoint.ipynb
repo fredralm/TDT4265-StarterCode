{
 "cells": [
  {
   "cell_type": "code",
   "execution_count": null,
   "metadata": {},
   "outputs": [],
   "source": [
    "%load_ext autoreload"
   ]
  },
  {
   "cell_type": "code",
   "execution_count": 2,
   "metadata": {},
   "outputs": [],
   "source": [
    "%autoreload \n",
    "import logging\n",
    "import os\n",
    "import pathlib\n",
    "import torch\n",
    "from ssd.engine.inference import do_evaluation\n",
    "from ssd.config.defaults import cfg\n",
    "from ssd.utils.logger import setup_logger\n",
    "from train import start_train"
   ]
  },
  {
   "cell_type": "code",
   "execution_count": 3,
   "metadata": {},
   "outputs": [
    {
     "name": "stdout",
     "output_type": "stream",
     "text": [
      "2021-03-22 17:53:05,789 SSD INFO: Loaded configuration file configs/mnist_tdt4265_server.yaml\n",
      "2021-03-22 17:53:05,791 SSD INFO: \n",
      "MODEL:\n",
      "    NUM_CLASSES: 11\n",
      "    THRESHOLD: 0.6\n",
      "    BACKBONE:\n",
      "        NAME: 'improved'\n",
      "        PRETRAINED: False\n",
      "        OUT_CHANNELS: [512, 1024, 512, 512, 256, 256]\n",
      "        INPUT_CHANNELS: 3\n",
      "    PRIORS:\n",
      "        MIN_SIZES: [[20, 20], [60, 60], [111, 111], [162, 162], [213, 213], [264, 264]]\n",
      "        MAX_SIZES: [[60, 60], [111, 111], [162, 162], [213, 213], [264, 264], [315, 315]]\n",
      "        ASPECT_RATIOS: [[2], [2, 3], [2, 3], [2, 3], [2], [2]]\n",
      "        BOXES_PER_LOCATION: [4, 6, 6, 6, 4, 4]\n",
      "INPUT:\n",
      "    IMAGE_SIZE: [300, 300]\n",
      "    PIXEL_MEAN: [123.675, 116.280, 103.530]\n",
      "    PIXEL_STD: [1, 1, 1]\n",
      "DATASETS:\n",
      "    TRAIN: (\"mnist_detection_train\", \"mnist_detection_val\")\n",
      "    TEST: (\"mnist_detection_val\", )\n",
      "SOLVER:\n",
      "    MAX_ITER: 15000\n",
      "    GAMMA: 0.1\n",
      "    BATCH_SIZE: 16\n",
      "    LR: 1e-3\n",
      "OUTPUT_DIR: 'outputs/improved'\n",
      "DATASET_DIR: \"/work/datasets\"\n",
      "\n",
      "2021-03-22 17:53:05,793 SSD INFO: Running with config:\n",
      "DATASETS:\n",
      "  TEST: ('mnist_detection_val',)\n",
      "  TRAIN: ('mnist_detection_train', 'mnist_detection_val')\n",
      "DATASET_DIR: /work/datasets\n",
      "DATA_LOADER:\n",
      "  NUM_WORKERS: 4\n",
      "  PIN_MEMORY: True\n",
      "EVAL_STEP: 500\n",
      "INPUT:\n",
      "  IMAGE_SIZE: [300, 300]\n",
      "  PIXEL_MEAN: [123.675, 116.28, 103.53]\n",
      "  PIXEL_STD: [1, 1, 1]\n",
      "LOG_STEP: 10\n",
      "MODEL:\n",
      "  BACKBONE:\n",
      "    INPUT_CHANNELS: 3\n",
      "    NAME: improved\n",
      "    OUT_CHANNELS: (512, 1024, 512, 512, 256, 256)\n",
      "    PRETRAINED: False\n",
      "  CENTER_VARIANCE: 0.1\n",
      "  NEG_POS_RATIO: 3\n",
      "  NUM_CLASSES: 11\n",
      "  PRIORS:\n",
      "    ASPECT_RATIOS: [[2], [2, 3], [2, 3], [2, 3], [2], [2]]\n",
      "    BOXES_PER_LOCATION: [4, 6, 6, 6, 4, 4]\n",
      "    CLIP: True\n",
      "    FEATURE_MAPS: [[38, 38], [19, 19], [10, 10], [5, 5], [3, 3], [1, 1]]\n",
      "    MAX_SIZES: [[60, 60], [111, 111], [162, 162], [213, 213], [264, 264], [315, 315]]\n",
      "    MIN_SIZES: [[20, 20], [60, 60], [111, 111], [162, 162], [213, 213], [264, 264]]\n",
      "    STRIDES: [[8, 8], [16, 16], [32, 32], [64, 64], [100, 100], [300, 300]]\n",
      "  SIZE_VARIANCE: 0.2\n",
      "  THRESHOLD: 0.6\n",
      "MODEL_SAVE_STEP: 500\n",
      "OUTPUT_DIR: outputs/improved\n",
      "SOLVER:\n",
      "  BATCH_SIZE: 16\n",
      "  GAMMA: 0.1\n",
      "  LR: 0.001\n",
      "  MAX_ITER: 15000\n",
      "  MOMENTUM: 0.9\n",
      "  WEIGHT_DECAY: 0.0005\n",
      "TEST:\n",
      "  BATCH_SIZE: 10\n",
      "  CONFIDENCE_THRESHOLD: 0.01\n",
      "  MAX_PER_CLASS: -1\n",
      "  MAX_PER_IMAGE: 100\n",
      "  NMS_THRESHOLD: 0.45\n"
     ]
    }
   ],
   "source": [
    "config_file = \"configs/mnist_tdt4265_server.yaml\"\n",
    "\n",
    "cfg.merge_from_file(config_file)\n",
    "cfg.freeze()\n",
    "output_dir = pathlib.Path(cfg.OUTPUT_DIR)\n",
    "output_dir.mkdir(exist_ok=True, parents=True)\n",
    "\n",
    "logger = setup_logger(\"SSD\", output_dir)\n",
    "\n",
    "logger.info(\"Loaded configuration file {}\".format(config_file))\n",
    "with open(config_file, \"r\") as cf:\n",
    "    config_str = \"\\n\" + cf.read()\n",
    "    logger.info(config_str)\n",
    "logger.info(\"Running with config:\\n{}\".format(cfg))\n"
   ]
  },
  {
   "cell_type": "code",
   "execution_count": 4,
   "metadata": {},
   "outputs": [
    {
     "name": "stdout",
     "output_type": "stream",
     "text": [
      "Detector initialized. Total Number of params:  36.15M\n",
      "Backbone number of parameters: 33.94M\n",
      "SSD Head number of parameters: 2.21M\n",
      "2021-03-22 17:53:10,903 SSD.trainer INFO: No checkpoint found.\n",
      "2021-03-22 17:53:12,171 SSD.trainer INFO: Start training ...\n",
      "2021-03-22 17:53:27,263 SSD.trainer INFO: iter: 000010, lr: 0.00100, total_loss: 26.920 (26.920), reg_loss: 4.058 (4.058), cls_loss: 22.862 (22.862), time: 1.389 (1.389), eta: 5:46:57, mem: 12309M\n",
      "2021-03-22 17:53:31,507 SSD.trainer INFO: iter: 000020, lr: 0.00100, total_loss: 26.247 (26.584), reg_loss: 3.214 (3.636), cls_loss: 23.034 (22.948), time: 0.424 (0.907), eta: 3:46:20, mem: 12309M\n",
      "2021-03-22 17:53:35,767 SSD.trainer INFO: iter: 000030, lr: 0.00100, total_loss: 25.804 (26.324), reg_loss: 2.542 (3.271), cls_loss: 23.262 (23.053), time: 0.426 (0.746), eta: 3:06:13, mem: 12309M\n",
      "2021-03-22 17:53:40,042 SSD.trainer INFO: iter: 000040, lr: 0.00100, total_loss: 24.054 (25.756), reg_loss: 2.360 (3.043), cls_loss: 21.694 (22.713), time: 0.428 (0.667), eta: 2:46:13, mem: 12309M\n",
      "2021-03-22 17:53:44,351 SSD.trainer INFO: iter: 000050, lr: 0.00100, total_loss: 20.117 (24.629), reg_loss: 1.896 (2.814), cls_loss: 18.221 (21.815), time: 0.431 (0.620), eta: 2:34:21, mem: 12309M\n",
      "2021-03-22 17:53:48,659 SSD.trainer INFO: iter: 000060, lr: 0.00100, total_loss: 14.096 (22.873), reg_loss: 1.659 (2.621), cls_loss: 12.438 (20.252), time: 0.431 (0.588), eta: 2:26:25, mem: 12309M\n",
      "2021-03-22 17:53:52,982 SSD.trainer INFO: iter: 000070, lr: 0.00100, total_loss: 13.270 (21.501), reg_loss: 1.473 (2.457), cls_loss: 11.797 (19.044), time: 0.432 (0.566), eta: 2:20:47, mem: 12309M\n",
      "2021-03-22 17:53:57,292 SSD.trainer INFO: iter: 000080, lr: 0.00100, total_loss: 7.326 (19.729), reg_loss: 1.371 (2.322), cls_loss: 5.956 (17.408), time: 0.431 (0.549), eta: 2:16:30, mem: 12309M\n",
      "2021-03-22 17:54:01,596 SSD.trainer INFO: iter: 000090, lr: 0.00100, total_loss: 6.080 (18.213), reg_loss: 1.147 (2.191), cls_loss: 4.933 (16.022), time: 0.430 (0.536), eta: 2:13:08, mem: 12309M\n",
      "2021-03-22 17:54:05,899 SSD.trainer INFO: iter: 000100, lr: 0.00100, total_loss: 5.346 (16.926), reg_loss: 1.060 (2.078), cls_loss: 4.285 (14.848), time: 0.430 (0.525), eta: 2:10:26, mem: 12309M\n",
      "2021-03-22 17:54:10,194 SSD.trainer INFO: iter: 000110, lr: 0.00100, total_loss: 4.787 (15.823), reg_loss: 0.975 (1.978), cls_loss: 3.812 (13.845), time: 0.430 (0.517), eta: 2:08:11, mem: 12309M\n",
      "2021-03-22 17:54:14,486 SSD.trainer INFO: iter: 000120, lr: 0.00100, total_loss: 4.632 (14.890), reg_loss: 0.918 (1.889), cls_loss: 3.714 (13.001), time: 0.429 (0.509), eta: 2:06:17, mem: 12309M\n",
      "2021-03-22 17:54:18,752 SSD.trainer INFO: iter: 000130, lr: 0.00100, total_loss: 4.337 (14.078), reg_loss: 0.863 (1.811), cls_loss: 3.474 (12.268), time: 0.427 (0.503), eta: 2:04:38, mem: 12309M\n",
      "2021-03-22 17:54:23,078 SSD.trainer INFO: iter: 000140, lr: 0.00100, total_loss: 4.232 (13.375), reg_loss: 0.820 (1.740), cls_loss: 3.412 (11.635), time: 0.433 (0.498), eta: 2:03:18, mem: 12309M\n",
      "2021-03-22 17:54:27,380 SSD.trainer INFO: iter: 000150, lr: 0.00100, total_loss: 4.061 (12.754), reg_loss: 0.821 (1.679), cls_loss: 3.239 (11.075), time: 0.430 (0.493), eta: 2:02:06, mem: 12309M\n",
      "2021-03-22 17:54:31,704 SSD.trainer INFO: iter: 000160, lr: 0.00100, total_loss: 3.977 (12.205), reg_loss: 0.769 (1.622), cls_loss: 3.209 (10.584), time: 0.433 (0.490), eta: 2:01:04, mem: 12309M\n",
      "2021-03-22 17:54:36,004 SSD.trainer INFO: iter: 000170, lr: 0.00100, total_loss: 4.035 (11.725), reg_loss: 0.827 (1.575), cls_loss: 3.208 (10.150), time: 0.430 (0.486), eta: 2:00:08, mem: 12309M\n",
      "2021-03-22 17:54:40,307 SSD.trainer INFO: iter: 000180, lr: 0.00100, total_loss: 3.865 (11.288), reg_loss: 0.766 (1.530), cls_loss: 3.099 (9.758), time: 0.430 (0.483), eta: 1:59:17, mem: 12309M\n",
      "2021-03-22 17:54:44,623 SSD.trainer INFO: iter: 000190, lr: 0.00100, total_loss: 3.850 (10.897), reg_loss: 0.825 (1.493), cls_loss: 3.025 (9.404), time: 0.432 (0.480), eta: 1:58:32, mem: 12309M\n",
      "2021-03-22 17:54:48,962 SSD.trainer INFO: iter: 000200, lr: 0.00100, total_loss: 3.741 (10.539), reg_loss: 0.789 (1.458), cls_loss: 2.952 (9.081), time: 0.434 (0.478), eta: 1:57:53, mem: 12309M\n",
      "2021-03-22 17:54:53,282 SSD.trainer INFO: iter: 000210, lr: 0.00100, total_loss: 3.781 (10.217), reg_loss: 0.783 (1.426), cls_loss: 2.998 (8.792), time: 0.432 (0.476), eta: 1:57:16, mem: 12309M\n",
      "2021-03-22 17:54:57,610 SSD.trainer INFO: iter: 000220, lr: 0.00100, total_loss: 3.659 (9.919), reg_loss: 0.748 (1.395), cls_loss: 2.911 (8.524), time: 0.433 (0.474), eta: 1:56:42, mem: 12309M\n",
      "2021-03-22 17:55:01,922 SSD.trainer INFO: iter: 000230, lr: 0.00100, total_loss: 3.651 (9.647), reg_loss: 0.734 (1.366), cls_loss: 2.917 (8.280), time: 0.431 (0.472), eta: 1:56:10, mem: 12309M\n",
      "2021-03-22 17:55:06,251 SSD.trainer INFO: iter: 000240, lr: 0.00100, total_loss: 3.608 (9.395), reg_loss: 0.739 (1.340), cls_loss: 2.869 (8.055), time: 0.433 (0.470), eta: 1:55:41, mem: 12309M\n",
      "2021-03-22 17:55:10,591 SSD.trainer INFO: iter: 000250, lr: 0.00100, total_loss: 3.637 (9.165), reg_loss: 0.736 (1.316), cls_loss: 2.901 (7.849), time: 0.434 (0.469), eta: 1:55:15, mem: 12309M\n",
      "2021-03-22 17:55:14,928 SSD.trainer INFO: iter: 000260, lr: 0.00100, total_loss: 3.454 (8.945), reg_loss: 0.699 (1.292), cls_loss: 2.755 (7.653), time: 0.434 (0.468), eta: 1:54:51, mem: 12309M\n",
      "2021-03-22 17:55:19,265 SSD.trainer INFO: iter: 000270, lr: 0.00100, total_loss: 3.474 (8.742), reg_loss: 0.717 (1.271), cls_loss: 2.758 (7.472), time: 0.434 (0.466), eta: 1:54:27, mem: 12309M\n",
      "2021-03-22 17:55:23,599 SSD.trainer INFO: iter: 000280, lr: 0.00100, total_loss: 3.422 (8.552), reg_loss: 0.711 (1.251), cls_loss: 2.711 (7.302), time: 0.433 (0.465), eta: 1:54:06, mem: 12309M\n",
      "2021-03-22 17:55:27,938 SSD.trainer INFO: iter: 000290, lr: 0.00100, total_loss: 3.469 (8.377), reg_loss: 0.733 (1.233), cls_loss: 2.736 (7.144), time: 0.434 (0.464), eta: 1:53:45, mem: 12309M\n",
      "2021-03-22 17:55:32,280 SSD.trainer INFO: iter: 000300, lr: 0.00100, total_loss: 3.466 (8.213), reg_loss: 0.701 (1.215), cls_loss: 2.765 (6.998), time: 0.434 (0.463), eta: 1:53:26, mem: 12309M\n",
      "2021-03-22 17:55:36,621 SSD.trainer INFO: iter: 000310, lr: 0.00100, total_loss: 3.276 (8.054), reg_loss: 0.662 (1.197), cls_loss: 2.615 (6.857), time: 0.434 (0.462), eta: 1:53:08, mem: 12309M\n",
      "2021-03-22 17:55:40,980 SSD.trainer INFO: iter: 000320, lr: 0.00100, total_loss: 3.432 (7.910), reg_loss: 0.705 (1.182), cls_loss: 2.727 (6.728), time: 0.436 (0.461), eta: 1:52:51, mem: 12309M\n",
      "2021-03-22 17:55:45,334 SSD.trainer INFO: iter: 000330, lr: 0.00100, total_loss: 3.298 (7.770), reg_loss: 0.656 (1.166), cls_loss: 2.642 (6.604), time: 0.435 (0.460), eta: 1:52:35, mem: 12309M\n",
      "2021-03-22 17:55:49,682 SSD.trainer INFO: iter: 000340, lr: 0.00100, total_loss: 3.202 (7.636), reg_loss: 0.653 (1.151), cls_loss: 2.549 (6.485), time: 0.435 (0.460), eta: 1:52:19, mem: 12309M\n",
      "2021-03-22 17:55:54,039 SSD.trainer INFO: iter: 000350, lr: 0.00100, total_loss: 3.227 (7.510), reg_loss: 0.656 (1.137), cls_loss: 2.571 (6.373), time: 0.436 (0.459), eta: 1:52:04, mem: 12309M\n",
      "2021-03-22 17:55:58,389 SSD.trainer INFO: iter: 000360, lr: 0.00100, total_loss: 3.215 (7.390), reg_loss: 0.658 (1.123), cls_loss: 2.557 (6.267), time: 0.435 (0.458), eta: 1:51:50, mem: 12309M\n",
      "2021-03-22 17:56:02,740 SSD.trainer INFO: iter: 000370, lr: 0.00100, total_loss: 3.221 (7.278), reg_loss: 0.624 (1.110), cls_loss: 2.597 (6.168), time: 0.435 (0.458), eta: 1:51:36, mem: 12309M\n",
      "2021-03-22 17:56:07,098 SSD.trainer INFO: iter: 000380, lr: 0.00100, total_loss: 3.162 (7.169), reg_loss: 0.617 (1.097), cls_loss: 2.545 (6.072), time: 0.436 (0.457), eta: 1:51:23, mem: 12309M\n",
      "2021-03-22 17:56:11,441 SSD.trainer INFO: iter: 000390, lr: 0.00100, total_loss: 3.187 (7.067), reg_loss: 0.657 (1.086), cls_loss: 2.530 (5.981), time: 0.434 (0.457), eta: 1:51:10, mem: 12309M\n",
      "2021-03-22 17:56:15,798 SSD.trainer INFO: iter: 000400, lr: 0.00100, total_loss: 3.159 (6.969), reg_loss: 0.648 (1.075), cls_loss: 2.510 (5.895), time: 0.436 (0.456), eta: 1:50:58, mem: 12309M\n",
      "2021-03-22 17:56:20,162 SSD.trainer INFO: iter: 000410, lr: 0.00100, total_loss: 3.172 (6.877), reg_loss: 0.634 (1.064), cls_loss: 2.538 (5.813), time: 0.436 (0.456), eta: 1:50:46, mem: 12309M\n",
      "2021-03-22 17:56:24,499 SSD.trainer INFO: iter: 000420, lr: 0.00100, total_loss: 3.112 (6.787), reg_loss: 0.634 (1.054), cls_loss: 2.477 (5.733), time: 0.434 (0.455), eta: 1:50:34, mem: 12309M\n",
      "2021-03-22 17:56:28,848 SSD.trainer INFO: iter: 000430, lr: 0.00100, total_loss: 3.126 (6.702), reg_loss: 0.632 (1.044), cls_loss: 2.493 (5.658), time: 0.435 (0.455), eta: 1:50:23, mem: 12309M\n",
      "2021-03-22 17:56:33,211 SSD.trainer INFO: iter: 000440, lr: 0.00100, total_loss: 3.098 (6.620), reg_loss: 0.643 (1.035), cls_loss: 2.456 (5.585), time: 0.436 (0.454), eta: 1:50:12, mem: 12309M\n",
      "2021-03-22 17:56:37,571 SSD.trainer INFO: iter: 000450, lr: 0.00100, total_loss: 3.092 (6.542), reg_loss: 0.610 (1.025), cls_loss: 2.481 (5.516), time: 0.436 (0.454), eta: 1:50:02, mem: 12309M\n",
      "2021-03-22 17:56:41,923 SSD.trainer INFO: iter: 000460, lr: 0.00100, total_loss: 3.060 (6.466), reg_loss: 0.626 (1.017), cls_loss: 2.434 (5.449), time: 0.435 (0.453), eta: 1:49:51, mem: 12309M\n",
      "2021-03-22 17:56:46,270 SSD.trainer INFO: iter: 000470, lr: 0.00100, total_loss: 3.112 (6.395), reg_loss: 0.631 (1.009), cls_loss: 2.481 (5.386), time: 0.435 (0.453), eta: 1:49:41, mem: 12309M\n",
      "2021-03-22 17:56:50,622 SSD.trainer INFO: iter: 000480, lr: 0.00100, total_loss: 3.060 (6.325), reg_loss: 0.621 (1.000), cls_loss: 2.439 (5.325), time: 0.435 (0.453), eta: 1:49:31, mem: 12309M\n",
      "2021-03-22 17:56:54,987 SSD.trainer INFO: iter: 000490, lr: 0.00100, total_loss: 2.999 (6.257), reg_loss: 0.597 (0.992), cls_loss: 2.402 (5.265), time: 0.437 (0.452), eta: 1:49:22, mem: 12309M\n",
      "2021-03-22 17:56:59,346 SSD.trainer INFO: iter: 000500, lr: 0.00100, total_loss: 2.915 (6.190), reg_loss: 0.579 (0.984), cls_loss: 2.336 (5.207), time: 0.436 (0.452), eta: 1:49:13, mem: 12309M\n",
      "2021-03-22 17:56:59,627 SSD.trainer INFO: Saving checkpoint to outputs/improved/model_000500.pth\n",
      "2021-03-22 17:57:00,176 SSD.inference INFO: Evaluating mnist_detection_val dataset(1000 images):\n"
     ]
    },
    {
     "name": "stderr",
     "output_type": "stream",
     "text": [
      "100%|██████████| 100/100 [00:12<00:00,  8.05it/s]\n"
     ]
    },
    {
     "name": "stdout",
     "output_type": "stream",
     "text": [
      "2021-03-22 17:57:13,198 SSD.inference INFO: mAP: 0.7593\n",
      "0               : 0.8252\n",
      "1               : 0.6697\n",
      "2               : 0.7463\n",
      "3               : 0.7786\n",
      "4               : 0.7923\n",
      "5               : 0.7867\n",
      "6               : 0.7640\n",
      "7               : 0.7681\n",
      "8               : 0.7534\n",
      "9               : 0.7087\n",
      "\n",
      "2021-03-22 17:57:17,438 SSD.trainer INFO: iter: 000510, lr: 0.00100, total_loss: 3.030 (6.129), reg_loss: 0.603 (0.976), cls_loss: 2.426 (5.152), time: 1.809 (0.479), eta: 1:55:34, mem: 12309M\n",
      "2021-03-22 17:57:21,800 SSD.trainer INFO: iter: 000520, lr: 0.00100, total_loss: 2.932 (6.067), reg_loss: 0.601 (0.969), cls_loss: 2.331 (5.098), time: 0.436 (0.478), eta: 1:55:17, mem: 12309M\n",
      "2021-03-22 17:57:26,164 SSD.trainer INFO: iter: 000530, lr: 0.00100, total_loss: 2.976 (6.009), reg_loss: 0.603 (0.962), cls_loss: 2.374 (5.046), time: 0.436 (0.477), eta: 1:55:01, mem: 12309M\n",
      "2021-03-22 17:57:30,521 SSD.trainer INFO: iter: 000540, lr: 0.00100, total_loss: 2.919 (5.951), reg_loss: 0.580 (0.955), cls_loss: 2.339 (4.996), time: 0.436 (0.476), eta: 1:54:45, mem: 12309M\n",
      "2021-03-22 17:57:34,878 SSD.trainer INFO: iter: 000550, lr: 0.00100, total_loss: 2.949 (5.897), reg_loss: 0.590 (0.949), cls_loss: 2.359 (4.948), time: 0.436 (0.475), eta: 1:54:30, mem: 12309M\n",
      "2021-03-22 17:57:39,233 SSD.trainer INFO: iter: 000560, lr: 0.00100, total_loss: 2.960 (5.844), reg_loss: 0.618 (0.943), cls_loss: 2.342 (4.902), time: 0.436 (0.475), eta: 1:54:15, mem: 12309M\n",
      "2021-03-22 17:57:43,592 SSD.trainer INFO: iter: 000570, lr: 0.00100, total_loss: 2.921 (5.793), reg_loss: 0.578 (0.936), cls_loss: 2.343 (4.857), time: 0.436 (0.474), eta: 1:54:00, mem: 12309M\n",
      "2021-03-22 17:57:47,951 SSD.trainer INFO: iter: 000580, lr: 0.00100, total_loss: 3.016 (5.745), reg_loss: 0.625 (0.931), cls_loss: 2.391 (4.814), time: 0.436 (0.473), eta: 1:53:46, mem: 12309M\n",
      "2021-03-22 17:57:52,287 SSD.trainer INFO: iter: 000590, lr: 0.00100, total_loss: 2.950 (5.698), reg_loss: 0.586 (0.925), cls_loss: 2.364 (4.773), time: 0.434 (0.473), eta: 1:53:32, mem: 12309M\n",
      "2021-03-22 17:57:56,643 SSD.trainer INFO: iter: 000600, lr: 0.00100, total_loss: 2.889 (5.651), reg_loss: 0.556 (0.919), cls_loss: 2.332 (4.732), time: 0.436 (0.472), eta: 1:53:18, mem: 12309M\n",
      "2021-03-22 17:58:00,998 SSD.trainer INFO: iter: 000610, lr: 0.00100, total_loss: 2.849 (5.605), reg_loss: 0.576 (0.913), cls_loss: 2.273 (4.692), time: 0.436 (0.472), eta: 1:53:05, mem: 12309M\n",
      "2021-03-22 17:58:05,352 SSD.trainer INFO: iter: 000620, lr: 0.00100, total_loss: 2.898 (5.562), reg_loss: 0.606 (0.908), cls_loss: 2.293 (4.653), time: 0.435 (0.471), eta: 1:52:51, mem: 12309M\n",
      "2021-03-22 17:58:09,705 SSD.trainer INFO: iter: 000630, lr: 0.00100, total_loss: 2.871 (5.519), reg_loss: 0.599 (0.903), cls_loss: 2.272 (4.615), time: 0.435 (0.470), eta: 1:52:39, mem: 12309M\n",
      "2021-03-22 17:58:14,063 SSD.trainer INFO: iter: 000640, lr: 0.00100, total_loss: 2.775 (5.476), reg_loss: 0.548 (0.898), cls_loss: 2.227 (4.578), time: 0.436 (0.470), eta: 1:52:26, mem: 12309M\n",
      "2021-03-22 17:58:18,414 SSD.trainer INFO: iter: 000650, lr: 0.00100, total_loss: 2.793 (5.435), reg_loss: 0.569 (0.893), cls_loss: 2.224 (4.542), time: 0.435 (0.469), eta: 1:52:14, mem: 12309M\n",
      "2021-03-22 17:58:22,774 SSD.trainer INFO: iter: 000660, lr: 0.00100, total_loss: 2.838 (5.395), reg_loss: 0.571 (0.888), cls_loss: 2.267 (4.507), time: 0.436 (0.469), eta: 1:52:02, mem: 12309M\n",
      "2021-03-22 17:58:27,122 SSD.trainer INFO: iter: 000670, lr: 0.00100, total_loss: 2.774 (5.356), reg_loss: 0.573 (0.883), cls_loss: 2.201 (4.473), time: 0.435 (0.468), eta: 1:51:50, mem: 12309M\n",
      "2021-03-22 17:58:31,462 SSD.trainer INFO: iter: 000680, lr: 0.00100, total_loss: 2.930 (5.320), reg_loss: 0.616 (0.879), cls_loss: 2.314 (4.441), time: 0.434 (0.468), eta: 1:51:38, mem: 12309M\n",
      "2021-03-22 17:58:35,834 SSD.trainer INFO: iter: 000690, lr: 0.00100, total_loss: 2.903 (5.285), reg_loss: 0.596 (0.875), cls_loss: 2.307 (4.410), time: 0.437 (0.467), eta: 1:51:27, mem: 12309M\n",
      "2021-03-22 17:58:40,179 SSD.trainer INFO: iter: 000700, lr: 0.00100, total_loss: 2.808 (5.250), reg_loss: 0.574 (0.871), cls_loss: 2.234 (4.379), time: 0.435 (0.467), eta: 1:51:16, mem: 12309M\n",
      "2021-03-22 17:58:44,532 SSD.trainer INFO: iter: 000710, lr: 0.00100, total_loss: 2.721 (5.214), reg_loss: 0.568 (0.867), cls_loss: 2.153 (4.348), time: 0.435 (0.466), eta: 1:51:05, mem: 12309M\n",
      "2021-03-22 17:58:48,886 SSD.trainer INFO: iter: 000720, lr: 0.00100, total_loss: 2.753 (5.180), reg_loss: 0.577 (0.863), cls_loss: 2.176 (4.318), time: 0.435 (0.466), eta: 1:50:54, mem: 12309M\n",
      "2021-03-22 17:58:53,242 SSD.trainer INFO: iter: 000730, lr: 0.00100, total_loss: 2.638 (5.145), reg_loss: 0.551 (0.858), cls_loss: 2.087 (4.287), time: 0.436 (0.466), eta: 1:50:43, mem: 12309M\n",
      "2021-03-22 17:58:57,592 SSD.trainer INFO: iter: 000740, lr: 0.00100, total_loss: 2.726 (5.113), reg_loss: 0.530 (0.854), cls_loss: 2.196 (4.259), time: 0.435 (0.465), eta: 1:50:33, mem: 12309M\n",
      "2021-03-22 17:59:01,959 SSD.trainer INFO: iter: 000750, lr: 0.00100, total_loss: 2.714 (5.081), reg_loss: 0.546 (0.850), cls_loss: 2.169 (4.231), time: 0.437 (0.465), eta: 1:50:23, mem: 12309M\n",
      "2021-03-22 17:59:06,314 SSD.trainer INFO: iter: 000760, lr: 0.00100, total_loss: 2.667 (5.049), reg_loss: 0.542 (0.846), cls_loss: 2.126 (4.203), time: 0.435 (0.464), eta: 1:50:12, mem: 12309M\n",
      "2021-03-22 17:59:10,678 SSD.trainer INFO: iter: 000770, lr: 0.00100, total_loss: 2.797 (5.020), reg_loss: 0.573 (0.842), cls_loss: 2.224 (4.178), time: 0.436 (0.464), eta: 1:50:03, mem: 12309M\n",
      "2021-03-22 17:59:15,032 SSD.trainer INFO: iter: 000780, lr: 0.00100, total_loss: 2.623 (4.989), reg_loss: 0.527 (0.838), cls_loss: 2.096 (4.151), time: 0.435 (0.464), eta: 1:49:53, mem: 12309M\n",
      "2021-03-22 17:59:19,391 SSD.trainer INFO: iter: 000790, lr: 0.00100, total_loss: 2.662 (4.960), reg_loss: 0.532 (0.834), cls_loss: 2.130 (4.125), time: 0.436 (0.463), eta: 1:49:43, mem: 12309M\n",
      "2021-03-22 17:59:23,744 SSD.trainer INFO: iter: 000800, lr: 0.00100, total_loss: 2.679 (4.931), reg_loss: 0.531 (0.831), cls_loss: 2.148 (4.101), time: 0.435 (0.463), eta: 1:49:34, mem: 12309M\n",
      "2021-03-22 17:59:28,103 SSD.trainer INFO: iter: 000810, lr: 0.00100, total_loss: 2.748 (4.904), reg_loss: 0.549 (0.827), cls_loss: 2.200 (4.077), time: 0.436 (0.463), eta: 1:49:24, mem: 12309M\n",
      "2021-03-22 17:59:32,454 SSD.trainer INFO: iter: 000820, lr: 0.00100, total_loss: 2.698 (4.877), reg_loss: 0.510 (0.823), cls_loss: 2.188 (4.054), time: 0.435 (0.462), eta: 1:49:15, mem: 12309M\n",
      "2021-03-22 17:59:36,798 SSD.trainer INFO: iter: 000830, lr: 0.00100, total_loss: 2.651 (4.850), reg_loss: 0.550 (0.820), cls_loss: 2.101 (4.031), time: 0.434 (0.462), eta: 1:49:05, mem: 12309M\n",
      "2021-03-22 17:59:41,150 SSD.trainer INFO: iter: 000840, lr: 0.00100, total_loss: 2.652 (4.824), reg_loss: 0.543 (0.817), cls_loss: 2.109 (4.008), time: 0.435 (0.462), eta: 1:48:56, mem: 12309M\n",
      "2021-03-22 17:59:45,514 SSD.trainer INFO: iter: 000850, lr: 0.00100, total_loss: 2.651 (4.799), reg_loss: 0.537 (0.813), cls_loss: 2.114 (3.985), time: 0.436 (0.461), eta: 1:48:47, mem: 12309M\n",
      "2021-03-22 17:59:49,871 SSD.trainer INFO: iter: 000860, lr: 0.00100, total_loss: 2.646 (4.774), reg_loss: 0.528 (0.810), cls_loss: 2.118 (3.964), time: 0.436 (0.461), eta: 1:48:39, mem: 12309M\n",
      "2021-03-22 17:59:54,228 SSD.trainer INFO: iter: 000870, lr: 0.00100, total_loss: 2.538 (4.748), reg_loss: 0.502 (0.806), cls_loss: 2.037 (3.941), time: 0.436 (0.461), eta: 1:48:30, mem: 12309M\n",
      "2021-03-22 17:59:58,590 SSD.trainer INFO: iter: 000880, lr: 0.00100, total_loss: 2.597 (4.723), reg_loss: 0.515 (0.803), cls_loss: 2.083 (3.920), time: 0.436 (0.460), eta: 1:48:21, mem: 12309M\n",
      "2021-03-22 18:00:02,932 SSD.trainer INFO: iter: 000890, lr: 0.00100, total_loss: 2.656 (4.700), reg_loss: 0.527 (0.800), cls_loss: 2.129 (3.900), time: 0.434 (0.460), eta: 1:48:13, mem: 12309M\n",
      "2021-03-22 18:00:07,282 SSD.trainer INFO: iter: 000900, lr: 0.00100, total_loss: 2.589 (4.677), reg_loss: 0.518 (0.797), cls_loss: 2.071 (3.880), time: 0.435 (0.460), eta: 1:48:04, mem: 12309M\n",
      "2021-03-22 18:00:11,644 SSD.trainer INFO: iter: 000910, lr: 0.00100, total_loss: 2.594 (4.654), reg_loss: 0.522 (0.794), cls_loss: 2.072 (3.860), time: 0.436 (0.460), eta: 1:47:56, mem: 12309M\n",
      "2021-03-22 18:00:15,997 SSD.trainer INFO: iter: 000920, lr: 0.00100, total_loss: 2.590 (4.631), reg_loss: 0.511 (0.791), cls_loss: 2.079 (3.841), time: 0.435 (0.459), eta: 1:47:47, mem: 12309M\n",
      "2021-03-22 18:00:20,362 SSD.trainer INFO: iter: 000930, lr: 0.00100, total_loss: 2.564 (4.609), reg_loss: 0.510 (0.788), cls_loss: 2.054 (3.821), time: 0.437 (0.459), eta: 1:47:39, mem: 12309M\n",
      "2021-03-22 18:00:24,718 SSD.trainer INFO: iter: 000940, lr: 0.00100, total_loss: 2.489 (4.587), reg_loss: 0.484 (0.785), cls_loss: 2.005 (3.802), time: 0.436 (0.459), eta: 1:47:31, mem: 12309M\n",
      "2021-03-22 18:00:29,084 SSD.trainer INFO: iter: 000950, lr: 0.00100, total_loss: 2.658 (4.566), reg_loss: 0.527 (0.782), cls_loss: 2.131 (3.785), time: 0.437 (0.459), eta: 1:47:23, mem: 12309M\n",
      "2021-03-22 18:00:33,435 SSD.trainer INFO: iter: 000960, lr: 0.00100, total_loss: 2.613 (4.546), reg_loss: 0.503 (0.779), cls_loss: 2.111 (3.767), time: 0.435 (0.458), eta: 1:47:15, mem: 12309M\n",
      "2021-03-22 18:00:37,784 SSD.trainer INFO: iter: 000970, lr: 0.00100, total_loss: 2.537 (4.525), reg_loss: 0.500 (0.776), cls_loss: 2.037 (3.749), time: 0.435 (0.458), eta: 1:47:07, mem: 12309M\n",
      "2021-03-22 18:00:42,146 SSD.trainer INFO: iter: 000980, lr: 0.00100, total_loss: 2.525 (4.505), reg_loss: 0.510 (0.773), cls_loss: 2.015 (3.732), time: 0.436 (0.458), eta: 1:47:00, mem: 12309M\n",
      "2021-03-22 18:00:46,500 SSD.trainer INFO: iter: 000990, lr: 0.00100, total_loss: 2.621 (4.486), reg_loss: 0.534 (0.771), cls_loss: 2.087 (3.715), time: 0.435 (0.458), eta: 1:46:52, mem: 12309M\n",
      "2021-03-22 18:00:50,853 SSD.trainer INFO: iter: 001000, lr: 0.00100, total_loss: 2.551 (4.467), reg_loss: 0.509 (0.768), cls_loss: 2.042 (3.698), time: 0.435 (0.457), eta: 1:46:44, mem: 12309M\n",
      "2021-03-22 18:00:51,142 SSD.trainer INFO: Saving checkpoint to outputs/improved/model_001000.pth\n",
      "2021-03-22 18:00:51,692 SSD.inference INFO: Evaluating mnist_detection_val dataset(1000 images):\n"
     ]
    },
    {
     "name": "stderr",
     "output_type": "stream",
     "text": [
      "100%|██████████| 100/100 [00:10<00:00,  9.77it/s]\n"
     ]
    },
    {
     "name": "stdout",
     "output_type": "stream",
     "text": [
      "2021-03-22 18:01:02,511 SSD.inference INFO: mAP: 0.8205\n",
      "0               : 0.8643\n",
      "1               : 0.7484\n",
      "2               : 0.8187\n",
      "3               : 0.8532\n",
      "4               : 0.8450\n",
      "5               : 0.8287\n",
      "6               : 0.8230\n",
      "7               : 0.8254\n",
      "8               : 0.8065\n",
      "9               : 0.7918\n",
      "\n",
      "2021-03-22 18:01:06,574 SSD.trainer INFO: iter: 001010, lr: 0.00100, total_loss: 2.629 (4.448), reg_loss: 0.521 (0.766), cls_loss: 2.108 (3.683), time: 1.572 (0.469), eta: 1:49:14, mem: 12309M\n",
      "2021-03-22 18:01:10,926 SSD.trainer INFO: iter: 001020, lr: 0.00100, total_loss: 2.472 (4.429), reg_loss: 0.508 (0.763), cls_loss: 1.964 (3.666), time: 0.435 (0.468), eta: 1:49:05, mem: 12309M\n",
      "2021-03-22 18:01:15,276 SSD.trainer INFO: iter: 001030, lr: 0.00100, total_loss: 2.539 (4.411), reg_loss: 0.504 (0.761), cls_loss: 2.035 (3.650), time: 0.435 (0.468), eta: 1:48:56, mem: 12309M\n",
      "2021-03-22 18:01:19,631 SSD.trainer INFO: iter: 001040, lr: 0.00100, total_loss: 2.571 (4.393), reg_loss: 0.517 (0.758), cls_loss: 2.054 (3.635), time: 0.436 (0.468), eta: 1:48:47, mem: 12309M\n",
      "2021-03-22 18:01:23,973 SSD.trainer INFO: iter: 001050, lr: 0.00100, total_loss: 2.526 (4.375), reg_loss: 0.528 (0.756), cls_loss: 1.998 (3.619), time: 0.434 (0.467), eta: 1:48:37, mem: 12309M\n",
      "2021-03-22 18:01:28,339 SSD.trainer INFO: iter: 001060, lr: 0.00100, total_loss: 2.485 (4.357), reg_loss: 0.497 (0.754), cls_loss: 1.988 (3.604), time: 0.437 (0.467), eta: 1:48:29, mem: 12309M\n",
      "2021-03-22 18:01:32,689 SSD.trainer INFO: iter: 001070, lr: 0.00100, total_loss: 2.556 (4.340), reg_loss: 0.507 (0.751), cls_loss: 2.049 (3.589), time: 0.435 (0.467), eta: 1:48:20, mem: 12309M\n",
      "2021-03-22 18:01:37,051 SSD.trainer INFO: iter: 001080, lr: 0.00100, total_loss: 2.511 (4.324), reg_loss: 0.493 (0.749), cls_loss: 2.018 (3.574), time: 0.436 (0.466), eta: 1:48:11, mem: 12309M\n",
      "2021-03-22 18:01:41,409 SSD.trainer INFO: iter: 001090, lr: 0.00100, total_loss: 2.471 (4.307), reg_loss: 0.473 (0.747), cls_loss: 1.998 (3.560), time: 0.436 (0.466), eta: 1:48:03, mem: 12309M\n",
      "2021-03-22 18:01:45,866 SSD.trainer INFO: iter: 001100, lr: 0.00100, total_loss: 2.534 (4.290), reg_loss: 0.509 (0.744), cls_loss: 2.025 (3.546), time: 0.446 (0.466), eta: 1:47:56, mem: 12309M\n",
      "2021-03-22 18:01:50,223 SSD.trainer INFO: iter: 001110, lr: 0.00100, total_loss: 2.568 (4.275), reg_loss: 0.499 (0.742), cls_loss: 2.070 (3.533), time: 0.436 (0.466), eta: 1:47:47, mem: 12309M\n",
      "2021-03-22 18:01:54,582 SSD.trainer INFO: iter: 001120, lr: 0.00100, total_loss: 2.573 (4.260), reg_loss: 0.510 (0.740), cls_loss: 2.063 (3.520), time: 0.436 (0.465), eta: 1:47:39, mem: 12309M\n"
     ]
    },
    {
     "ename": "KeyboardInterrupt",
     "evalue": "",
     "output_type": "error",
     "traceback": [
      "\u001b[0;31m---------------------------------------------------------------------------\u001b[0m",
      "\u001b[0;31mKeyboardInterrupt\u001b[0m                         Traceback (most recent call last)",
      "\u001b[0;32m<ipython-input-4-c4141bd7d278>\u001b[0m in \u001b[0;36m<module>\u001b[0;34m\u001b[0m\n\u001b[0;32m----> 1\u001b[0;31m \u001b[0mmodel\u001b[0m \u001b[0;34m=\u001b[0m \u001b[0mstart_train\u001b[0m\u001b[0;34m(\u001b[0m\u001b[0mcfg\u001b[0m\u001b[0;34m)\u001b[0m\u001b[0;34m\u001b[0m\u001b[0;34m\u001b[0m\u001b[0m\n\u001b[0m",
      "\u001b[0;32m~/home/TDT4265-StarterCode/assignment4/SSD/train.py\u001b[0m in \u001b[0;36mstart_train\u001b[0;34m(cfg)\u001b[0m\n\u001b[1;32m     55\u001b[0m     \u001b[0mtrain_loader\u001b[0m \u001b[0;34m=\u001b[0m \u001b[0mmake_data_loader\u001b[0m\u001b[0;34m(\u001b[0m\u001b[0mcfg\u001b[0m\u001b[0;34m,\u001b[0m \u001b[0mis_train\u001b[0m\u001b[0;34m=\u001b[0m\u001b[0;32mTrue\u001b[0m\u001b[0;34m,\u001b[0m \u001b[0mmax_iter\u001b[0m\u001b[0;34m=\u001b[0m\u001b[0mmax_iter\u001b[0m\u001b[0;34m,\u001b[0m \u001b[0mstart_iter\u001b[0m\u001b[0;34m=\u001b[0m\u001b[0marguments\u001b[0m\u001b[0;34m[\u001b[0m\u001b[0;34m'iteration'\u001b[0m\u001b[0;34m]\u001b[0m\u001b[0;34m)\u001b[0m\u001b[0;34m\u001b[0m\u001b[0;34m\u001b[0m\u001b[0m\n\u001b[1;32m     56\u001b[0m \u001b[0;34m\u001b[0m\u001b[0m\n\u001b[0;32m---> 57\u001b[0;31m     model = do_train(\n\u001b[0m\u001b[1;32m     58\u001b[0m         \u001b[0mcfg\u001b[0m\u001b[0;34m,\u001b[0m \u001b[0mmodel\u001b[0m\u001b[0;34m,\u001b[0m \u001b[0mtrain_loader\u001b[0m\u001b[0;34m,\u001b[0m \u001b[0moptimizer\u001b[0m\u001b[0;34m,\u001b[0m\u001b[0;34m\u001b[0m\u001b[0;34m\u001b[0m\u001b[0m\n\u001b[1;32m     59\u001b[0m         checkpointer, arguments)\n",
      "\u001b[0;32m~/home/TDT4265-StarterCode/assignment4/SSD/ssd/engine/trainer.py\u001b[0m in \u001b[0;36mdo_train\u001b[0;34m(cfg, model, data_loader, optimizer, checkpointer, arguments)\u001b[0m\n\u001b[1;32m     42\u001b[0m         \u001b[0miteration\u001b[0m \u001b[0;34m=\u001b[0m \u001b[0miteration\u001b[0m \u001b[0;34m+\u001b[0m \u001b[0;36m1\u001b[0m\u001b[0;34m\u001b[0m\u001b[0;34m\u001b[0m\u001b[0m\n\u001b[1;32m     43\u001b[0m         \u001b[0marguments\u001b[0m\u001b[0;34m[\u001b[0m\u001b[0;34m\"iteration\"\u001b[0m\u001b[0;34m]\u001b[0m \u001b[0;34m=\u001b[0m \u001b[0miteration\u001b[0m\u001b[0;34m\u001b[0m\u001b[0;34m\u001b[0m\u001b[0m\n\u001b[0;32m---> 44\u001b[0;31m         \u001b[0mimages\u001b[0m \u001b[0;34m=\u001b[0m \u001b[0mtorch_utils\u001b[0m\u001b[0;34m.\u001b[0m\u001b[0mto_cuda\u001b[0m\u001b[0;34m(\u001b[0m\u001b[0mimages\u001b[0m\u001b[0;34m)\u001b[0m\u001b[0;34m\u001b[0m\u001b[0;34m\u001b[0m\u001b[0m\n\u001b[0m\u001b[1;32m     45\u001b[0m         \u001b[0mtargets\u001b[0m \u001b[0;34m=\u001b[0m \u001b[0mtorch_utils\u001b[0m\u001b[0;34m.\u001b[0m\u001b[0mto_cuda\u001b[0m\u001b[0;34m(\u001b[0m\u001b[0mtargets\u001b[0m\u001b[0;34m)\u001b[0m\u001b[0;34m\u001b[0m\u001b[0;34m\u001b[0m\u001b[0m\n\u001b[1;32m     46\u001b[0m         \u001b[0mloss_dict\u001b[0m \u001b[0;34m=\u001b[0m \u001b[0mmodel\u001b[0m\u001b[0;34m(\u001b[0m\u001b[0mimages\u001b[0m\u001b[0;34m,\u001b[0m \u001b[0mtargets\u001b[0m\u001b[0;34m=\u001b[0m\u001b[0mtargets\u001b[0m\u001b[0;34m)\u001b[0m\u001b[0;34m\u001b[0m\u001b[0;34m\u001b[0m\u001b[0m\n",
      "\u001b[0;32m~/home/TDT4265-StarterCode/assignment4/SSD/ssd/torch_utils.py\u001b[0m in \u001b[0;36mto_cuda\u001b[0;34m(elements)\u001b[0m\n\u001b[1;32m     17\u001b[0m         \u001b[0;32mif\u001b[0m \u001b[0mtype\u001b[0m\u001b[0;34m(\u001b[0m\u001b[0melements\u001b[0m\u001b[0;34m)\u001b[0m \u001b[0;34m==\u001b[0m \u001b[0mtuple\u001b[0m \u001b[0;32mor\u001b[0m \u001b[0mtype\u001b[0m\u001b[0;34m(\u001b[0m\u001b[0melements\u001b[0m\u001b[0;34m)\u001b[0m \u001b[0;34m==\u001b[0m \u001b[0mlist\u001b[0m\u001b[0;34m:\u001b[0m\u001b[0;34m\u001b[0m\u001b[0;34m\u001b[0m\u001b[0m\n\u001b[1;32m     18\u001b[0m             \u001b[0;32mreturn\u001b[0m \u001b[0;34m[\u001b[0m\u001b[0mx\u001b[0m\u001b[0;34m.\u001b[0m\u001b[0mcuda\u001b[0m\u001b[0;34m(\u001b[0m\u001b[0;34m)\u001b[0m \u001b[0;32mfor\u001b[0m \u001b[0mx\u001b[0m \u001b[0;32min\u001b[0m \u001b[0melements\u001b[0m\u001b[0;34m]\u001b[0m\u001b[0;34m\u001b[0m\u001b[0;34m\u001b[0m\u001b[0m\n\u001b[0;32m---> 19\u001b[0;31m         \u001b[0;32mreturn\u001b[0m \u001b[0melements\u001b[0m\u001b[0;34m.\u001b[0m\u001b[0mcuda\u001b[0m\u001b[0;34m(\u001b[0m\u001b[0;34m)\u001b[0m\u001b[0;34m\u001b[0m\u001b[0;34m\u001b[0m\u001b[0m\n\u001b[0m\u001b[1;32m     20\u001b[0m     \u001b[0;32mreturn\u001b[0m \u001b[0melements\u001b[0m\u001b[0;34m\u001b[0m\u001b[0;34m\u001b[0m\u001b[0m\n\u001b[1;32m     21\u001b[0m \u001b[0;34m\u001b[0m\u001b[0m\n",
      "\u001b[0;31mKeyboardInterrupt\u001b[0m: "
     ]
    }
   ],
   "source": [
    "model = start_train(cfg)"
   ]
  },
  {
   "cell_type": "code",
   "execution_count": 5,
   "metadata": {},
   "outputs": [
    {
     "name": "stdout",
     "output_type": "stream",
     "text": [
      "2021-03-20 17:07:19,476 SSD INFO: Start evaluating...\n",
      "2021-03-20 17:07:19,625 SSD.inference INFO: Evaluating mnist_detection_val dataset(1000 images):\n"
     ]
    },
    {
     "name": "stderr",
     "output_type": "stream",
     "text": [
      "100%|██████████| 100/100 [00:09<00:00, 10.18it/s]\n"
     ]
    },
    {
     "name": "stdout",
     "output_type": "stream",
     "text": [
      "2021-03-20 17:07:30,035 SSD.inference INFO: mAP: 0.8753\n",
      "0               : 0.8940\n",
      "1               : 0.8096\n",
      "2               : 0.8760\n",
      "3               : 0.8971\n",
      "4               : 0.8807\n",
      "5               : 0.8830\n",
      "6               : 0.8859\n",
      "7               : 0.8569\n",
      "8               : 0.8900\n",
      "9               : 0.8794\n",
      "\n"
     ]
    },
    {
     "data": {
      "text/plain": [
       "[{'metrics': {'mAP': 0.8752613436177272,\n",
       "   '0': 0.8939699650469805,\n",
       "   '1': 0.8095949781476657,\n",
       "   '2': 0.8760044641851805,\n",
       "   '3': 0.897146832405082,\n",
       "   '4': 0.880738322792082,\n",
       "   '5': 0.8830380497363594,\n",
       "   '6': 0.8859388314999235,\n",
       "   '7': 0.8568509513659689,\n",
       "   '8': 0.8899598842157962,\n",
       "   '9': 0.8793711567822344}}]"
      ]
     },
     "execution_count": 5,
     "metadata": {},
     "output_type": "execute_result"
    }
   ],
   "source": [
    "logger.info('Start evaluating...')\n",
    "torch.cuda.empty_cache()  # speed up evaluating after training finished\n",
    "do_evaluation(cfg, model)"
   ]
  },
  {
   "cell_type": "code",
   "execution_count": null,
   "metadata": {},
   "outputs": [],
   "source": []
  }
 ],
 "metadata": {
  "kernelspec": {
   "display_name": "Python 3",
   "language": "python",
   "name": "python3"
  },
  "language_info": {
   "codemirror_mode": {
    "name": "ipython",
    "version": 3
   },
   "file_extension": ".py",
   "mimetype": "text/x-python",
   "name": "python",
   "nbconvert_exporter": "python",
   "pygments_lexer": "ipython3",
   "version": "3.8.5"
  }
 },
 "nbformat": 4,
 "nbformat_minor": 4
}
