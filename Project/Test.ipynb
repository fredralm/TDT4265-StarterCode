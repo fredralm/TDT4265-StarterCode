{
 "cells": [
  {
   "cell_type": "code",
   "execution_count": 2,
   "metadata": {},
   "outputs": [
    {
     "name": "stdout",
     "output_type": "stream",
     "text": [
      "torch.Size([1, 64, 169, 300])\n",
      "torch.Size([1, 64, 169, 300])\n",
      "torch.Size([1, 64, 169, 300])\n",
      "torch.Size([1, 64, 85, 150])\n",
      "layer1\n",
      "torch.Size([1, 64, 85, 150])\n",
      "layer2\n",
      "torch.Size([1, 128, 43, 75])\n",
      "layer3\n",
      "torch.Size([1, 256, 22, 38])\n",
      "layer4\n",
      "torch.Size([1, 512, 11, 19])\n"
     ]
    }
   ],
   "source": [
    "import torchvision\n",
    "import torch\n",
    "\n",
    "x = torch.zeros((1, 3, 338, 600))\n",
    "model = torchvision.models.resnet18(pretrained=True)\n",
    "\n",
    "#for i, param in enumerate(model.parameters()):\n",
    "#    print(i)\n",
    "\n",
    "x = model.conv1(x)\n",
    "print(x.shape)\n",
    "x = model.bn1(x)\n",
    "print(x.shape)\n",
    "x = model.relu(x)\n",
    "print(x.shape)\n",
    "x = model.maxpool(x)\n",
    "print(x.shape)\n",
    "x = model.layer1(x)\n",
    "print(\"layer1\")\n",
    "print(x.shape)\n",
    "x = model.layer2(x)\n",
    "print(\"layer2\")\n",
    "print(x.shape)\n",
    "x = model.layer3(x)\n",
    "print(\"layer3\")\n",
    "print(x.shape)\n",
    "x = model.layer4(x)\n",
    "print(\"layer4\")\n",
    "print(x.shape)\n"
   ]
  },
  {
   "cell_type": "code",
   "execution_count": null,
   "metadata": {},
   "outputs": [],
   "source": []
  }
 ],
 "metadata": {
  "kernelspec": {
   "display_name": "Python 3",
   "language": "python",
   "name": "python3"
  },
  "language_info": {
   "codemirror_mode": {
    "name": "ipython",
    "version": 3
   },
   "file_extension": ".py",
   "mimetype": "text/x-python",
   "name": "python",
   "nbconvert_exporter": "python",
   "pygments_lexer": "ipython3",
   "version": "3.6.10"
  }
 },
 "nbformat": 4,
 "nbformat_minor": 4
}
