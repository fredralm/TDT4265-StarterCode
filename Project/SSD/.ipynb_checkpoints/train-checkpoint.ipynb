{
 "cells": [
  {
   "cell_type": "code",
   "execution_count": 1,
   "metadata": {},
   "outputs": [],
   "source": [
    "%load_ext autoreload"
   ]
  },
  {
   "cell_type": "code",
   "execution_count": 2,
   "metadata": {},
   "outputs": [],
   "source": [
    "%autoreload \n",
    "import logging\n",
    "import os\n",
    "import pathlib\n",
    "import torch\n",
    "from ssd.engine.inference import do_evaluation\n",
    "from ssd.config.defaults import cfg\n",
    "from ssd.utils.logger import setup_logger\n",
    "from train import start_train"
   ]
  },
  {
   "cell_type": "code",
   "execution_count": 3,
   "metadata": {},
   "outputs": [
    {
     "name": "stdout",
     "output_type": "stream",
     "text": [
      "2021-04-15 12:48:32,886 SSD INFO: Loaded configuration file configs/mnist_tdt4265_server.yaml\n",
      "2021-04-15 12:48:32,887 SSD INFO: \n",
      "MODEL:\n",
      "    NUM_CLASSES: 5\n",
      "    BACKBONE:\n",
      "        NAME: 'improved'\n",
      "        PRETRAINED: False\n",
      "        OUT_CHANNELS: [512, 1024, 512, 512, 256, 256]\n",
      "        INPUT_CHANNELS: 3\n",
      "INPUT:\n",
      "    IMAGE_SIZE: [300, 300]\n",
      "DATASETS:\n",
      "    TRAIN: (\"rdd2020_train\",)\n",
      "    TEST: (\"rdd2020_val\", )\n",
      "SOLVER:\n",
      "    MAX_ITER: 10000\n",
      "    GAMMA: 0.1\n",
      "    BATCH_SIZE: 16\n",
      "    LR: 5e-4\n",
      "OUTPUT_DIR: 'outputs/basic'\n",
      "DATASET_DIR: \"/work/datasets\"\n",
      "\n",
      "2021-04-15 12:48:32,887 SSD INFO: Running with config:\n",
      "DATASETS:\n",
      "  TEST: ('rdd2020_val',)\n",
      "  TRAIN: ('rdd2020_train',)\n",
      "DATASET_DIR: /work/datasets\n",
      "DATA_LOADER:\n",
      "  NUM_WORKERS: 4\n",
      "  PIN_MEMORY: True\n",
      "EVAL_STEP: 500\n",
      "INPUT:\n",
      "  IMAGE_SIZE: [300, 300]\n",
      "  PIXEL_MEAN: [123.675, 116.28, 103.53]\n",
      "  PIXEL_STD: [1, 1, 1]\n",
      "LOG_STEP: 10\n",
      "MODEL:\n",
      "  BACKBONE:\n",
      "    INPUT_CHANNELS: 3\n",
      "    NAME: improved\n",
      "    OUT_CHANNELS: (512, 1024, 512, 512, 256, 256)\n",
      "    PRETRAINED: False\n",
      "  CENTER_VARIANCE: 0.1\n",
      "  NEG_POS_RATIO: 3\n",
      "  NUM_CLASSES: 5\n",
      "  PRIORS:\n",
      "    ASPECT_RATIOS: [[2], [2, 3], [2, 3], [2, 3], [2], [2]]\n",
      "    BOXES_PER_LOCATION: [4, 6, 6, 6, 4, 4]\n",
      "    CLIP: True\n",
      "    FEATURE_MAPS: [[38, 38], [19, 19], [10, 10], [5, 5], [3, 3], [1, 1]]\n",
      "    MAX_SIZES: [[60, 60], [111, 111], [162, 162], [213, 213], [264, 264], [315, 315]]\n",
      "    MIN_SIZES: [[30, 30], [60, 60], [111, 111], [162, 162], [213, 213], [264, 264]]\n",
      "    STRIDES: [[8, 8], [16, 16], [32, 32], [64, 64], [100, 100], [300, 300]]\n",
      "  SIZE_VARIANCE: 0.2\n",
      "  THRESHOLD: 0.5\n",
      "MODEL_SAVE_STEP: 500\n",
      "OUTPUT_DIR: outputs/basic\n",
      "SOLVER:\n",
      "  BATCH_SIZE: 16\n",
      "  GAMMA: 0.1\n",
      "  LR: 0.0005\n",
      "  MAX_ITER: 10000\n",
      "  MOMENTUM: 0.9\n",
      "  WEIGHT_DECAY: 0.0005\n",
      "TEST:\n",
      "  BATCH_SIZE: 10\n",
      "  CONFIDENCE_THRESHOLD: 0.01\n",
      "  MAX_PER_CLASS: -1\n",
      "  MAX_PER_IMAGE: 100\n",
      "  NMS_THRESHOLD: 0.45\n"
     ]
    }
   ],
   "source": [
    "config_file = \"configs/train_rdd2020_server.yaml\"\n",
    "\n",
    "cfg.merge_from_file(config_file)\n",
    "cfg.freeze()\n",
    "output_dir = pathlib.Path(cfg.OUTPUT_DIR)\n",
    "output_dir.mkdir(exist_ok=True, parents=True)\n",
    "\n",
    "logger = setup_logger(\"SSD\", output_dir)\n",
    "\n",
    "logger.info(\"Loaded configuration file {}\".format(config_file))\n",
    "with open(config_file, \"r\") as cf:\n",
    "    config_str = \"\\n\" + cf.read()\n",
    "    logger.info(config_str)\n",
    "logger.info(\"Running with config:\\n{}\".format(cfg))\n"
   ]
  },
  {
   "cell_type": "code",
   "execution_count": 4,
   "metadata": {},
   "outputs": [
    {
     "name": "stdout",
     "output_type": "stream",
     "text": [
      "Detector initialized. Total Number of params:  35.27M\n",
      "Backbone number of parameters: 33.94M\n",
      "SSD Head number of parameters: 1.33M\n",
      "2021-04-15 12:48:40,159 SSD.trainer INFO: No checkpoint found.\n",
      "Dataset loaded. Subset: train, number of images: 8536\n",
      "2021-04-15 12:48:40,279 SSD.trainer INFO: Start training ...\n",
      "2021-04-15 12:48:55,521 SSD.trainer INFO: iter: 000010, lr: 0.00050, total_loss: 17.836 (17.836), reg_loss: 3.206 (3.206), cls_loss: 14.630 (14.630), time: 1.371 (1.371), eta: 3:48:15, mem: 12186M\n",
      "2021-04-15 12:48:59,688 SSD.trainer INFO: iter: 000020, lr: 0.00050, total_loss: 15.921 (16.879), reg_loss: 3.236 (3.221), cls_loss: 12.685 (13.657), time: 0.417 (0.894), eta: 2:28:40, mem: 12186M\n",
      "2021-04-15 12:49:03,852 SSD.trainer INFO: iter: 000030, lr: 0.00050, total_loss: 17.322 (17.026), reg_loss: 2.988 (3.143), cls_loss: 14.334 (13.883), time: 0.416 (0.735), eta: 2:02:04, mem: 12186M\n",
      "2021-04-15 12:49:08,017 SSD.trainer INFO: iter: 000040, lr: 0.00050, total_loss: 16.108 (16.797), reg_loss: 3.060 (3.123), cls_loss: 13.048 (13.674), time: 0.417 (0.655), eta: 1:48:45, mem: 12186M\n",
      "2021-04-15 12:49:12,191 SSD.trainer INFO: iter: 000050, lr: 0.00050, total_loss: 20.732 (17.584), reg_loss: 2.960 (3.090), cls_loss: 17.771 (14.494), time: 0.417 (0.608), eta: 1:40:45, mem: 12186M\n",
      "2021-04-15 12:49:16,366 SSD.trainer INFO: iter: 000060, lr: 0.00050, total_loss: 15.431 (17.225), reg_loss: 3.068 (3.086), cls_loss: 12.363 (14.139), time: 0.417 (0.576), eta: 1:35:24, mem: 12186M\n",
      "2021-04-15 12:49:20,557 SSD.trainer INFO: iter: 000070, lr: 0.00050, total_loss: 14.747 (16.871), reg_loss: 3.010 (3.075), cls_loss: 11.737 (13.796), time: 0.419 (0.553), eta: 1:31:36, mem: 12186M\n",
      "2021-04-15 12:49:24,745 SSD.trainer INFO: iter: 000080, lr: 0.00050, total_loss: 14.133 (16.529), reg_loss: 2.886 (3.052), cls_loss: 11.247 (13.477), time: 0.419 (0.537), eta: 1:28:43, mem: 12186M\n",
      "2021-04-15 12:49:28,938 SSD.trainer INFO: iter: 000090, lr: 0.00050, total_loss: 12.801 (16.115), reg_loss: 2.857 (3.030), cls_loss: 9.945 (13.084), time: 0.419 (0.524), eta: 1:26:29, mem: 12186M\n",
      "2021-04-15 12:49:33,133 SSD.trainer INFO: iter: 000100, lr: 0.00050, total_loss: 11.456 (15.649), reg_loss: 2.871 (3.014), cls_loss: 8.585 (12.635), time: 0.419 (0.513), eta: 1:24:40, mem: 12186M\n",
      "2021-04-15 12:49:37,322 SSD.trainer INFO: iter: 000110, lr: 0.00050, total_loss: 15.030 (15.592), reg_loss: 2.776 (2.993), cls_loss: 12.254 (12.600), time: 0.419 (0.505), eta: 1:23:10, mem: 12186M\n",
      "2021-04-15 12:49:41,520 SSD.trainer INFO: iter: 000120, lr: 0.00050, total_loss: 13.221 (15.395), reg_loss: 2.849 (2.981), cls_loss: 10.372 (12.414), time: 0.420 (0.498), eta: 1:21:55, mem: 12186M\n",
      "2021-04-15 12:49:45,706 SSD.trainer INFO: iter: 000130, lr: 0.00050, total_loss: 16.228 (15.459), reg_loss: 2.739 (2.962), cls_loss: 13.490 (12.497), time: 0.419 (0.491), eta: 1:20:51, mem: 12186M\n",
      "2021-04-15 12:49:49,904 SSD.trainer INFO: iter: 000140, lr: 0.00050, total_loss: 13.331 (15.307), reg_loss: 2.897 (2.957), cls_loss: 10.434 (12.350), time: 0.420 (0.486), eta: 1:19:55, mem: 12186M\n",
      "2021-04-15 12:49:54,109 SSD.trainer INFO: iter: 000150, lr: 0.00050, total_loss: 11.119 (15.028), reg_loss: 2.915 (2.955), cls_loss: 8.205 (12.073), time: 0.420 (0.482), eta: 1:19:07, mem: 12186M\n",
      "2021-04-15 12:49:58,308 SSD.trainer INFO: iter: 000160, lr: 0.00050, total_loss: 10.294 (14.732), reg_loss: 2.902 (2.951), cls_loss: 7.392 (11.781), time: 0.420 (0.478), eta: 1:18:24, mem: 12186M\n",
      "2021-04-15 12:50:02,505 SSD.trainer INFO: iter: 000170, lr: 0.00050, total_loss: 9.453 (14.421), reg_loss: 2.752 (2.940), cls_loss: 6.701 (11.482), time: 0.420 (0.475), eta: 1:17:45, mem: 12186M\n",
      "2021-04-15 12:50:06,705 SSD.trainer INFO: iter: 000180, lr: 0.00050, total_loss: 9.492 (14.148), reg_loss: 2.789 (2.931), cls_loss: 6.703 (11.216), time: 0.420 (0.472), eta: 1:17:11, mem: 12186M\n",
      "2021-04-15 12:50:10,906 SSD.trainer INFO: iter: 000190, lr: 0.00050, total_loss: 9.053 (13.879), reg_loss: 2.801 (2.924), cls_loss: 6.253 (10.955), time: 0.420 (0.469), eta: 1:16:40, mem: 12186M\n",
      "2021-04-15 12:50:15,113 SSD.trainer INFO: iter: 000200, lr: 0.00050, total_loss: 8.479 (13.609), reg_loss: 2.781 (2.917), cls_loss: 5.698 (10.692), time: 0.421 (0.467), eta: 1:16:11, mem: 12186M\n",
      "2021-04-15 12:50:19,321 SSD.trainer INFO: iter: 000210, lr: 0.00050, total_loss: 7.946 (13.340), reg_loss: 2.744 (2.909), cls_loss: 5.202 (10.431), time: 0.421 (0.464), eta: 1:15:45, mem: 12186M\n",
      "2021-04-15 12:50:23,529 SSD.trainer INFO: iter: 000220, lr: 0.00050, total_loss: 7.473 (13.073), reg_loss: 2.794 (2.904), cls_loss: 4.679 (10.169), time: 0.421 (0.462), eta: 1:15:21, mem: 12186M\n",
      "2021-04-15 12:50:27,730 SSD.trainer INFO: iter: 000230, lr: 0.00050, total_loss: 7.242 (12.819), reg_loss: 2.763 (2.898), cls_loss: 4.479 (9.922), time: 0.420 (0.461), eta: 1:14:59, mem: 12186M\n",
      "2021-04-15 12:50:31,945 SSD.trainer INFO: iter: 000240, lr: 0.00050, total_loss: 7.232 (12.587), reg_loss: 2.710 (2.890), cls_loss: 4.523 (9.697), time: 0.422 (0.459), eta: 1:14:38, mem: 12186M\n",
      "2021-04-15 12:50:36,150 SSD.trainer INFO: iter: 000250, lr: 0.00050, total_loss: 7.159 (12.370), reg_loss: 2.779 (2.885), cls_loss: 4.379 (9.484), time: 0.420 (0.457), eta: 1:14:19, mem: 12186M\n",
      "2021-04-15 12:50:40,359 SSD.trainer INFO: iter: 000260, lr: 0.00050, total_loss: 6.949 (12.161), reg_loss: 2.821 (2.883), cls_loss: 4.128 (9.278), time: 0.421 (0.456), eta: 1:14:00, mem: 12186M\n",
      "2021-04-15 12:50:44,566 SSD.trainer INFO: iter: 000270, lr: 0.00050, total_loss: 6.779 (11.962), reg_loss: 2.697 (2.876), cls_loss: 4.082 (9.086), time: 0.421 (0.455), eta: 1:13:43, mem: 12186M\n",
      "2021-04-15 12:50:48,784 SSD.trainer INFO: iter: 000280, lr: 0.00050, total_loss: 6.787 (11.777), reg_loss: 2.787 (2.873), cls_loss: 3.999 (8.904), time: 0.422 (0.453), eta: 1:13:27, mem: 12186M\n",
      "2021-04-15 12:50:52,988 SSD.trainer INFO: iter: 000290, lr: 0.00050, total_loss: 6.580 (11.598), reg_loss: 2.681 (2.866), cls_loss: 3.899 (8.732), time: 0.420 (0.452), eta: 1:13:12, mem: 12186M\n",
      "2021-04-15 12:50:57,202 SSD.trainer INFO: iter: 000300, lr: 0.00050, total_loss: 6.458 (11.426), reg_loss: 2.774 (2.863), cls_loss: 3.684 (8.563), time: 0.421 (0.451), eta: 1:12:57, mem: 12186M\n",
      "2021-04-15 12:51:01,415 SSD.trainer INFO: iter: 000310, lr: 0.00050, total_loss: 6.398 (11.264), reg_loss: 2.771 (2.860), cls_loss: 3.627 (8.404), time: 0.421 (0.450), eta: 1:12:43, mem: 12186M\n",
      "2021-04-15 12:51:05,624 SSD.trainer INFO: iter: 000320, lr: 0.00050, total_loss: 6.302 (11.109), reg_loss: 2.630 (2.853), cls_loss: 3.672 (8.256), time: 0.421 (0.449), eta: 1:12:30, mem: 12186M\n",
      "2021-04-15 12:51:09,848 SSD.trainer INFO: iter: 000330, lr: 0.00050, total_loss: 6.276 (10.963), reg_loss: 2.703 (2.848), cls_loss: 3.573 (8.114), time: 0.422 (0.449), eta: 1:12:17, mem: 12186M\n",
      "2021-04-15 12:51:14,064 SSD.trainer INFO: iter: 000340, lr: 0.00050, total_loss: 6.372 (10.828), reg_loss: 2.766 (2.846), cls_loss: 3.606 (7.982), time: 0.422 (0.448), eta: 1:12:05, mem: 12186M\n",
      "2021-04-15 12:51:18,278 SSD.trainer INFO: iter: 000350, lr: 0.00050, total_loss: 6.294 (10.698), reg_loss: 2.716 (2.842), cls_loss: 3.578 (7.856), time: 0.421 (0.447), eta: 1:11:53, mem: 12186M\n",
      "2021-04-15 12:51:22,493 SSD.trainer INFO: iter: 000360, lr: 0.00050, total_loss: 6.091 (10.570), reg_loss: 2.675 (2.838), cls_loss: 3.416 (7.733), time: 0.421 (0.446), eta: 1:11:42, mem: 12186M\n",
      "2021-04-15 12:51:26,715 SSD.trainer INFO: iter: 000370, lr: 0.00050, total_loss: 6.165 (10.451), reg_loss: 2.754 (2.835), cls_loss: 3.411 (7.616), time: 0.422 (0.446), eta: 1:11:31, mem: 12186M\n",
      "2021-04-15 12:51:30,938 SSD.trainer INFO: iter: 000380, lr: 0.00050, total_loss: 6.163 (10.338), reg_loss: 2.696 (2.832), cls_loss: 3.467 (7.507), time: 0.422 (0.445), eta: 1:11:21, mem: 12186M\n",
      "2021-04-15 12:51:35,158 SSD.trainer INFO: iter: 000390, lr: 0.00050, total_loss: 6.076 (10.229), reg_loss: 2.684 (2.828), cls_loss: 3.393 (7.401), time: 0.422 (0.444), eta: 1:11:11, mem: 12186M\n",
      "2021-04-15 12:51:39,371 SSD.trainer INFO: iter: 000400, lr: 0.00050, total_loss: 6.136 (10.127), reg_loss: 2.687 (2.824), cls_loss: 3.450 (7.302), time: 0.421 (0.444), eta: 1:11:01, mem: 12186M\n",
      "2021-04-15 12:51:43,592 SSD.trainer INFO: iter: 000410, lr: 0.00050, total_loss: 6.126 (10.029), reg_loss: 2.739 (2.822), cls_loss: 3.387 (7.207), time: 0.422 (0.443), eta: 1:10:51, mem: 12186M\n",
      "2021-04-15 12:51:47,809 SSD.trainer INFO: iter: 000420, lr: 0.00050, total_loss: 5.932 (9.932), reg_loss: 2.594 (2.817), cls_loss: 3.338 (7.115), time: 0.422 (0.443), eta: 1:10:42, mem: 12186M\n",
      "2021-04-15 12:51:52,042 SSD.trainer INFO: iter: 000430, lr: 0.00050, total_loss: 6.286 (9.847), reg_loss: 2.824 (2.817), cls_loss: 3.463 (7.030), time: 0.423 (0.442), eta: 1:10:33, mem: 12186M\n",
      "2021-04-15 12:51:56,255 SSD.trainer INFO: iter: 000440, lr: 0.00050, total_loss: 6.039 (9.760), reg_loss: 2.611 (2.812), cls_loss: 3.427 (6.948), time: 0.421 (0.442), eta: 1:10:24, mem: 12186M\n",
      "2021-04-15 12:52:00,469 SSD.trainer INFO: iter: 000450, lr: 0.00050, total_loss: 6.095 (9.679), reg_loss: 2.627 (2.808), cls_loss: 3.468 (6.871), time: 0.421 (0.441), eta: 1:10:15, mem: 12186M\n",
      "2021-04-15 12:52:04,687 SSD.trainer INFO: iter: 000460, lr: 0.00050, total_loss: 5.867 (9.596), reg_loss: 2.609 (2.804), cls_loss: 3.258 (6.792), time: 0.422 (0.441), eta: 1:10:07, mem: 12186M\n",
      "2021-04-15 12:52:08,910 SSD.trainer INFO: iter: 000470, lr: 0.00050, total_loss: 6.137 (9.522), reg_loss: 2.610 (2.800), cls_loss: 3.527 (6.723), time: 0.422 (0.441), eta: 1:09:59, mem: 12186M\n",
      "2021-04-15 12:52:13,129 SSD.trainer INFO: iter: 000480, lr: 0.00050, total_loss: 6.064 (9.450), reg_loss: 2.610 (2.796), cls_loss: 3.454 (6.654), time: 0.422 (0.440), eta: 1:09:51, mem: 12186M\n",
      "2021-04-15 12:52:17,357 SSD.trainer INFO: iter: 000490, lr: 0.00050, total_loss: 5.909 (9.378), reg_loss: 2.531 (2.790), cls_loss: 3.379 (6.588), time: 0.423 (0.440), eta: 1:09:43, mem: 12186M\n",
      "2021-04-15 12:52:21,584 SSD.trainer INFO: iter: 000500, lr: 0.00050, total_loss: 5.984 (9.310), reg_loss: 2.642 (2.787), cls_loss: 3.342 (6.523), time: 0.423 (0.440), eta: 1:09:35, mem: 12186M\n",
      "2021-04-15 12:52:21,860 SSD.trainer INFO: Saving checkpoint to outputs/basic/model_000500.pth\n",
      "Dataset loaded. Subset: val, number of images: 3659\n",
      "2021-04-15 12:52:22,507 SSD.inference INFO: Evaluating rdd2020_val dataset(3659 images):\n"
     ]
    },
    {
     "name": "stderr",
     "output_type": "stream",
     "text": [
      "100%|██████████| 366/366 [04:36<00:00,  1.32it/s]\n"
     ]
    },
    {
     "name": "stdout",
     "output_type": "stream",
     "text": [
      "2021-04-15 12:57:00,862 SSD.inference INFO: mAP: 0.0115\n",
      "D00             : 0.0010\n",
      "D10             : 0.0000\n",
      "D20             : 0.0449\n",
      "D40             : 0.0003\n",
      "\n",
      "2021-04-15 12:57:04,862 SSD.trainer INFO: iter: 000510, lr: 0.00050, total_loss: 5.995 (9.245), reg_loss: 2.611 (2.784), cls_loss: 3.384 (6.461), time: 28.328 (0.986), eta: 2:36:00, mem: 12186M\n",
      "2021-04-15 12:57:09,024 SSD.trainer INFO: iter: 000520, lr: 0.00050, total_loss: 6.248 (9.187), reg_loss: 2.718 (2.783), cls_loss: 3.530 (6.405), time: 0.416 (0.975), eta: 2:34:06, mem: 12186M\n",
      "2021-04-15 12:57:13,191 SSD.trainer INFO: iter: 000530, lr: 0.00050, total_loss: 6.209 (9.131), reg_loss: 2.688 (2.781), cls_loss: 3.521 (6.350), time: 0.417 (0.965), eta: 2:32:17, mem: 12186M\n",
      "2021-04-15 12:57:17,382 SSD.trainer INFO: iter: 000540, lr: 0.00050, total_loss: 6.065 (9.074), reg_loss: 2.648 (2.778), cls_loss: 3.417 (6.296), time: 0.419 (0.955), eta: 2:30:32, mem: 12186M\n",
      "2021-04-15 12:57:21,556 SSD.trainer INFO: iter: 000550, lr: 0.00050, total_loss: 6.021 (9.019), reg_loss: 2.580 (2.775), cls_loss: 3.441 (6.244), time: 0.417 (0.945), eta: 2:28:50, mem: 12186M\n",
      "2021-04-15 12:57:25,746 SSD.trainer INFO: iter: 000560, lr: 0.00050, total_loss: 5.982 (8.965), reg_loss: 2.637 (2.772), cls_loss: 3.345 (6.192), time: 0.419 (0.936), eta: 2:27:12, mem: 12186M\n",
      "2021-04-15 12:57:29,937 SSD.trainer INFO: iter: 000570, lr: 0.00050, total_loss: 5.758 (8.908), reg_loss: 2.485 (2.767), cls_loss: 3.273 (6.141), time: 0.419 (0.927), eta: 2:25:37, mem: 12186M\n",
      "2021-04-15 12:57:34,131 SSD.trainer INFO: iter: 000580, lr: 0.00050, total_loss: 5.923 (8.857), reg_loss: 2.582 (2.764), cls_loss: 3.341 (6.093), time: 0.419 (0.918), eta: 2:24:05, mem: 12186M\n",
      "2021-04-15 12:57:38,333 SSD.trainer INFO: iter: 000590, lr: 0.00050, total_loss: 5.966 (8.808), reg_loss: 2.594 (2.761), cls_loss: 3.372 (6.047), time: 0.420 (0.909), eta: 2:22:37, mem: 12186M\n",
      "2021-04-15 12:57:42,545 SSD.trainer INFO: iter: 000600, lr: 0.00050, total_loss: 5.951 (8.760), reg_loss: 2.552 (2.758), cls_loss: 3.399 (6.003), time: 0.421 (0.901), eta: 2:21:11, mem: 12186M\n",
      "2021-04-15 12:57:46,753 SSD.trainer INFO: iter: 000610, lr: 0.00050, total_loss: 5.846 (8.713), reg_loss: 2.586 (2.755), cls_loss: 3.260 (5.958), time: 0.421 (0.893), eta: 2:19:48, mem: 12186M\n",
      "2021-04-15 12:57:50,952 SSD.trainer INFO: iter: 000620, lr: 0.00050, total_loss: 5.790 (8.665), reg_loss: 2.542 (2.752), cls_loss: 3.248 (5.914), time: 0.420 (0.886), eta: 2:18:27, mem: 12186M\n",
      "2021-04-15 12:57:55,158 SSD.trainer INFO: iter: 000630, lr: 0.00050, total_loss: 5.958 (8.622), reg_loss: 2.642 (2.750), cls_loss: 3.316 (5.873), time: 0.421 (0.878), eta: 2:17:09, mem: 12186M\n",
      "2021-04-15 12:57:59,370 SSD.trainer INFO: iter: 000640, lr: 0.00050, total_loss: 5.951 (8.581), reg_loss: 2.612 (2.748), cls_loss: 3.339 (5.833), time: 0.421 (0.871), eta: 2:15:54, mem: 12186M\n",
      "2021-04-15 12:58:03,582 SSD.trainer INFO: iter: 000650, lr: 0.00050, total_loss: 5.905 (8.540), reg_loss: 2.594 (2.745), cls_loss: 3.311 (5.794), time: 0.421 (0.864), eta: 2:14:40, mem: 12186M\n",
      "2021-04-15 12:58:07,793 SSD.trainer INFO: iter: 000660, lr: 0.00050, total_loss: 5.882 (8.499), reg_loss: 2.615 (2.743), cls_loss: 3.267 (5.756), time: 0.421 (0.858), eta: 2:13:29, mem: 12186M\n",
      "2021-04-15 12:58:12,018 SSD.trainer INFO: iter: 000670, lr: 0.00050, total_loss: 5.698 (8.458), reg_loss: 2.597 (2.741), cls_loss: 3.101 (5.716), time: 0.422 (0.851), eta: 2:12:20, mem: 12186M\n",
      "2021-04-15 12:58:16,225 SSD.trainer INFO: iter: 000680, lr: 0.00050, total_loss: 5.901 (8.420), reg_loss: 2.572 (2.739), cls_loss: 3.330 (5.681), time: 0.421 (0.845), eta: 2:11:12, mem: 12186M\n",
      "2021-04-15 12:58:20,445 SSD.trainer INFO: iter: 000690, lr: 0.00050, total_loss: 5.818 (8.382), reg_loss: 2.610 (2.737), cls_loss: 3.208 (5.645), time: 0.422 (0.839), eta: 2:10:07, mem: 12186M\n",
      "2021-04-15 12:58:24,671 SSD.trainer INFO: iter: 000700, lr: 0.00050, total_loss: 5.769 (8.345), reg_loss: 2.502 (2.733), cls_loss: 3.267 (5.611), time: 0.423 (0.833), eta: 2:09:03, mem: 12186M\n",
      "2021-04-15 12:58:28,890 SSD.trainer INFO: iter: 000710, lr: 0.00050, total_loss: 6.159 (8.314), reg_loss: 2.777 (2.734), cls_loss: 3.382 (5.580), time: 0.422 (0.827), eta: 2:08:01, mem: 12186M\n",
      "2021-04-15 12:58:33,111 SSD.trainer INFO: iter: 000720, lr: 0.00050, total_loss: 6.009 (8.282), reg_loss: 2.644 (2.733), cls_loss: 3.365 (5.549), time: 0.422 (0.821), eta: 2:07:01, mem: 12186M\n",
      "2021-04-15 12:58:37,322 SSD.trainer INFO: iter: 000730, lr: 0.00050, total_loss: 5.877 (8.249), reg_loss: 2.641 (2.731), cls_loss: 3.236 (5.518), time: 0.421 (0.816), eta: 2:06:02, mem: 12186M\n",
      "2021-04-15 12:58:41,543 SSD.trainer INFO: iter: 000740, lr: 0.00050, total_loss: 5.887 (8.217), reg_loss: 2.608 (2.730), cls_loss: 3.278 (5.487), time: 0.422 (0.810), eta: 2:05:04, mem: 12186M\n",
      "2021-04-15 12:58:45,762 SSD.trainer INFO: iter: 000750, lr: 0.00050, total_loss: 5.924 (8.187), reg_loss: 2.646 (2.729), cls_loss: 3.278 (5.458), time: 0.422 (0.805), eta: 2:04:08, mem: 12186M\n",
      "2021-04-15 12:58:49,989 SSD.trainer INFO: iter: 000760, lr: 0.00050, total_loss: 5.914 (8.157), reg_loss: 2.645 (2.728), cls_loss: 3.269 (5.429), time: 0.423 (0.800), eta: 2:03:14, mem: 12186M\n",
      "2021-04-15 12:58:54,221 SSD.trainer INFO: iter: 000770, lr: 0.00050, total_loss: 5.773 (8.126), reg_loss: 2.542 (2.725), cls_loss: 3.231 (5.401), time: 0.423 (0.795), eta: 2:02:20, mem: 12186M\n",
      "2021-04-15 12:58:58,455 SSD.trainer INFO: iter: 000780, lr: 0.00050, total_loss: 5.773 (8.096), reg_loss: 2.515 (2.722), cls_loss: 3.258 (5.373), time: 0.423 (0.791), eta: 2:01:29, mem: 12186M\n",
      "2021-04-15 12:59:02,686 SSD.trainer INFO: iter: 000790, lr: 0.00050, total_loss: 5.779 (8.066), reg_loss: 2.534 (2.720), cls_loss: 3.245 (5.346), time: 0.423 (0.786), eta: 2:00:38, mem: 12186M\n",
      "2021-04-15 12:59:06,902 SSD.trainer INFO: iter: 000800, lr: 0.00050, total_loss: 5.761 (8.037), reg_loss: 2.583 (2.718), cls_loss: 3.178 (5.319), time: 0.422 (0.781), eta: 1:59:48, mem: 12186M\n",
      "2021-04-15 12:59:11,137 SSD.trainer INFO: iter: 000810, lr: 0.00050, total_loss: 5.758 (8.009), reg_loss: 2.580 (2.717), cls_loss: 3.177 (5.293), time: 0.423 (0.777), eta: 1:59:00, mem: 12186M\n",
      "2021-04-15 12:59:15,365 SSD.trainer INFO: iter: 000820, lr: 0.00050, total_loss: 5.779 (7.982), reg_loss: 2.533 (2.714), cls_loss: 3.247 (5.268), time: 0.423 (0.773), eta: 1:58:12, mem: 12186M\n",
      "2021-04-15 12:59:19,599 SSD.trainer INFO: iter: 000830, lr: 0.00050, total_loss: 5.796 (7.956), reg_loss: 2.587 (2.713), cls_loss: 3.209 (5.243), time: 0.423 (0.768), eta: 1:57:26, mem: 12186M\n",
      "2021-04-15 12:59:23,835 SSD.trainer INFO: iter: 000840, lr: 0.00050, total_loss: 5.910 (7.931), reg_loss: 2.612 (2.712), cls_loss: 3.298 (5.220), time: 0.424 (0.764), eta: 1:56:41, mem: 12186M\n",
      "2021-04-15 12:59:28,067 SSD.trainer INFO: iter: 000850, lr: 0.00050, total_loss: 5.842 (7.907), reg_loss: 2.627 (2.711), cls_loss: 3.214 (5.196), time: 0.423 (0.760), eta: 1:55:56, mem: 12186M\n",
      "2021-04-15 12:59:32,306 SSD.trainer INFO: iter: 000860, lr: 0.00050, total_loss: 5.826 (7.883), reg_loss: 2.593 (2.709), cls_loss: 3.233 (5.173), time: 0.424 (0.756), eta: 1:55:13, mem: 12186M\n",
      "2021-04-15 12:59:36,533 SSD.trainer INFO: iter: 000870, lr: 0.00050, total_loss: 5.796 (7.859), reg_loss: 2.612 (2.708), cls_loss: 3.184 (5.150), time: 0.423 (0.753), eta: 1:54:30, mem: 12186M\n",
      "2021-04-15 12:59:40,763 SSD.trainer INFO: iter: 000880, lr: 0.00050, total_loss: 5.804 (7.835), reg_loss: 2.559 (2.707), cls_loss: 3.245 (5.129), time: 0.423 (0.749), eta: 1:53:49, mem: 12186M\n",
      "2021-04-15 12:59:44,995 SSD.trainer INFO: iter: 000890, lr: 0.00050, total_loss: 5.788 (7.812), reg_loss: 2.603 (2.705), cls_loss: 3.185 (5.107), time: 0.423 (0.745), eta: 1:53:08, mem: 12186M\n",
      "2021-04-15 12:59:49,237 SSD.trainer INFO: iter: 000900, lr: 0.00050, total_loss: 5.820 (7.790), reg_loss: 2.582 (2.704), cls_loss: 3.238 (5.086), time: 0.424 (0.742), eta: 1:52:28, mem: 12186M\n",
      "2021-04-15 12:59:53,478 SSD.trainer INFO: iter: 000910, lr: 0.00050, total_loss: 5.792 (7.768), reg_loss: 2.570 (2.703), cls_loss: 3.222 (5.066), time: 0.424 (0.738), eta: 1:51:49, mem: 12186M\n",
      "2021-04-15 12:59:57,712 SSD.trainer INFO: iter: 000920, lr: 0.00050, total_loss: 5.667 (7.745), reg_loss: 2.476 (2.700), cls_loss: 3.191 (5.045), time: 0.423 (0.735), eta: 1:51:10, mem: 12186M\n",
      "2021-04-15 13:00:01,952 SSD.trainer INFO: iter: 000930, lr: 0.00050, total_loss: 5.911 (7.726), reg_loss: 2.619 (2.699), cls_loss: 3.292 (5.026), time: 0.424 (0.731), eta: 1:50:33, mem: 12186M\n",
      "2021-04-15 13:00:06,195 SSD.trainer INFO: iter: 000940, lr: 0.00050, total_loss: 5.819 (7.705), reg_loss: 2.495 (2.697), cls_loss: 3.325 (5.008), time: 0.424 (0.728), eta: 1:49:56, mem: 12186M\n",
      "2021-04-15 13:00:10,425 SSD.trainer INFO: iter: 000950, lr: 0.00050, total_loss: 5.636 (7.684), reg_loss: 2.458 (2.695), cls_loss: 3.178 (4.989), time: 0.423 (0.725), eta: 1:49:19, mem: 12186M\n",
      "2021-04-15 13:00:14,665 SSD.trainer INFO: iter: 000960, lr: 0.00050, total_loss: 5.918 (7.665), reg_loss: 2.554 (2.693), cls_loss: 3.364 (4.972), time: 0.424 (0.722), eta: 1:48:44, mem: 12186M\n",
      "2021-04-15 13:00:18,900 SSD.trainer INFO: iter: 000970, lr: 0.00050, total_loss: 5.833 (7.646), reg_loss: 2.603 (2.692), cls_loss: 3.230 (4.954), time: 0.424 (0.719), eta: 1:48:09, mem: 12186M\n",
      "2021-04-15 13:00:23,132 SSD.trainer INFO: iter: 000980, lr: 0.00050, total_loss: 5.767 (7.627), reg_loss: 2.521 (2.690), cls_loss: 3.246 (4.937), time: 0.423 (0.716), eta: 1:47:34, mem: 12186M\n",
      "2021-04-15 13:00:27,369 SSD.trainer INFO: iter: 000990, lr: 0.00050, total_loss: 5.737 (7.608), reg_loss: 2.500 (2.688), cls_loss: 3.237 (4.920), time: 0.424 (0.713), eta: 1:47:01, mem: 12186M\n",
      "2021-04-15 13:00:31,601 SSD.trainer INFO: iter: 001000, lr: 0.00050, total_loss: 5.700 (7.589), reg_loss: 2.504 (2.687), cls_loss: 3.196 (4.902), time: 0.423 (0.710), eta: 1:46:28, mem: 12186M\n",
      "2021-04-15 13:00:31,888 SSD.trainer INFO: Saving checkpoint to outputs/basic/model_001000.pth\n",
      "Dataset loaded. Subset: val, number of images: 3659\n",
      "2021-04-15 13:00:32,400 SSD.inference INFO: Evaluating rdd2020_val dataset(3659 images):\n"
     ]
    },
    {
     "name": "stderr",
     "output_type": "stream",
     "text": [
      "100%|██████████| 366/366 [04:37<00:00,  1.32it/s]\n"
     ]
    },
    {
     "name": "stdout",
     "output_type": "stream",
     "text": [
      "2021-04-15 13:05:11,439 SSD.inference INFO: mAP: 0.0226\n",
      "D00             : 0.0014\n",
      "D10             : 0.0000\n",
      "D20             : 0.0888\n",
      "D40             : 0.0004\n",
      "\n",
      "2021-04-15 13:05:15,450 SSD.trainer INFO: iter: 001010, lr: 0.00050, total_loss: 5.767 (7.571), reg_loss: 2.558 (2.685), cls_loss: 3.209 (4.886), time: 28.385 (0.984), eta: 2:27:24, mem: 12186M\n",
      "2021-04-15 13:05:19,632 SSD.trainer INFO: iter: 001020, lr: 0.00050, total_loss: 5.736 (7.553), reg_loss: 2.476 (2.683), cls_loss: 3.260 (4.870), time: 0.418 (0.978), eta: 2:26:24, mem: 12186M\n",
      "2021-04-15 13:05:23,821 SSD.trainer INFO: iter: 001030, lr: 0.00050, total_loss: 5.635 (7.534), reg_loss: 2.455 (2.681), cls_loss: 3.180 (4.853), time: 0.419 (0.973), eta: 2:25:26, mem: 12186M\n"
     ]
    },
    {
     "ename": "KeyboardInterrupt",
     "evalue": "",
     "output_type": "error",
     "traceback": [
      "\u001b[0;31m---------------------------------------------------------------------------\u001b[0m",
      "\u001b[0;31mKeyboardInterrupt\u001b[0m                         Traceback (most recent call last)",
      "\u001b[0;32m<ipython-input-4-c4141bd7d278>\u001b[0m in \u001b[0;36m<module>\u001b[0;34m\u001b[0m\n\u001b[0;32m----> 1\u001b[0;31m \u001b[0mmodel\u001b[0m \u001b[0;34m=\u001b[0m \u001b[0mstart_train\u001b[0m\u001b[0;34m(\u001b[0m\u001b[0mcfg\u001b[0m\u001b[0;34m)\u001b[0m\u001b[0;34m\u001b[0m\u001b[0;34m\u001b[0m\u001b[0m\n\u001b[0m",
      "\u001b[0;32m~/home/TDT4265-StarterCode/Project/SSD/train.py\u001b[0m in \u001b[0;36mstart_train\u001b[0;34m(cfg)\u001b[0m\n\u001b[1;32m     55\u001b[0m     \u001b[0mtrain_loader\u001b[0m \u001b[0;34m=\u001b[0m \u001b[0mmake_data_loader\u001b[0m\u001b[0;34m(\u001b[0m\u001b[0mcfg\u001b[0m\u001b[0;34m,\u001b[0m \u001b[0mis_train\u001b[0m\u001b[0;34m=\u001b[0m\u001b[0;32mTrue\u001b[0m\u001b[0;34m,\u001b[0m \u001b[0mmax_iter\u001b[0m\u001b[0;34m=\u001b[0m\u001b[0mmax_iter\u001b[0m\u001b[0;34m,\u001b[0m \u001b[0mstart_iter\u001b[0m\u001b[0;34m=\u001b[0m\u001b[0marguments\u001b[0m\u001b[0;34m[\u001b[0m\u001b[0;34m'iteration'\u001b[0m\u001b[0;34m]\u001b[0m\u001b[0;34m)\u001b[0m\u001b[0;34m\u001b[0m\u001b[0;34m\u001b[0m\u001b[0m\n\u001b[1;32m     56\u001b[0m \u001b[0;34m\u001b[0m\u001b[0m\n\u001b[0;32m---> 57\u001b[0;31m     model = do_train(\n\u001b[0m\u001b[1;32m     58\u001b[0m         \u001b[0mcfg\u001b[0m\u001b[0;34m,\u001b[0m \u001b[0mmodel\u001b[0m\u001b[0;34m,\u001b[0m \u001b[0mtrain_loader\u001b[0m\u001b[0;34m,\u001b[0m \u001b[0moptimizer\u001b[0m\u001b[0;34m,\u001b[0m\u001b[0;34m\u001b[0m\u001b[0;34m\u001b[0m\u001b[0m\n\u001b[1;32m     59\u001b[0m         checkpointer, arguments)\n",
      "\u001b[0;32m~/home/TDT4265-StarterCode/Project/SSD/ssd/engine/trainer.py\u001b[0m in \u001b[0;36mdo_train\u001b[0;34m(cfg, model, data_loader, optimizer, checkpointer, arguments)\u001b[0m\n\u001b[1;32m     44\u001b[0m         \u001b[0mimages\u001b[0m \u001b[0;34m=\u001b[0m \u001b[0mtorch_utils\u001b[0m\u001b[0;34m.\u001b[0m\u001b[0mto_cuda\u001b[0m\u001b[0;34m(\u001b[0m\u001b[0mimages\u001b[0m\u001b[0;34m)\u001b[0m\u001b[0;34m\u001b[0m\u001b[0;34m\u001b[0m\u001b[0m\n\u001b[1;32m     45\u001b[0m         \u001b[0mtargets\u001b[0m \u001b[0;34m=\u001b[0m \u001b[0mtorch_utils\u001b[0m\u001b[0;34m.\u001b[0m\u001b[0mto_cuda\u001b[0m\u001b[0;34m(\u001b[0m\u001b[0mtargets\u001b[0m\u001b[0;34m)\u001b[0m\u001b[0;34m\u001b[0m\u001b[0;34m\u001b[0m\u001b[0m\n\u001b[0;32m---> 46\u001b[0;31m         \u001b[0mloss_dict\u001b[0m \u001b[0;34m=\u001b[0m \u001b[0mmodel\u001b[0m\u001b[0;34m(\u001b[0m\u001b[0mimages\u001b[0m\u001b[0;34m,\u001b[0m \u001b[0mtargets\u001b[0m\u001b[0;34m=\u001b[0m\u001b[0mtargets\u001b[0m\u001b[0;34m)\u001b[0m\u001b[0;34m\u001b[0m\u001b[0;34m\u001b[0m\u001b[0m\n\u001b[0m\u001b[1;32m     47\u001b[0m         \u001b[0mloss\u001b[0m \u001b[0;34m=\u001b[0m \u001b[0msum\u001b[0m\u001b[0;34m(\u001b[0m\u001b[0mloss\u001b[0m \u001b[0;32mfor\u001b[0m \u001b[0mloss\u001b[0m \u001b[0;32min\u001b[0m \u001b[0mloss_dict\u001b[0m\u001b[0;34m.\u001b[0m\u001b[0mvalues\u001b[0m\u001b[0;34m(\u001b[0m\u001b[0;34m)\u001b[0m\u001b[0;34m)\u001b[0m\u001b[0;34m\u001b[0m\u001b[0;34m\u001b[0m\u001b[0m\n\u001b[1;32m     48\u001b[0m \u001b[0;34m\u001b[0m\u001b[0m\n",
      "\u001b[0;32m/opt/conda/lib/python3.8/site-packages/torch/nn/modules/module.py\u001b[0m in \u001b[0;36m_call_impl\u001b[0;34m(self, *input, **kwargs)\u001b[0m\n\u001b[1;32m    879\u001b[0m             \u001b[0mresult\u001b[0m \u001b[0;34m=\u001b[0m \u001b[0mself\u001b[0m\u001b[0;34m.\u001b[0m\u001b[0m_slow_forward\u001b[0m\u001b[0;34m(\u001b[0m\u001b[0;34m*\u001b[0m\u001b[0minput\u001b[0m\u001b[0;34m,\u001b[0m \u001b[0;34m**\u001b[0m\u001b[0mkwargs\u001b[0m\u001b[0;34m)\u001b[0m\u001b[0;34m\u001b[0m\u001b[0;34m\u001b[0m\u001b[0m\n\u001b[1;32m    880\u001b[0m         \u001b[0;32melse\u001b[0m\u001b[0;34m:\u001b[0m\u001b[0;34m\u001b[0m\u001b[0;34m\u001b[0m\u001b[0m\n\u001b[0;32m--> 881\u001b[0;31m             \u001b[0mresult\u001b[0m \u001b[0;34m=\u001b[0m \u001b[0mself\u001b[0m\u001b[0;34m.\u001b[0m\u001b[0mforward\u001b[0m\u001b[0;34m(\u001b[0m\u001b[0;34m*\u001b[0m\u001b[0minput\u001b[0m\u001b[0;34m,\u001b[0m \u001b[0;34m**\u001b[0m\u001b[0mkwargs\u001b[0m\u001b[0;34m)\u001b[0m\u001b[0;34m\u001b[0m\u001b[0;34m\u001b[0m\u001b[0m\n\u001b[0m\u001b[1;32m    882\u001b[0m         for hook in itertools.chain(\n\u001b[1;32m    883\u001b[0m                 \u001b[0m_global_forward_hooks\u001b[0m\u001b[0;34m.\u001b[0m\u001b[0mvalues\u001b[0m\u001b[0;34m(\u001b[0m\u001b[0;34m)\u001b[0m\u001b[0;34m,\u001b[0m\u001b[0;34m\u001b[0m\u001b[0;34m\u001b[0m\u001b[0m\n",
      "\u001b[0;32m~/home/TDT4265-StarterCode/Project/SSD/ssd/modeling/detector.py\u001b[0m in \u001b[0;36mforward\u001b[0;34m(self, images, targets)\u001b[0m\n\u001b[1;32m     25\u001b[0m     \u001b[0;32mdef\u001b[0m \u001b[0mforward\u001b[0m\u001b[0;34m(\u001b[0m\u001b[0mself\u001b[0m\u001b[0;34m,\u001b[0m \u001b[0mimages\u001b[0m\u001b[0;34m,\u001b[0m \u001b[0mtargets\u001b[0m\u001b[0;34m=\u001b[0m\u001b[0;32mNone\u001b[0m\u001b[0;34m)\u001b[0m\u001b[0;34m:\u001b[0m\u001b[0;34m\u001b[0m\u001b[0;34m\u001b[0m\u001b[0m\n\u001b[1;32m     26\u001b[0m         \u001b[0mfeatures\u001b[0m \u001b[0;34m=\u001b[0m \u001b[0mself\u001b[0m\u001b[0;34m.\u001b[0m\u001b[0mbackbone\u001b[0m\u001b[0;34m(\u001b[0m\u001b[0mimages\u001b[0m\u001b[0;34m)\u001b[0m\u001b[0;34m\u001b[0m\u001b[0;34m\u001b[0m\u001b[0m\n\u001b[0;32m---> 27\u001b[0;31m         \u001b[0mdetections\u001b[0m\u001b[0;34m,\u001b[0m \u001b[0mdetector_losses\u001b[0m \u001b[0;34m=\u001b[0m \u001b[0mself\u001b[0m\u001b[0;34m.\u001b[0m\u001b[0mbox_head\u001b[0m\u001b[0;34m(\u001b[0m\u001b[0mfeatures\u001b[0m\u001b[0;34m,\u001b[0m \u001b[0mtargets\u001b[0m\u001b[0;34m)\u001b[0m\u001b[0;34m\u001b[0m\u001b[0;34m\u001b[0m\u001b[0m\n\u001b[0m\u001b[1;32m     28\u001b[0m         \u001b[0;32mif\u001b[0m \u001b[0mself\u001b[0m\u001b[0;34m.\u001b[0m\u001b[0mtraining\u001b[0m\u001b[0;34m:\u001b[0m\u001b[0;34m\u001b[0m\u001b[0;34m\u001b[0m\u001b[0m\n\u001b[1;32m     29\u001b[0m             \u001b[0;32mreturn\u001b[0m \u001b[0mdetector_losses\u001b[0m\u001b[0;34m\u001b[0m\u001b[0;34m\u001b[0m\u001b[0m\n",
      "\u001b[0;32m/opt/conda/lib/python3.8/site-packages/torch/nn/modules/module.py\u001b[0m in \u001b[0;36m_call_impl\u001b[0;34m(self, *input, **kwargs)\u001b[0m\n\u001b[1;32m    879\u001b[0m             \u001b[0mresult\u001b[0m \u001b[0;34m=\u001b[0m \u001b[0mself\u001b[0m\u001b[0;34m.\u001b[0m\u001b[0m_slow_forward\u001b[0m\u001b[0;34m(\u001b[0m\u001b[0;34m*\u001b[0m\u001b[0minput\u001b[0m\u001b[0;34m,\u001b[0m \u001b[0;34m**\u001b[0m\u001b[0mkwargs\u001b[0m\u001b[0;34m)\u001b[0m\u001b[0;34m\u001b[0m\u001b[0;34m\u001b[0m\u001b[0m\n\u001b[1;32m    880\u001b[0m         \u001b[0;32melse\u001b[0m\u001b[0;34m:\u001b[0m\u001b[0;34m\u001b[0m\u001b[0;34m\u001b[0m\u001b[0m\n\u001b[0;32m--> 881\u001b[0;31m             \u001b[0mresult\u001b[0m \u001b[0;34m=\u001b[0m \u001b[0mself\u001b[0m\u001b[0;34m.\u001b[0m\u001b[0mforward\u001b[0m\u001b[0;34m(\u001b[0m\u001b[0;34m*\u001b[0m\u001b[0minput\u001b[0m\u001b[0;34m,\u001b[0m \u001b[0;34m**\u001b[0m\u001b[0mkwargs\u001b[0m\u001b[0;34m)\u001b[0m\u001b[0;34m\u001b[0m\u001b[0;34m\u001b[0m\u001b[0m\n\u001b[0m\u001b[1;32m    882\u001b[0m         for hook in itertools.chain(\n\u001b[1;32m    883\u001b[0m                 \u001b[0m_global_forward_hooks\u001b[0m\u001b[0;34m.\u001b[0m\u001b[0mvalues\u001b[0m\u001b[0;34m(\u001b[0m\u001b[0;34m)\u001b[0m\u001b[0;34m,\u001b[0m\u001b[0;34m\u001b[0m\u001b[0;34m\u001b[0m\u001b[0m\n",
      "\u001b[0;32m~/home/TDT4265-StarterCode/Project/SSD/ssd/modeling/box_head/box_head.py\u001b[0m in \u001b[0;36mforward\u001b[0;34m(self, features, targets)\u001b[0m\n\u001b[1;32m     21\u001b[0m         \u001b[0mcls_logits\u001b[0m\u001b[0;34m,\u001b[0m \u001b[0mbbox_pred\u001b[0m \u001b[0;34m=\u001b[0m \u001b[0mself\u001b[0m\u001b[0;34m.\u001b[0m\u001b[0mpredictor\u001b[0m\u001b[0;34m(\u001b[0m\u001b[0mfeatures\u001b[0m\u001b[0;34m)\u001b[0m\u001b[0;34m\u001b[0m\u001b[0;34m\u001b[0m\u001b[0m\n\u001b[1;32m     22\u001b[0m         \u001b[0;32mif\u001b[0m \u001b[0mself\u001b[0m\u001b[0;34m.\u001b[0m\u001b[0mtraining\u001b[0m\u001b[0;34m:\u001b[0m\u001b[0;34m\u001b[0m\u001b[0;34m\u001b[0m\u001b[0m\n\u001b[0;32m---> 23\u001b[0;31m             \u001b[0;32mreturn\u001b[0m \u001b[0mself\u001b[0m\u001b[0;34m.\u001b[0m\u001b[0m_forward_train\u001b[0m\u001b[0;34m(\u001b[0m\u001b[0mcls_logits\u001b[0m\u001b[0;34m,\u001b[0m \u001b[0mbbox_pred\u001b[0m\u001b[0;34m,\u001b[0m \u001b[0mtargets\u001b[0m\u001b[0;34m)\u001b[0m\u001b[0;34m\u001b[0m\u001b[0;34m\u001b[0m\u001b[0m\n\u001b[0m\u001b[1;32m     24\u001b[0m         \u001b[0;32melse\u001b[0m\u001b[0;34m:\u001b[0m\u001b[0;34m\u001b[0m\u001b[0;34m\u001b[0m\u001b[0m\n\u001b[1;32m     25\u001b[0m             \u001b[0;32mreturn\u001b[0m \u001b[0mself\u001b[0m\u001b[0;34m.\u001b[0m\u001b[0m_forward_test\u001b[0m\u001b[0;34m(\u001b[0m\u001b[0mcls_logits\u001b[0m\u001b[0;34m,\u001b[0m \u001b[0mbbox_pred\u001b[0m\u001b[0;34m)\u001b[0m\u001b[0;34m\u001b[0m\u001b[0;34m\u001b[0m\u001b[0m\n",
      "\u001b[0;32m~/home/TDT4265-StarterCode/Project/SSD/ssd/modeling/box_head/box_head.py\u001b[0m in \u001b[0;36m_forward_train\u001b[0;34m(self, cls_logits, bbox_pred, targets)\u001b[0m\n\u001b[1;32m     27\u001b[0m     \u001b[0;32mdef\u001b[0m \u001b[0m_forward_train\u001b[0m\u001b[0;34m(\u001b[0m\u001b[0mself\u001b[0m\u001b[0;34m,\u001b[0m \u001b[0mcls_logits\u001b[0m\u001b[0;34m,\u001b[0m \u001b[0mbbox_pred\u001b[0m\u001b[0;34m,\u001b[0m \u001b[0mtargets\u001b[0m\u001b[0;34m)\u001b[0m\u001b[0;34m:\u001b[0m\u001b[0;34m\u001b[0m\u001b[0;34m\u001b[0m\u001b[0m\n\u001b[1;32m     28\u001b[0m         \u001b[0mgt_boxes\u001b[0m\u001b[0;34m,\u001b[0m \u001b[0mgt_labels\u001b[0m \u001b[0;34m=\u001b[0m \u001b[0mtargets\u001b[0m\u001b[0;34m[\u001b[0m\u001b[0;34m\"boxes\"\u001b[0m\u001b[0;34m]\u001b[0m\u001b[0;34m,\u001b[0m \u001b[0mtargets\u001b[0m\u001b[0;34m[\u001b[0m\u001b[0;34m\"labels\"\u001b[0m\u001b[0;34m]\u001b[0m\u001b[0;34m\u001b[0m\u001b[0;34m\u001b[0m\u001b[0m\n\u001b[0;32m---> 29\u001b[0;31m         reg_loss, cls_loss = self.loss_evaluator(\n\u001b[0m\u001b[1;32m     30\u001b[0m             \u001b[0mcls_logits\u001b[0m\u001b[0;34m,\u001b[0m \u001b[0mbbox_pred\u001b[0m\u001b[0;34m,\u001b[0m \u001b[0mgt_labels\u001b[0m\u001b[0;34m,\u001b[0m \u001b[0mgt_boxes\u001b[0m\u001b[0;34m\u001b[0m\u001b[0;34m\u001b[0m\u001b[0m\n\u001b[1;32m     31\u001b[0m         )\n",
      "\u001b[0;32m/opt/conda/lib/python3.8/site-packages/torch/nn/modules/module.py\u001b[0m in \u001b[0;36m_call_impl\u001b[0;34m(self, *input, **kwargs)\u001b[0m\n\u001b[1;32m    879\u001b[0m             \u001b[0mresult\u001b[0m \u001b[0;34m=\u001b[0m \u001b[0mself\u001b[0m\u001b[0;34m.\u001b[0m\u001b[0m_slow_forward\u001b[0m\u001b[0;34m(\u001b[0m\u001b[0;34m*\u001b[0m\u001b[0minput\u001b[0m\u001b[0;34m,\u001b[0m \u001b[0;34m**\u001b[0m\u001b[0mkwargs\u001b[0m\u001b[0;34m)\u001b[0m\u001b[0;34m\u001b[0m\u001b[0;34m\u001b[0m\u001b[0m\n\u001b[1;32m    880\u001b[0m         \u001b[0;32melse\u001b[0m\u001b[0;34m:\u001b[0m\u001b[0;34m\u001b[0m\u001b[0;34m\u001b[0m\u001b[0m\n\u001b[0;32m--> 881\u001b[0;31m             \u001b[0mresult\u001b[0m \u001b[0;34m=\u001b[0m \u001b[0mself\u001b[0m\u001b[0;34m.\u001b[0m\u001b[0mforward\u001b[0m\u001b[0;34m(\u001b[0m\u001b[0;34m*\u001b[0m\u001b[0minput\u001b[0m\u001b[0;34m,\u001b[0m \u001b[0;34m**\u001b[0m\u001b[0mkwargs\u001b[0m\u001b[0;34m)\u001b[0m\u001b[0;34m\u001b[0m\u001b[0;34m\u001b[0m\u001b[0m\n\u001b[0m\u001b[1;32m    882\u001b[0m         for hook in itertools.chain(\n\u001b[1;32m    883\u001b[0m                 \u001b[0m_global_forward_hooks\u001b[0m\u001b[0;34m.\u001b[0m\u001b[0mvalues\u001b[0m\u001b[0;34m(\u001b[0m\u001b[0;34m)\u001b[0m\u001b[0;34m,\u001b[0m\u001b[0;34m\u001b[0m\u001b[0;34m\u001b[0m\u001b[0m\n",
      "\u001b[0;32m~/home/TDT4265-StarterCode/Project/SSD/ssd/modeling/box_head/loss.py\u001b[0m in \u001b[0;36mforward\u001b[0;34m(self, confidence, predicted_locations, labels, gt_locations)\u001b[0m\n\u001b[1;32m     28\u001b[0m             \u001b[0;31m# derived from cross_entropy=sum(log(p))\u001b[0m\u001b[0;34m\u001b[0m\u001b[0;34m\u001b[0m\u001b[0;34m\u001b[0m\u001b[0m\n\u001b[1;32m     29\u001b[0m             \u001b[0mloss\u001b[0m \u001b[0;34m=\u001b[0m \u001b[0;34m-\u001b[0m\u001b[0mF\u001b[0m\u001b[0;34m.\u001b[0m\u001b[0mlog_softmax\u001b[0m\u001b[0;34m(\u001b[0m\u001b[0mconfidence\u001b[0m\u001b[0;34m,\u001b[0m \u001b[0mdim\u001b[0m\u001b[0;34m=\u001b[0m\u001b[0;36m2\u001b[0m\u001b[0;34m)\u001b[0m\u001b[0;34m[\u001b[0m\u001b[0;34m:\u001b[0m\u001b[0;34m,\u001b[0m \u001b[0;34m:\u001b[0m\u001b[0;34m,\u001b[0m \u001b[0;36m0\u001b[0m\u001b[0;34m]\u001b[0m\u001b[0;34m\u001b[0m\u001b[0;34m\u001b[0m\u001b[0m\n\u001b[0;32m---> 30\u001b[0;31m             \u001b[0mmask\u001b[0m \u001b[0;34m=\u001b[0m \u001b[0mbox_utils\u001b[0m\u001b[0;34m.\u001b[0m\u001b[0mhard_negative_mining\u001b[0m\u001b[0;34m(\u001b[0m\u001b[0mloss\u001b[0m\u001b[0;34m,\u001b[0m \u001b[0mlabels\u001b[0m\u001b[0;34m,\u001b[0m \u001b[0mself\u001b[0m\u001b[0;34m.\u001b[0m\u001b[0mneg_pos_ratio\u001b[0m\u001b[0;34m)\u001b[0m\u001b[0;34m\u001b[0m\u001b[0;34m\u001b[0m\u001b[0m\n\u001b[0m\u001b[1;32m     31\u001b[0m \u001b[0;34m\u001b[0m\u001b[0m\n\u001b[1;32m     32\u001b[0m         \u001b[0mconfidence\u001b[0m \u001b[0;34m=\u001b[0m \u001b[0mconfidence\u001b[0m\u001b[0;34m[\u001b[0m\u001b[0mmask\u001b[0m\u001b[0;34m,\u001b[0m \u001b[0;34m:\u001b[0m\u001b[0;34m]\u001b[0m\u001b[0;34m\u001b[0m\u001b[0;34m\u001b[0m\u001b[0m\n",
      "\u001b[0;32m~/home/TDT4265-StarterCode/Project/SSD/ssd/utils/box_utils.py\u001b[0m in \u001b[0;36mhard_negative_mining\u001b[0;34m(loss, labels, neg_pos_ratio)\u001b[0m\n\u001b[1;32m    120\u001b[0m     \u001b[0mnum_neg\u001b[0m \u001b[0;34m=\u001b[0m \u001b[0mnum_pos\u001b[0m \u001b[0;34m*\u001b[0m \u001b[0mneg_pos_ratio\u001b[0m\u001b[0;34m\u001b[0m\u001b[0;34m\u001b[0m\u001b[0m\n\u001b[1;32m    121\u001b[0m \u001b[0;34m\u001b[0m\u001b[0m\n\u001b[0;32m--> 122\u001b[0;31m     \u001b[0mloss\u001b[0m\u001b[0;34m[\u001b[0m\u001b[0mpos_mask\u001b[0m\u001b[0;34m]\u001b[0m \u001b[0;34m=\u001b[0m \u001b[0;34m-\u001b[0m\u001b[0mmath\u001b[0m\u001b[0;34m.\u001b[0m\u001b[0minf\u001b[0m\u001b[0;34m\u001b[0m\u001b[0;34m\u001b[0m\u001b[0m\n\u001b[0m\u001b[1;32m    123\u001b[0m     \u001b[0m_\u001b[0m\u001b[0;34m,\u001b[0m \u001b[0mindexes\u001b[0m \u001b[0;34m=\u001b[0m \u001b[0mloss\u001b[0m\u001b[0;34m.\u001b[0m\u001b[0msort\u001b[0m\u001b[0;34m(\u001b[0m\u001b[0mdim\u001b[0m\u001b[0;34m=\u001b[0m\u001b[0;36m1\u001b[0m\u001b[0;34m,\u001b[0m \u001b[0mdescending\u001b[0m\u001b[0;34m=\u001b[0m\u001b[0;32mTrue\u001b[0m\u001b[0;34m)\u001b[0m\u001b[0;34m\u001b[0m\u001b[0;34m\u001b[0m\u001b[0m\n\u001b[1;32m    124\u001b[0m     \u001b[0m_\u001b[0m\u001b[0;34m,\u001b[0m \u001b[0morders\u001b[0m \u001b[0;34m=\u001b[0m \u001b[0mindexes\u001b[0m\u001b[0;34m.\u001b[0m\u001b[0msort\u001b[0m\u001b[0;34m(\u001b[0m\u001b[0mdim\u001b[0m\u001b[0;34m=\u001b[0m\u001b[0;36m1\u001b[0m\u001b[0;34m)\u001b[0m\u001b[0;34m\u001b[0m\u001b[0;34m\u001b[0m\u001b[0m\n",
      "\u001b[0;31mKeyboardInterrupt\u001b[0m: "
     ]
    }
   ],
   "source": [
    "model = start_train(cfg)"
   ]
  },
  {
   "cell_type": "code",
   "execution_count": 5,
   "metadata": {},
   "outputs": [
    {
     "name": "stdout",
     "output_type": "stream",
     "text": [
      "2021-03-23 15:00:19,172 SSD INFO: Start evaluating...\n",
      "2021-03-23 15:00:19,326 SSD.inference INFO: Evaluating mnist_detection_val dataset(1000 images):\n"
     ]
    },
    {
     "name": "stderr",
     "output_type": "stream",
     "text": [
      "100%|██████████| 100/100 [00:12<00:00,  7.69it/s]\n"
     ]
    },
    {
     "name": "stdout",
     "output_type": "stream",
     "text": [
      "2021-03-23 15:00:33,086 SSD.inference INFO: mAP: 0.8753\n",
      "0               : 0.8940\n",
      "1               : 0.8095\n",
      "2               : 0.8760\n",
      "3               : 0.8971\n",
      "4               : 0.8807\n",
      "5               : 0.8830\n",
      "6               : 0.8859\n",
      "7               : 0.8569\n",
      "8               : 0.8900\n",
      "9               : 0.8794\n",
      "\n"
     ]
    },
    {
     "data": {
      "text/plain": [
       "[{'metrics': {'mAP': 0.8752565431542013,\n",
       "   '0': 0.8939699650469805,\n",
       "   '1': 0.8094709526574602,\n",
       "   '2': 0.8760044641851805,\n",
       "   '3': 0.897146832405082,\n",
       "   '4': 0.8807326189016644,\n",
       "   '5': 0.883031870897962,\n",
       "   '6': 0.8859388314999235,\n",
       "   '7': 0.8569403048356649,\n",
       "   '8': 0.8899598842157962,\n",
       "   '9': 0.8793697068962991}}]"
      ]
     },
     "execution_count": 5,
     "metadata": {},
     "output_type": "execute_result"
    }
   ],
   "source": [
    "logger.info('Start evaluating...')\n",
    "torch.cuda.empty_cache()  # speed up evaluating after training finished\n",
    "do_evaluation(cfg, model)"
   ]
  },
  {
   "cell_type": "code",
   "execution_count": null,
   "metadata": {},
   "outputs": [],
   "source": []
  }
 ],
 "metadata": {
  "kernelspec": {
   "display_name": "Python 3",
   "language": "python",
   "name": "python3"
  },
  "language_info": {
   "codemirror_mode": {
    "name": "ipython",
    "version": 3
   },
   "file_extension": ".py",
   "mimetype": "text/x-python",
   "name": "python",
   "nbconvert_exporter": "python",
   "pygments_lexer": "ipython3",
   "version": "3.8.5"
  }
 },
 "nbformat": 4,
 "nbformat_minor": 4
}
