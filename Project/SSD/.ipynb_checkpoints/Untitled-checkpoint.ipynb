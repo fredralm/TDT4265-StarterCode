{
 "cells": [
  {
   "cell_type": "markdown",
   "metadata": {},
   "source": [
    "# Project Report"
   ]
  },
  {
   "cell_type": "markdown",
   "metadata": {},
   "source": [
    "## Model Architecture\n",
    "\n",
    "\n",
    "| Is output | Layer Type | Number of Hidden Units / Number of Filters | Stride |\n",
    "| :-: | :-: | :-: | :-: |\n",
    "| Outputs from layer2, layer3 and layer4 | Resnet34 |  |  |\n",
    "| --------- | --------- | --------- | --------- |\n",
    "|  | BatchNorm2d | - | - |\n",
    "|  | Conv2d | 2048 | 1 |\n",
    "|  | ReLU | - | - |\n",
    "|  | BatchNorm2d | - | - |\n",
    "| Yes - Resolution 5x8 | Conv2d | 1024 | 2 |\n",
    "|  | ReLU | - | - |\n",
    "|  | BatchNorm2d | - | - |\n",
    "|  | Conv2d | 1024 | 1 |\n",
    "|  | ReLU | - | - |\n",
    "|  | BatchNorm2d | - | - |\n",
    "| Yes - Resolution 3x4 | Conv2d | 1024 | 2 |\n",
    "|  | ReLU | - | - |\n",
    "|  | BatchNorm2d | - | - |\n",
    "|  | Conv2d | 1024 | 1 |\n",
    "|  | ReLU | - | - |\n",
    "|  | BatchNorm2d | - | - |\n",
    "| Yes - Resolution 1x2 | Conv2d | 512 | 1 |\n",
    "| --------- | --------- | --------- | --------- |\n",
    "|  | Box Head |  |  |\n",
    "Padding of 1 in all Conv2d layers except the final layer where padding is 0\n",
    "\n",
    "\n",
    "| Is output | Layer Type | Number of Hidden Units / Number of Filters | Stride |\n",
    "| :-: | :-: | :-: | :-: |\n",
    "| Outputs from layer2, layer3 and layer4 | Resnet152 |  |  |\n",
    "| --------- | --------- | --------- | --------- |\n",
    "|  | BatchNorm2d | - | - |\n",
    "|  | Conv2d | 512 | 1 |\n",
    "|  | ReLU | - | - |\n",
    "|  | BatchNorm2d | - | - |\n",
    "| Yes - Resolution 5x8 | Conv2d | 1024 | 2 |\n",
    "|  | ReLU | - | - |\n",
    "|  | BatchNorm2d | - | - |\n",
    "|  | Conv2d | 1024 | 1 |\n",
    "|  | ReLU | - | - |\n",
    "|  | BatchNorm2d | - | - |\n",
    "| Yes - Resolution 3x4 | Conv2d | 512 | 2 |\n",
    "|  | ReLU | - | - |\n",
    "|  | BatchNorm2d | - | - |\n",
    "|  | Conv2d | 512 | 1 |\n",
    "|  | ReLU | - | - |\n",
    "|  | BatchNorm2d | - | - |\n",
    "| Yes - Resolution 1x2 | Conv2d | 512 | 1 |\n",
    "| --------- | --------- | --------- | --------- |\n",
    "|  | Box Head |  |  |\n",
    "Padding of 1 in all Conv2d layers except the final layer where padding is 0"
   ]
  },
  {
   "cell_type": "markdown",
   "metadata": {},
   "source": []
  }
 ],
 "metadata": {
  "kernelspec": {
   "display_name": "Python 3",
   "language": "python",
   "name": "python3"
  },
  "language_info": {
   "codemirror_mode": {
    "name": "ipython",
    "version": 3
   },
   "file_extension": ".py",
   "mimetype": "text/x-python",
   "name": "python",
   "nbconvert_exporter": "python",
   "pygments_lexer": "ipython3",
   "version": "3.6.10"
  }
 },
 "nbformat": 4,
 "nbformat_minor": 4
}
