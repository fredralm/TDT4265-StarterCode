{
 "cells": [
  {
   "cell_type": "code",
   "execution_count": 13,
   "metadata": {},
   "outputs": [],
   "source": [
    "import tensorflow as tf\n",
    "import matplotlib.pyplot as plt\n",
    "from tensorboard.backend.event_processing import event_accumulator"
   ]
  },
  {
   "cell_type": "code",
   "execution_count": 14,
   "metadata": {},
   "outputs": [],
   "source": [
    "def read_all_scalars(log_path):\n",
    "    ea = event_accumulator.EventAccumulator(log_path,\n",
    "        size_guidance={\n",
    "            event_accumulator.SCALARS: 0,\n",
    "        })\n",
    "    ea.Reload() # loads events from file\n",
    "    tags = ea.Tags()[\"scalars\"]\n",
    "    metrics = {\n",
    "        \n",
    "    }\n",
    "    for tag in tags:\n",
    "        metrics[tag] = ea.Scalars(tag)\n",
    "\n",
    "    return metrics"
   ]
  },
  {
   "cell_type": "code",
   "execution_count": 15,
   "metadata": {},
   "outputs": [],
   "source": [
    "# Set the path to your tensorboard log\n",
    "\n",
    "scalars = read_all_scalars(\"../outputs/improved/tf_logs/events.out.tfevents.1616500795.jupyter_fredralm.1945.0\")\n",
    "scalars2 = read_all_scalars(\"../outputs/improved/tf_logs/events.out.tfevents.1616501686.jupyter_fredralm.315.0\")"
   ]
  },
  {
   "cell_type": "code",
   "execution_count": 16,
   "metadata": {},
   "outputs": [
    {
     "name": "stdout",
     "output_type": "stream",
     "text": [
      "Possible scalars to plot:\n",
      "\t losses/total_loss\n",
      "\t losses/reg_loss\n",
      "\t losses/cls_loss\n",
      "\t lr\n",
      "\t metrics/mnist_detection_val/mAP\n",
      "\t metrics/mnist_detection_val/0\n",
      "\t metrics/mnist_detection_val/1\n",
      "\t metrics/mnist_detection_val/2\n",
      "\t metrics/mnist_detection_val/3\n",
      "\t metrics/mnist_detection_val/4\n",
      "\t metrics/mnist_detection_val/5\n",
      "\t metrics/mnist_detection_val/6\n",
      "\t metrics/mnist_detection_val/7\n",
      "\t metrics/mnist_detection_val/8\n",
      "\t metrics/mnist_detection_val/9\n"
     ]
    }
   ],
   "source": [
    "print(\"Possible scalars to plot:\")\n",
    "for tag in scalars.keys():\n",
    "    print(\"\\t\", tag)"
   ]
  },
  {
   "cell_type": "code",
   "execution_count": 22,
   "metadata": {},
   "outputs": [
    {
     "data": {
      "image/png": "[encoded data removed]",
      "text/plain": [
       "<Figure size 432x288 with 1 Axes>"
      ]
     },
     "metadata": {
      "needs_background": "light"
     },
     "output_type": "display_data"
    }
   ],
   "source": [
    "tag_to_plot = \"losses/total_loss\"\n",
    "values = scalars[tag_to_plot] + scalars2[tag_to_plot]\n",
    "iterations = [val.step for val in values]\n",
    "values = [val.value for val in values]\n",
    "plt.ylim([0, 10])\n",
    "plt.plot(iterations, values)\n",
    "plt.savefig('Total_loss_task4d.png')"
   ]
  },
  {
   "cell_type": "code",
   "execution_count": 9,
   "metadata": {},
   "outputs": [],
   "source": [
    "%load_ext tensorboard"
   ]
  },
  {
   "cell_type": "code",
   "execution_count": null,
   "metadata": {},
   "outputs": [],
   "source": [
    "%load_ext tensorboard\n",
    "%tensorboard --logdir output\n"
   ]
  }
 ],
 "metadata": {
  "kernelspec": {
   "display_name": "Python 3",
   "language": "python",
   "name": "python3"
  },
  "language_info": {
   "codemirror_mode": {
    "name": "ipython",
    "version": 3
   },
   "file_extension": ".py",
   "mimetype": "text/x-python",
   "name": "python",
   "nbconvert_exporter": "python",
   "pygments_lexer": "ipython3",
   "version": "3.8.5"
  }
 },
 "nbformat": 4,
 "nbformat_minor": 4
}
