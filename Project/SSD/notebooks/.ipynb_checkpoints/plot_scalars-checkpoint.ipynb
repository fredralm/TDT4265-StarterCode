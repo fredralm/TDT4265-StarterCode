{
 "cells": [
  {
   "cell_type": "code",
   "execution_count": 1,
   "metadata": {},
   "outputs": [],
   "source": [
    "import tensorflow as tf\n",
    "import matplotlib.pyplot as plt\n",
    "from tensorboard.backend.event_processing import event_accumulator"
   ]
  },
  {
   "cell_type": "code",
   "execution_count": 2,
   "metadata": {},
   "outputs": [],
   "source": [
    "def read_all_scalars(log_path):\n",
    "    ea = event_accumulator.EventAccumulator(log_path,\n",
    "        size_guidance={\n",
    "            event_accumulator.SCALARS: 0,\n",
    "        })\n",
    "    ea.Reload() # loads events from file\n",
    "    tags = ea.Tags()[\"scalars\"]\n",
    "    metrics = {\n",
    "        \n",
    "    }\n",
    "    for tag in tags:\n",
    "        metrics[tag] = ea.Scalars(tag)\n",
    "\n",
    "    return metrics"
   ]
  },
  {
   "cell_type": "code",
   "execution_count": 50,
   "metadata": {},
   "outputs": [],
   "source": [
    "# Set the path to your tensorboard log\n",
    "\n",
    "scalars = read_all_scalars(\"../outputs/rdd2020_260x460/tf_logs/events.out.tfevents.1619092059.jupyter_fredralm.1620.0\")\n",
    "scalars2 = read_all_scalars(\"../outputs/rdd2020_260x460/tf_logs/events.out.tfevents.1619180700.jupyter_fredralm.1156.0\")\n",
    "scalars3 = read_all_scalars(\"../outputs/rdd2020/tf_logs/events.out.tfevents.1619282829.jupyter_fredralm.1011.0\")\n",
    "scalars4 = read_all_scalars(\"../outputs/rdd2020/tf_logs/events.out.tfevents.1619315664.jupyter_fredralm.314.0\")\n",
    "scalars5 = read_all_scalars(\"../outputs/rdd2020_338x600_wide/tf_logs/events.out.tfevents.1619125472.jupyter_fredralm.1998.0\")\n",
    "scalars6 = read_all_scalars(\"../outputs/rdd2020_338x600_wide/tf_logs/events.out.tfevents.1619169385.jupyter_fredralm.337.0\")\n"
   ]
  },
  {
   "cell_type": "code",
   "execution_count": 51,
   "metadata": {},
   "outputs": [
    {
     "name": "stdout",
     "output_type": "stream",
     "text": [
      "Possible scalars to plot:\n",
      "\t losses/total_loss\n",
      "\t losses/reg_loss\n",
      "\t losses/cls_loss\n",
      "\t lr\n"
     ]
    }
   ],
   "source": [
    "print(\"Possible scalars to plot:\")\n",
    "for tag in scalars5.keys():\n",
    "    print(\"\\t\", tag)"
   ]
  },
  {
   "cell_type": "code",
   "execution_count": 46,
   "metadata": {},
   "outputs": [
    {
     "data": {
      "text/plain": [
       "[<matplotlib.lines.Line2D at 0x7f7afdfaf070>]"
      ]
     },
     "execution_count": 46,
     "metadata": {},
     "output_type": "execute_result"
    },
    {
     "data": {
      "image/png": "[encoded data removed]",
      "text/plain": [
       "<Figure size 432x288 with 1 Axes>"
      ]
     },
     "metadata": {
      "needs_background": "light"
     },
     "output_type": "display_data"
    }
   ],
   "source": [
    "tag_to_plot = \"metrics/rdd2020_val/mAP\"\n",
    "values = scalars[tag_to_plot]# + scalars2[tag_to_plot]\n",
    "iterations = [val.step for val in values]\n",
    "values = [val.value for val in values]\n",
    "plt.ylim([0, 0.4])\n",
    "plt.xlim([4500, 20000])\n",
    "plt.plot(iterations, values)\n",
    "#plt.savefig('RDDloss_resnet34.png')"
   ]
  },
  {
   "cell_type": "code",
   "execution_count": 49,
   "metadata": {},
   "outputs": [
    {
     "data": {
      "text/plain": [
       "[<matplotlib.lines.Line2D at 0x7f7afde696a0>]"
      ]
     },
     "execution_count": 49,
     "metadata": {},
     "output_type": "execute_result"
    },
    {
     "data": {
      "image/png": "[encoded data removed]",
      "text/plain": [
       "<Figure size 432x288 with 1 Axes>"
      ]
     },
     "metadata": {
      "needs_background": "light"
     },
     "output_type": "display_data"
    }
   ],
   "source": [
    "tag_to_plot = \"metrics/rdd2020_val/mAP\"\n",
    "#values = scalars3[tag_to_plot] + scalars4[tag_to_plot]\n",
    "values = scalars5[tag_to_plot]\n",
    "iterations = [val.step for val in values]\n",
    "values = [val.value for val in values]\n",
    "plt.ylim([0.1, 0.3])\n",
    "plt.plot(iterations, values)\n",
    "#plt.savefig('RDD_resnet34.png')"
   ]
  },
  {
   "cell_type": "code",
   "execution_count": 24,
   "metadata": {},
   "outputs": [],
   "source": [
    "%load_ext tensorboard"
   ]
  },
  {
   "cell_type": "code",
   "execution_count": 1,
   "metadata": {},
   "outputs": [
    {
     "data": {
      "text/html": [
       "\n",
       "      <iframe id=\"tensorboard-frame-c0cbbbdd847119af\" width=\"100%\" height=\"800\" frameborder=\"0\">\n",
       "      </iframe>\n",
       "      <script>\n",
       "        (function() {\n",
       "          const frame = document.getElementById(\"tensorboard-frame-c0cbbbdd847119af\");\n",
       "          const url = new URL(\"/\", window.location);\n",
       "          const port = 6007;\n",
       "          if (port) {\n",
       "            url.port = port;\n",
       "          }\n",
       "          frame.src = url;\n",
       "        })();\n",
       "      </script>\n",
       "    "
      ],
      "text/plain": [
       "<IPython.core.display.HTML object>"
      ]
     },
     "metadata": {},
     "output_type": "display_data"
    }
   ],
   "source": [
    "%load_ext tensorboard\n",
    "%tensorboard --logdir TDT4265-StarterCode/Project/SSD/outputs/rdd2020_460x260/tf_logs\n"
   ]
  },
  {
   "cell_type": "code",
   "execution_count": null,
   "metadata": {},
   "outputs": [],
   "source": []
  }
 ],
 "metadata": {
  "kernelspec": {
   "display_name": "Python 3",
   "language": "python",
   "name": "python3"
  },
  "language_info": {
   "codemirror_mode": {
    "name": "ipython",
    "version": 3
   },
   "file_extension": ".py",
   "mimetype": "text/x-python",
   "name": "python",
   "nbconvert_exporter": "python",
   "pygments_lexer": "ipython3",
   "version": "3.8.5"
  }
 },
 "nbformat": 4,
 "nbformat_minor": 4
}
