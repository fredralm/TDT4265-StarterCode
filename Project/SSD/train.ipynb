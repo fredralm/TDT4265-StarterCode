{
 "cells": [
  {
   "cell_type": "code",
   "execution_count": 1,
   "metadata": {},
   "outputs": [],
   "source": [
    "%load_ext autoreload"
   ]
  },
  {
   "cell_type": "code",
   "execution_count": 2,
   "metadata": {},
   "outputs": [],
   "source": [
    "%autoreload \n",
    "import logging\n",
    "import os\n",
    "import pathlib\n",
    "import torch\n",
    "from ssd.engine.inference import do_evaluation\n",
    "from ssd.config.defaults import cfg\n",
    "from ssd.utils.logger import setup_logger\n",
    "from train import start_train"
   ]
  },
  {
   "cell_type": "code",
   "execution_count": 3,
   "metadata": {},
   "outputs": [
    {
     "name": "stdout",
     "output_type": "stream",
     "text": [
      "2021-04-14 07:08:51,288 SSD INFO: Loaded configuration file configs/train_rdd2020_server.yaml\n",
      "2021-04-14 07:08:51,291 SSD INFO: \n",
      "MODEL:\n",
      "    NUM_CLASSES: 5\n",
      "    BACKBONE:\n",
      "        NAME: 'ResNet152'\n",
      "        PRETRAINED: True\n",
      "        OUT_CHANNELS: [512, 1024, 2048, 1024, 512, 512]\n",
      "        INPUT_CHANNELS: 3\n",
      "INPUT:\n",
      "    IMAGE_SIZE: [300, 300]\n",
      "DATASETS:\n",
      "    TRAIN: (\"rdd2020_train\",)\n",
      "    TEST: (\"rdd2020_val\", )\n",
      "SOLVER:\n",
      "    MAX_ITER: 120000\n",
      "    GAMMA: 0.1\n",
      "    BATCH_SIZE: 16\n",
      "    LR: 1e-3\n",
      "OUTPUT_DIR: 'outputs/rdd2020'\n",
      "DATASET_DIR: \"/work/datasets\"\n",
      "\n",
      "2021-04-14 07:08:51,293 SSD INFO: Running with config:\n",
      "DATASETS:\n",
      "  TEST: ('rdd2020_val',)\n",
      "  TRAIN: ('rdd2020_train',)\n",
      "DATASET_DIR: /work/datasets\n",
      "DATA_LOADER:\n",
      "  NUM_WORKERS: 4\n",
      "  PIN_MEMORY: True\n",
      "EVAL_STEP: 500\n",
      "INPUT:\n",
      "  IMAGE_SIZE: [300, 300]\n",
      "  PIXEL_MEAN: [123.675, 116.28, 103.53]\n",
      "  PIXEL_STD: [1, 1, 1]\n",
      "LOG_STEP: 10\n",
      "MODEL:\n",
      "  BACKBONE:\n",
      "    INPUT_CHANNELS: 3\n",
      "    NAME: ResNet152\n",
      "    OUT_CHANNELS: (512, 1024, 2048, 1024, 512, 512)\n",
      "    PRETRAINED: True\n",
      "  CENTER_VARIANCE: 0.1\n",
      "  NEG_POS_RATIO: 3\n",
      "  NUM_CLASSES: 5\n",
      "  PRIORS:\n",
      "    ASPECT_RATIOS: [[2], [2, 3], [2, 3], [2, 3], [2], [2]]\n",
      "    BOXES_PER_LOCATION: [4, 6, 6, 6, 4, 4]\n",
      "    CLIP: True\n",
      "    FEATURE_MAPS: [[38, 38], [19, 19], [10, 10], [5, 5], [3, 3], [1, 1]]\n",
      "    MAX_SIZES: [[60, 60], [111, 111], [162, 162], [213, 213], [264, 264], [315, 315]]\n",
      "    MIN_SIZES: [[30, 30], [60, 60], [111, 111], [162, 162], [213, 213], [264, 264]]\n",
      "    STRIDES: [[8, 8], [16, 16], [32, 32], [64, 64], [100, 100], [300, 300]]\n",
      "  SIZE_VARIANCE: 0.2\n",
      "  THRESHOLD: 0.5\n",
      "MODEL_SAVE_STEP: 500\n",
      "OUTPUT_DIR: outputs/rdd2020\n",
      "SOLVER:\n",
      "  BATCH_SIZE: 16\n",
      "  GAMMA: 0.1\n",
      "  LR: 0.001\n",
      "  MAX_ITER: 120000\n",
      "  MOMENTUM: 0.9\n",
      "  WEIGHT_DECAY: 0.0005\n",
      "TEST:\n",
      "  BATCH_SIZE: 10\n",
      "  CONFIDENCE_THRESHOLD: 0.01\n",
      "  MAX_PER_CLASS: -1\n",
      "  MAX_PER_IMAGE: 100\n",
      "  NMS_THRESHOLD: 0.45\n"
     ]
    }
   ],
   "source": [
    "config_file = \"configs/train_rdd2020_server.yaml\"\n",
    "\n",
    "cfg.merge_from_file(config_file)\n",
    "cfg.freeze()\n",
    "output_dir = pathlib.Path(cfg.OUTPUT_DIR)\n",
    "output_dir.mkdir(exist_ok=True, parents=True)\n",
    "\n",
    "logger = setup_logger(\"SSD\", output_dir)\n",
    "\n",
    "logger.info(\"Loaded configuration file {}\".format(config_file))\n",
    "with open(config_file, \"r\") as cf:\n",
    "    config_str = \"\\n\" + cf.read()\n",
    "    logger.info(config_str)\n",
    "logger.info(\"Running with config:\\n{}\".format(cfg))\n"
   ]
  },
  {
   "cell_type": "code",
   "execution_count": 4,
   "metadata": {},
   "outputs": [
    {
     "name": "stderr",
     "output_type": "stream",
     "text": [
      "Downloading: \"https://download.pytorch.org/models/resnet152-b121ed2d.pth\" to /home/fredralm/.cache/torch/hub/checkpoints/resnet152-b121ed2d.pth\n"
     ]
    },
    {
     "data": {
      "application/vnd.jupyter.widget-view+json": {
       "model_id": "ec8ff968f5574ee9bb55185f7973ea66",
       "version_major": 2,
       "version_minor": 0
      },
      "text/plain": [
       "HBox(children=(HTML(value=''), FloatProgress(value=0.0, max=241530880.0), HTML(value='')))"
      ]
     },
     "metadata": {},
     "output_type": "display_data"
    },
    {
     "name": "stdout",
     "output_type": "stream",
     "text": [
      "\n",
      "Detector initialized. Total Number of params:  109.88M\n",
      "Backbone number of parameters: 107.39M\n",
      "SSD Head number of parameters: 2.49M\n",
      "2021-04-14 07:09:02,365 SSD.trainer INFO: Loading checkpoint from outputs/rdd2020/model_007000.pth\n",
      "2021-04-14 07:09:03,768 SSD.trainer INFO: Loading optimizer from outputs/rdd2020/model_007000.pth\n",
      "Dataset loaded. Subset: train, number of images: 8536\n",
      "2021-04-14 07:09:03,882 SSD.trainer INFO: Start training ...\n",
      "2021-04-14 07:09:16,225 SSD.trainer INFO: iter: 007010, lr: 0.00100, total_loss: 4.691 (4.691), reg_loss: 1.842 (1.842), cls_loss: 2.849 (2.849), time: 1.004 (1.004), eta: 1 day, 7:30:15, mem: 9628M\n",
      "2021-04-14 07:09:18,988 SSD.trainer INFO: iter: 007020, lr: 0.00100, total_loss: 4.818 (4.754), reg_loss: 1.929 (1.885), cls_loss: 2.889 (2.869), time: 0.276 (0.640), eta: 20:05:15, mem: 9628M\n",
      "2021-04-14 07:09:21,759 SSD.trainer INFO: iter: 007030, lr: 0.00100, total_loss: 4.793 (4.767), reg_loss: 1.885 (1.885), cls_loss: 2.908 (2.882), time: 0.277 (0.519), eta: 16:17:22, mem: 9628M\n",
      "2021-04-14 07:09:24,536 SSD.trainer INFO: iter: 007040, lr: 0.00100, total_loss: 4.823 (4.781), reg_loss: 1.968 (1.906), cls_loss: 2.855 (2.875), time: 0.278 (0.459), eta: 14:23:37, mem: 9628M\n",
      "2021-04-14 07:09:27,299 SSD.trainer INFO: iter: 007050, lr: 0.00100, total_loss: 4.671 (4.759), reg_loss: 1.843 (1.893), cls_loss: 2.828 (2.866), time: 0.276 (0.422), eta: 13:14:53, mem: 9628M\n",
      "2021-04-14 07:09:30,077 SSD.trainer INFO: iter: 007060, lr: 0.00100, total_loss: 4.746 (4.757), reg_loss: 1.865 (1.889), cls_loss: 2.881 (2.868), time: 0.278 (0.398), eta: 12:29:29, mem: 9628M\n",
      "2021-04-14 07:09:32,834 SSD.trainer INFO: iter: 007070, lr: 0.00100, total_loss: 4.684 (4.746), reg_loss: 1.852 (1.883), cls_loss: 2.832 (2.863), time: 0.276 (0.381), eta: 11:56:29, mem: 9628M\n",
      "2021-04-14 07:09:35,600 SSD.trainer INFO: iter: 007080, lr: 0.00100, total_loss: 4.845 (4.759), reg_loss: 1.979 (1.895), cls_loss: 2.866 (2.864), time: 0.277 (0.368), eta: 11:31:57, mem: 9628M\n",
      "2021-04-14 07:09:38,367 SSD.trainer INFO: iter: 007090, lr: 0.00100, total_loss: 4.663 (4.748), reg_loss: 1.799 (1.885), cls_loss: 2.865 (2.864), time: 0.277 (0.358), eta: 11:12:52, mem: 9628M\n",
      "2021-04-14 07:09:41,135 SSD.trainer INFO: iter: 007100, lr: 0.00100, total_loss: 4.909 (4.764), reg_loss: 1.937 (1.890), cls_loss: 2.972 (2.875), time: 0.277 (0.349), eta: 10:57:36, mem: 9628M\n",
      "2021-04-14 07:09:43,901 SSD.trainer INFO: iter: 007110, lr: 0.00100, total_loss: 4.668 (4.756), reg_loss: 1.776 (1.879), cls_loss: 2.892 (2.876), time: 0.277 (0.343), eta: 10:45:05, mem: 9628M\n",
      "2021-04-14 07:09:46,681 SSD.trainer INFO: iter: 007120, lr: 0.00100, total_loss: 4.577 (4.741), reg_loss: 1.800 (1.873), cls_loss: 2.777 (2.868), time: 0.278 (0.337), eta: 10:34:51, mem: 9628M\n",
      "2021-04-14 07:09:49,474 SSD.trainer INFO: iter: 007130, lr: 0.00100, total_loss: 4.825 (4.747), reg_loss: 1.915 (1.876), cls_loss: 2.911 (2.871), time: 0.279 (0.333), eta: 10:26:23, mem: 9628M\n",
      "2021-04-14 07:09:52,265 SSD.trainer INFO: iter: 007140, lr: 0.00100, total_loss: 4.852 (4.755), reg_loss: 1.876 (1.876), cls_loss: 2.976 (2.879), time: 0.279 (0.329), eta: 10:19:05, mem: 9628M\n",
      "2021-04-14 07:09:55,059 SSD.trainer INFO: iter: 007150, lr: 0.00100, total_loss: 4.724 (4.753), reg_loss: 1.883 (1.876), cls_loss: 2.841 (2.876), time: 0.279 (0.326), eta: 10:12:48, mem: 9628M\n",
      "2021-04-14 07:09:57,856 SSD.trainer INFO: iter: 007160, lr: 0.00100, total_loss: 4.779 (4.754), reg_loss: 1.899 (1.878), cls_loss: 2.880 (2.876), time: 0.280 (0.323), eta: 10:07:19, mem: 9628M\n",
      "2021-04-14 07:10:00,643 SSD.trainer INFO: iter: 007170, lr: 0.00100, total_loss: 4.689 (4.750), reg_loss: 1.872 (1.878), cls_loss: 2.816 (2.873), time: 0.279 (0.320), eta: 10:02:23, mem: 9628M\n",
      "2021-04-14 07:10:03,437 SSD.trainer INFO: iter: 007180, lr: 0.00100, total_loss: 4.708 (4.748), reg_loss: 1.869 (1.877), cls_loss: 2.838 (2.871), time: 0.279 (0.318), eta: 9:58:03, mem: 9628M\n",
      "2021-04-14 07:10:06,230 SSD.trainer INFO: iter: 007190, lr: 0.00100, total_loss: 4.758 (4.749), reg_loss: 1.854 (1.876), cls_loss: 2.904 (2.873), time: 0.279 (0.316), eta: 9:54:09, mem: 9628M\n",
      "2021-04-14 07:10:09,032 SSD.trainer INFO: iter: 007200, lr: 0.00100, total_loss: 4.721 (4.747), reg_loss: 1.848 (1.875), cls_loss: 2.873 (2.873), time: 0.280 (0.314), eta: 9:50:44, mem: 9628M\n",
      "2021-04-14 07:10:11,828 SSD.trainer INFO: iter: 007210, lr: 0.00100, total_loss: 4.773 (4.748), reg_loss: 1.863 (1.874), cls_loss: 2.909 (2.874), time: 0.280 (0.313), eta: 9:47:35, mem: 9628M\n",
      "2021-04-14 07:10:14,625 SSD.trainer INFO: iter: 007220, lr: 0.00100, total_loss: 4.828 (4.752), reg_loss: 1.893 (1.875), cls_loss: 2.935 (2.877), time: 0.280 (0.311), eta: 9:44:43, mem: 9628M\n",
      "2021-04-14 07:10:17,420 SSD.trainer INFO: iter: 007230, lr: 0.00100, total_loss: 4.813 (4.755), reg_loss: 1.937 (1.878), cls_loss: 2.876 (2.877), time: 0.280 (0.310), eta: 9:42:06, mem: 9628M\n",
      "2021-04-14 07:10:20,223 SSD.trainer INFO: iter: 007240, lr: 0.00100, total_loss: 4.907 (4.761), reg_loss: 1.971 (1.881), cls_loss: 2.936 (2.880), time: 0.280 (0.308), eta: 9:39:44, mem: 9628M\n",
      "2021-04-14 07:10:23,032 SSD.trainer INFO: iter: 007250, lr: 0.00100, total_loss: 4.796 (4.762), reg_loss: 1.966 (1.885), cls_loss: 2.830 (2.878), time: 0.281 (0.307), eta: 9:37:37, mem: 9628M\n",
      "2021-04-14 07:10:25,834 SSD.trainer INFO: iter: 007260, lr: 0.00100, total_loss: 4.856 (4.766), reg_loss: 1.970 (1.888), cls_loss: 2.886 (2.878), time: 0.280 (0.306), eta: 9:35:36, mem: 9628M\n",
      "2021-04-14 07:10:28,635 SSD.trainer INFO: iter: 007270, lr: 0.00100, total_loss: 4.644 (4.762), reg_loss: 1.829 (1.886), cls_loss: 2.815 (2.876), time: 0.280 (0.305), eta: 9:33:43, mem: 9628M\n",
      "2021-04-14 07:10:31,448 SSD.trainer INFO: iter: 007280, lr: 0.00100, total_loss: 4.850 (4.765), reg_loss: 1.945 (1.888), cls_loss: 2.905 (2.877), time: 0.281 (0.305), eta: 9:32:03, mem: 9628M\n",
      "2021-04-14 07:10:34,255 SSD.trainer INFO: iter: 007290, lr: 0.00100, total_loss: 4.811 (4.766), reg_loss: 1.911 (1.889), cls_loss: 2.901 (2.877), time: 0.281 (0.304), eta: 9:30:28, mem: 9628M\n",
      "2021-04-14 07:10:37,058 SSD.trainer INFO: iter: 007300, lr: 0.00100, total_loss: 4.754 (4.766), reg_loss: 1.889 (1.889), cls_loss: 2.865 (2.877), time: 0.280 (0.303), eta: 9:28:57, mem: 9628M\n",
      "2021-04-14 07:10:39,868 SSD.trainer INFO: iter: 007310, lr: 0.00100, total_loss: 4.899 (4.770), reg_loss: 2.021 (1.893), cls_loss: 2.878 (2.877), time: 0.281 (0.302), eta: 9:27:34, mem: 9628M\n",
      "2021-04-14 07:10:42,680 SSD.trainer INFO: iter: 007320, lr: 0.00100, total_loss: 4.809 (4.771), reg_loss: 1.937 (1.894), cls_loss: 2.872 (2.877), time: 0.281 (0.302), eta: 9:26:17, mem: 9628M\n",
      "2021-04-14 07:10:45,500 SSD.trainer INFO: iter: 007330, lr: 0.00100, total_loss: 4.893 (4.775), reg_loss: 1.970 (1.897), cls_loss: 2.923 (2.878), time: 0.282 (0.301), eta: 9:25:07, mem: 9628M\n",
      "2021-04-14 07:10:48,317 SSD.trainer INFO: iter: 007340, lr: 0.00100, total_loss: 4.738 (4.774), reg_loss: 1.893 (1.897), cls_loss: 2.845 (2.877), time: 0.282 (0.300), eta: 9:24:01, mem: 9628M\n",
      "2021-04-14 07:10:51,123 SSD.trainer INFO: iter: 007350, lr: 0.00100, total_loss: 4.860 (4.776), reg_loss: 1.956 (1.898), cls_loss: 2.904 (2.878), time: 0.281 (0.300), eta: 9:22:54, mem: 9628M\n",
      "2021-04-14 07:10:53,932 SSD.trainer INFO: iter: 007360, lr: 0.00100, total_loss: 4.675 (4.774), reg_loss: 1.839 (1.897), cls_loss: 2.836 (2.877), time: 0.281 (0.299), eta: 9:21:52, mem: 9628M\n",
      "2021-04-14 07:10:56,741 SSD.trainer INFO: iter: 007370, lr: 0.00100, total_loss: 4.746 (4.773), reg_loss: 1.901 (1.897), cls_loss: 2.845 (2.876), time: 0.281 (0.299), eta: 9:20:53, mem: 9628M\n",
      "2021-04-14 07:10:59,556 SSD.trainer INFO: iter: 007380, lr: 0.00100, total_loss: 4.698 (4.771), reg_loss: 1.867 (1.896), cls_loss: 2.831 (2.875), time: 0.282 (0.298), eta: 9:19:58, mem: 9628M\n",
      "2021-04-14 07:11:02,365 SSD.trainer INFO: iter: 007390, lr: 0.00100, total_loss: 4.874 (4.774), reg_loss: 1.931 (1.897), cls_loss: 2.943 (2.877), time: 0.281 (0.298), eta: 9:19:05, mem: 9628M\n",
      "2021-04-14 07:11:05,174 SSD.trainer INFO: iter: 007400, lr: 0.00100, total_loss: 4.848 (4.775), reg_loss: 1.952 (1.898), cls_loss: 2.896 (2.877), time: 0.281 (0.297), eta: 9:18:14, mem: 9628M\n",
      "2021-04-14 07:11:07,993 SSD.trainer INFO: iter: 007410, lr: 0.00100, total_loss: 4.857 (4.777), reg_loss: 1.968 (1.900), cls_loss: 2.889 (2.877), time: 0.282 (0.297), eta: 9:17:29, mem: 9628M\n",
      "2021-04-14 07:11:10,795 SSD.trainer INFO: iter: 007420, lr: 0.00100, total_loss: 4.843 (4.779), reg_loss: 1.997 (1.902), cls_loss: 2.846 (2.877), time: 0.280 (0.297), eta: 9:16:40, mem: 9628M\n",
      "2021-04-14 07:11:13,608 SSD.trainer INFO: iter: 007430, lr: 0.00100, total_loss: 4.712 (4.777), reg_loss: 1.878 (1.902), cls_loss: 2.835 (2.876), time: 0.281 (0.296), eta: 9:15:57, mem: 9628M\n",
      "2021-04-14 07:11:16,417 SSD.trainer INFO: iter: 007440, lr: 0.00100, total_loss: 4.717 (4.776), reg_loss: 1.864 (1.901), cls_loss: 2.853 (2.875), time: 0.281 (0.296), eta: 9:15:15, mem: 9628M\n",
      "2021-04-14 07:11:19,226 SSD.trainer INFO: iter: 007450, lr: 0.00100, total_loss: 4.658 (4.773), reg_loss: 1.801 (1.899), cls_loss: 2.857 (2.875), time: 0.281 (0.296), eta: 9:14:34, mem: 9628M\n",
      "2021-04-14 07:11:22,053 SSD.trainer INFO: iter: 007460, lr: 0.00100, total_loss: 4.787 (4.774), reg_loss: 1.895 (1.899), cls_loss: 2.892 (2.875), time: 0.283 (0.295), eta: 9:13:59, mem: 9628M\n",
      "2021-04-14 07:11:24,873 SSD.trainer INFO: iter: 007470, lr: 0.00100, total_loss: 4.844 (4.775), reg_loss: 1.850 (1.898), cls_loss: 2.995 (2.878), time: 0.282 (0.295), eta: 9:13:24, mem: 9628M\n",
      "2021-04-14 07:11:27,707 SSD.trainer INFO: iter: 007480, lr: 0.00100, total_loss: 4.763 (4.775), reg_loss: 1.825 (1.896), cls_loss: 2.939 (2.879), time: 0.283 (0.295), eta: 9:12:54, mem: 9628M\n",
      "2021-04-14 07:11:30,533 SSD.trainer INFO: iter: 007490, lr: 0.00100, total_loss: 4.758 (4.775), reg_loss: 1.846 (1.895), cls_loss: 2.912 (2.880), time: 0.283 (0.295), eta: 9:12:23, mem: 9628M\n",
      "2021-04-14 07:11:33,360 SSD.trainer INFO: iter: 007500, lr: 0.00100, total_loss: 4.650 (4.772), reg_loss: 1.816 (1.893), cls_loss: 2.834 (2.879), time: 0.283 (0.294), eta: 9:11:54, mem: 9628M\n",
      "2021-04-14 07:11:33,405 SSD.trainer INFO: Saving checkpoint to outputs/rdd2020/model_007500.pth\n",
      "Dataset loaded. Subset: val, number of images: 3659\n",
      "2021-04-14 07:11:34,597 SSD.inference INFO: Evaluating rdd2020_val dataset(3659 images):\n"
     ]
    },
    {
     "name": "stderr",
     "output_type": "stream",
     "text": [
      "100%|██████████| 366/366 [04:28<00:00,  1.37it/s]\n"
     ]
    },
    {
     "name": "stdout",
     "output_type": "stream",
     "text": [
      "2021-04-14 07:16:03,981 SSD.inference INFO: mAP: 0.0942\n",
      "D00             : 0.0384\n",
      "D10             : 0.0195\n",
      "D20             : 0.2369\n",
      "D40             : 0.0820\n",
      "\n",
      "2021-04-14 07:16:06,802 SSD.trainer INFO: iter: 007510, lr: 0.00100, total_loss: 4.620 (4.769), reg_loss: 1.815 (1.892), cls_loss: 2.805 (2.877), time: 27.344 (0.825), eta: 1 day, 1:46:14, mem: 9721M\n",
      "2021-04-14 07:16:09,593 SSD.trainer INFO: iter: 007520, lr: 0.00100, total_loss: 4.601 (4.766), reg_loss: 1.819 (1.890), cls_loss: 2.781 (2.875), time: 0.279 (0.814), eta: 1 day, 1:26:26, mem: 9721M\n"
     ]
    },
    {
     "ename": "KeyboardInterrupt",
     "evalue": "",
     "output_type": "error",
     "traceback": [
      "\u001b[0;31m---------------------------------------------------------------------------\u001b[0m",
      "\u001b[0;31mKeyboardInterrupt\u001b[0m                         Traceback (most recent call last)",
      "\u001b[0;32m<ipython-input-4-c4141bd7d278>\u001b[0m in \u001b[0;36m<module>\u001b[0;34m\u001b[0m\n\u001b[0;32m----> 1\u001b[0;31m \u001b[0mmodel\u001b[0m \u001b[0;34m=\u001b[0m \u001b[0mstart_train\u001b[0m\u001b[0;34m(\u001b[0m\u001b[0mcfg\u001b[0m\u001b[0;34m)\u001b[0m\u001b[0;34m\u001b[0m\u001b[0;34m\u001b[0m\u001b[0m\n\u001b[0m",
      "\u001b[0;32m~/home/TDT4265-StarterCode/Project/SSD/train.py\u001b[0m in \u001b[0;36mstart_train\u001b[0;34m(cfg)\u001b[0m\n\u001b[1;32m     55\u001b[0m     \u001b[0mtrain_loader\u001b[0m \u001b[0;34m=\u001b[0m \u001b[0mmake_data_loader\u001b[0m\u001b[0;34m(\u001b[0m\u001b[0mcfg\u001b[0m\u001b[0;34m,\u001b[0m \u001b[0mis_train\u001b[0m\u001b[0;34m=\u001b[0m\u001b[0;32mTrue\u001b[0m\u001b[0;34m,\u001b[0m \u001b[0mmax_iter\u001b[0m\u001b[0;34m=\u001b[0m\u001b[0mmax_iter\u001b[0m\u001b[0;34m,\u001b[0m \u001b[0mstart_iter\u001b[0m\u001b[0;34m=\u001b[0m\u001b[0marguments\u001b[0m\u001b[0;34m[\u001b[0m\u001b[0;34m'iteration'\u001b[0m\u001b[0;34m]\u001b[0m\u001b[0;34m)\u001b[0m\u001b[0;34m\u001b[0m\u001b[0;34m\u001b[0m\u001b[0m\n\u001b[1;32m     56\u001b[0m \u001b[0;34m\u001b[0m\u001b[0m\n\u001b[0;32m---> 57\u001b[0;31m     model = do_train(\n\u001b[0m\u001b[1;32m     58\u001b[0m         \u001b[0mcfg\u001b[0m\u001b[0;34m,\u001b[0m \u001b[0mmodel\u001b[0m\u001b[0;34m,\u001b[0m \u001b[0mtrain_loader\u001b[0m\u001b[0;34m,\u001b[0m \u001b[0moptimizer\u001b[0m\u001b[0;34m,\u001b[0m\u001b[0;34m\u001b[0m\u001b[0;34m\u001b[0m\u001b[0m\n\u001b[1;32m     59\u001b[0m         checkpointer, arguments)\n",
      "\u001b[0;32m~/home/TDT4265-StarterCode/Project/SSD/ssd/engine/trainer.py\u001b[0m in \u001b[0;36mdo_train\u001b[0;34m(cfg, model, data_loader, optimizer, checkpointer, arguments)\u001b[0m\n\u001b[1;32m     44\u001b[0m         \u001b[0mimages\u001b[0m \u001b[0;34m=\u001b[0m \u001b[0mtorch_utils\u001b[0m\u001b[0;34m.\u001b[0m\u001b[0mto_cuda\u001b[0m\u001b[0;34m(\u001b[0m\u001b[0mimages\u001b[0m\u001b[0;34m)\u001b[0m\u001b[0;34m\u001b[0m\u001b[0;34m\u001b[0m\u001b[0m\n\u001b[1;32m     45\u001b[0m         \u001b[0mtargets\u001b[0m \u001b[0;34m=\u001b[0m \u001b[0mtorch_utils\u001b[0m\u001b[0;34m.\u001b[0m\u001b[0mto_cuda\u001b[0m\u001b[0;34m(\u001b[0m\u001b[0mtargets\u001b[0m\u001b[0;34m)\u001b[0m\u001b[0;34m\u001b[0m\u001b[0;34m\u001b[0m\u001b[0m\n\u001b[0;32m---> 46\u001b[0;31m         \u001b[0mloss_dict\u001b[0m \u001b[0;34m=\u001b[0m \u001b[0mmodel\u001b[0m\u001b[0;34m(\u001b[0m\u001b[0mimages\u001b[0m\u001b[0;34m,\u001b[0m \u001b[0mtargets\u001b[0m\u001b[0;34m=\u001b[0m\u001b[0mtargets\u001b[0m\u001b[0;34m)\u001b[0m\u001b[0;34m\u001b[0m\u001b[0;34m\u001b[0m\u001b[0m\n\u001b[0m\u001b[1;32m     47\u001b[0m         \u001b[0mloss\u001b[0m \u001b[0;34m=\u001b[0m \u001b[0msum\u001b[0m\u001b[0;34m(\u001b[0m\u001b[0mloss\u001b[0m \u001b[0;32mfor\u001b[0m \u001b[0mloss\u001b[0m \u001b[0;32min\u001b[0m \u001b[0mloss_dict\u001b[0m\u001b[0;34m.\u001b[0m\u001b[0mvalues\u001b[0m\u001b[0;34m(\u001b[0m\u001b[0;34m)\u001b[0m\u001b[0;34m)\u001b[0m\u001b[0;34m\u001b[0m\u001b[0;34m\u001b[0m\u001b[0m\n\u001b[1;32m     48\u001b[0m \u001b[0;34m\u001b[0m\u001b[0m\n",
      "\u001b[0;32m/opt/conda/lib/python3.8/site-packages/torch/nn/modules/module.py\u001b[0m in \u001b[0;36m_call_impl\u001b[0;34m(self, *input, **kwargs)\u001b[0m\n\u001b[1;32m    879\u001b[0m             \u001b[0mresult\u001b[0m \u001b[0;34m=\u001b[0m \u001b[0mself\u001b[0m\u001b[0;34m.\u001b[0m\u001b[0m_slow_forward\u001b[0m\u001b[0;34m(\u001b[0m\u001b[0;34m*\u001b[0m\u001b[0minput\u001b[0m\u001b[0;34m,\u001b[0m \u001b[0;34m**\u001b[0m\u001b[0mkwargs\u001b[0m\u001b[0;34m)\u001b[0m\u001b[0;34m\u001b[0m\u001b[0;34m\u001b[0m\u001b[0m\n\u001b[1;32m    880\u001b[0m         \u001b[0;32melse\u001b[0m\u001b[0;34m:\u001b[0m\u001b[0;34m\u001b[0m\u001b[0;34m\u001b[0m\u001b[0m\n\u001b[0;32m--> 881\u001b[0;31m             \u001b[0mresult\u001b[0m \u001b[0;34m=\u001b[0m \u001b[0mself\u001b[0m\u001b[0;34m.\u001b[0m\u001b[0mforward\u001b[0m\u001b[0;34m(\u001b[0m\u001b[0;34m*\u001b[0m\u001b[0minput\u001b[0m\u001b[0;34m,\u001b[0m \u001b[0;34m**\u001b[0m\u001b[0mkwargs\u001b[0m\u001b[0;34m)\u001b[0m\u001b[0;34m\u001b[0m\u001b[0;34m\u001b[0m\u001b[0m\n\u001b[0m\u001b[1;32m    882\u001b[0m         for hook in itertools.chain(\n\u001b[1;32m    883\u001b[0m                 \u001b[0m_global_forward_hooks\u001b[0m\u001b[0;34m.\u001b[0m\u001b[0mvalues\u001b[0m\u001b[0;34m(\u001b[0m\u001b[0;34m)\u001b[0m\u001b[0;34m,\u001b[0m\u001b[0;34m\u001b[0m\u001b[0;34m\u001b[0m\u001b[0m\n",
      "\u001b[0;32m~/home/TDT4265-StarterCode/Project/SSD/ssd/modeling/detector.py\u001b[0m in \u001b[0;36mforward\u001b[0;34m(self, images, targets)\u001b[0m\n\u001b[1;32m     25\u001b[0m     \u001b[0;32mdef\u001b[0m \u001b[0mforward\u001b[0m\u001b[0;34m(\u001b[0m\u001b[0mself\u001b[0m\u001b[0;34m,\u001b[0m \u001b[0mimages\u001b[0m\u001b[0;34m,\u001b[0m \u001b[0mtargets\u001b[0m\u001b[0;34m=\u001b[0m\u001b[0;32mNone\u001b[0m\u001b[0;34m)\u001b[0m\u001b[0;34m:\u001b[0m\u001b[0;34m\u001b[0m\u001b[0;34m\u001b[0m\u001b[0m\n\u001b[1;32m     26\u001b[0m         \u001b[0mfeatures\u001b[0m \u001b[0;34m=\u001b[0m \u001b[0mself\u001b[0m\u001b[0;34m.\u001b[0m\u001b[0mbackbone\u001b[0m\u001b[0;34m(\u001b[0m\u001b[0mimages\u001b[0m\u001b[0;34m)\u001b[0m\u001b[0;34m\u001b[0m\u001b[0;34m\u001b[0m\u001b[0m\n\u001b[0;32m---> 27\u001b[0;31m         \u001b[0mdetections\u001b[0m\u001b[0;34m,\u001b[0m \u001b[0mdetector_losses\u001b[0m \u001b[0;34m=\u001b[0m \u001b[0mself\u001b[0m\u001b[0;34m.\u001b[0m\u001b[0mbox_head\u001b[0m\u001b[0;34m(\u001b[0m\u001b[0mfeatures\u001b[0m\u001b[0;34m,\u001b[0m \u001b[0mtargets\u001b[0m\u001b[0;34m)\u001b[0m\u001b[0;34m\u001b[0m\u001b[0;34m\u001b[0m\u001b[0m\n\u001b[0m\u001b[1;32m     28\u001b[0m         \u001b[0;32mif\u001b[0m \u001b[0mself\u001b[0m\u001b[0;34m.\u001b[0m\u001b[0mtraining\u001b[0m\u001b[0;34m:\u001b[0m\u001b[0;34m\u001b[0m\u001b[0;34m\u001b[0m\u001b[0m\n\u001b[1;32m     29\u001b[0m             \u001b[0;32mreturn\u001b[0m \u001b[0mdetector_losses\u001b[0m\u001b[0;34m\u001b[0m\u001b[0;34m\u001b[0m\u001b[0m\n",
      "\u001b[0;32m/opt/conda/lib/python3.8/site-packages/torch/nn/modules/module.py\u001b[0m in \u001b[0;36m_call_impl\u001b[0;34m(self, *input, **kwargs)\u001b[0m\n\u001b[1;32m    879\u001b[0m             \u001b[0mresult\u001b[0m \u001b[0;34m=\u001b[0m \u001b[0mself\u001b[0m\u001b[0;34m.\u001b[0m\u001b[0m_slow_forward\u001b[0m\u001b[0;34m(\u001b[0m\u001b[0;34m*\u001b[0m\u001b[0minput\u001b[0m\u001b[0;34m,\u001b[0m \u001b[0;34m**\u001b[0m\u001b[0mkwargs\u001b[0m\u001b[0;34m)\u001b[0m\u001b[0;34m\u001b[0m\u001b[0;34m\u001b[0m\u001b[0m\n\u001b[1;32m    880\u001b[0m         \u001b[0;32melse\u001b[0m\u001b[0;34m:\u001b[0m\u001b[0;34m\u001b[0m\u001b[0;34m\u001b[0m\u001b[0m\n\u001b[0;32m--> 881\u001b[0;31m             \u001b[0mresult\u001b[0m \u001b[0;34m=\u001b[0m \u001b[0mself\u001b[0m\u001b[0;34m.\u001b[0m\u001b[0mforward\u001b[0m\u001b[0;34m(\u001b[0m\u001b[0;34m*\u001b[0m\u001b[0minput\u001b[0m\u001b[0;34m,\u001b[0m \u001b[0;34m**\u001b[0m\u001b[0mkwargs\u001b[0m\u001b[0;34m)\u001b[0m\u001b[0;34m\u001b[0m\u001b[0;34m\u001b[0m\u001b[0m\n\u001b[0m\u001b[1;32m    882\u001b[0m         for hook in itertools.chain(\n\u001b[1;32m    883\u001b[0m                 \u001b[0m_global_forward_hooks\u001b[0m\u001b[0;34m.\u001b[0m\u001b[0mvalues\u001b[0m\u001b[0;34m(\u001b[0m\u001b[0;34m)\u001b[0m\u001b[0;34m,\u001b[0m\u001b[0;34m\u001b[0m\u001b[0;34m\u001b[0m\u001b[0m\n",
      "\u001b[0;32m~/home/TDT4265-StarterCode/Project/SSD/ssd/modeling/box_head/box_head.py\u001b[0m in \u001b[0;36mforward\u001b[0;34m(self, features, targets)\u001b[0m\n\u001b[1;32m     21\u001b[0m         \u001b[0mcls_logits\u001b[0m\u001b[0;34m,\u001b[0m \u001b[0mbbox_pred\u001b[0m \u001b[0;34m=\u001b[0m \u001b[0mself\u001b[0m\u001b[0;34m.\u001b[0m\u001b[0mpredictor\u001b[0m\u001b[0;34m(\u001b[0m\u001b[0mfeatures\u001b[0m\u001b[0;34m)\u001b[0m\u001b[0;34m\u001b[0m\u001b[0;34m\u001b[0m\u001b[0m\n\u001b[1;32m     22\u001b[0m         \u001b[0;32mif\u001b[0m \u001b[0mself\u001b[0m\u001b[0;34m.\u001b[0m\u001b[0mtraining\u001b[0m\u001b[0;34m:\u001b[0m\u001b[0;34m\u001b[0m\u001b[0;34m\u001b[0m\u001b[0m\n\u001b[0;32m---> 23\u001b[0;31m             \u001b[0;32mreturn\u001b[0m \u001b[0mself\u001b[0m\u001b[0;34m.\u001b[0m\u001b[0m_forward_train\u001b[0m\u001b[0;34m(\u001b[0m\u001b[0mcls_logits\u001b[0m\u001b[0;34m,\u001b[0m \u001b[0mbbox_pred\u001b[0m\u001b[0;34m,\u001b[0m \u001b[0mtargets\u001b[0m\u001b[0;34m)\u001b[0m\u001b[0;34m\u001b[0m\u001b[0;34m\u001b[0m\u001b[0m\n\u001b[0m\u001b[1;32m     24\u001b[0m         \u001b[0;32melse\u001b[0m\u001b[0;34m:\u001b[0m\u001b[0;34m\u001b[0m\u001b[0;34m\u001b[0m\u001b[0m\n\u001b[1;32m     25\u001b[0m             \u001b[0;32mreturn\u001b[0m \u001b[0mself\u001b[0m\u001b[0;34m.\u001b[0m\u001b[0m_forward_test\u001b[0m\u001b[0;34m(\u001b[0m\u001b[0mcls_logits\u001b[0m\u001b[0;34m,\u001b[0m \u001b[0mbbox_pred\u001b[0m\u001b[0;34m)\u001b[0m\u001b[0;34m\u001b[0m\u001b[0;34m\u001b[0m\u001b[0m\n",
      "\u001b[0;32m~/home/TDT4265-StarterCode/Project/SSD/ssd/modeling/box_head/box_head.py\u001b[0m in \u001b[0;36m_forward_train\u001b[0;34m(self, cls_logits, bbox_pred, targets)\u001b[0m\n\u001b[1;32m     27\u001b[0m     \u001b[0;32mdef\u001b[0m \u001b[0m_forward_train\u001b[0m\u001b[0;34m(\u001b[0m\u001b[0mself\u001b[0m\u001b[0;34m,\u001b[0m \u001b[0mcls_logits\u001b[0m\u001b[0;34m,\u001b[0m \u001b[0mbbox_pred\u001b[0m\u001b[0;34m,\u001b[0m \u001b[0mtargets\u001b[0m\u001b[0;34m)\u001b[0m\u001b[0;34m:\u001b[0m\u001b[0;34m\u001b[0m\u001b[0;34m\u001b[0m\u001b[0m\n\u001b[1;32m     28\u001b[0m         \u001b[0mgt_boxes\u001b[0m\u001b[0;34m,\u001b[0m \u001b[0mgt_labels\u001b[0m \u001b[0;34m=\u001b[0m \u001b[0mtargets\u001b[0m\u001b[0;34m[\u001b[0m\u001b[0;34m\"boxes\"\u001b[0m\u001b[0;34m]\u001b[0m\u001b[0;34m,\u001b[0m \u001b[0mtargets\u001b[0m\u001b[0;34m[\u001b[0m\u001b[0;34m\"labels\"\u001b[0m\u001b[0;34m]\u001b[0m\u001b[0;34m\u001b[0m\u001b[0;34m\u001b[0m\u001b[0m\n\u001b[0;32m---> 29\u001b[0;31m         reg_loss, cls_loss = self.loss_evaluator(\n\u001b[0m\u001b[1;32m     30\u001b[0m             \u001b[0mcls_logits\u001b[0m\u001b[0;34m,\u001b[0m \u001b[0mbbox_pred\u001b[0m\u001b[0;34m,\u001b[0m \u001b[0mgt_labels\u001b[0m\u001b[0;34m,\u001b[0m \u001b[0mgt_boxes\u001b[0m\u001b[0;34m\u001b[0m\u001b[0;34m\u001b[0m\u001b[0m\n\u001b[1;32m     31\u001b[0m         )\n",
      "\u001b[0;32m/opt/conda/lib/python3.8/site-packages/torch/nn/modules/module.py\u001b[0m in \u001b[0;36m_call_impl\u001b[0;34m(self, *input, **kwargs)\u001b[0m\n\u001b[1;32m    879\u001b[0m             \u001b[0mresult\u001b[0m \u001b[0;34m=\u001b[0m \u001b[0mself\u001b[0m\u001b[0;34m.\u001b[0m\u001b[0m_slow_forward\u001b[0m\u001b[0;34m(\u001b[0m\u001b[0;34m*\u001b[0m\u001b[0minput\u001b[0m\u001b[0;34m,\u001b[0m \u001b[0;34m**\u001b[0m\u001b[0mkwargs\u001b[0m\u001b[0;34m)\u001b[0m\u001b[0;34m\u001b[0m\u001b[0;34m\u001b[0m\u001b[0m\n\u001b[1;32m    880\u001b[0m         \u001b[0;32melse\u001b[0m\u001b[0;34m:\u001b[0m\u001b[0;34m\u001b[0m\u001b[0;34m\u001b[0m\u001b[0m\n\u001b[0;32m--> 881\u001b[0;31m             \u001b[0mresult\u001b[0m \u001b[0;34m=\u001b[0m \u001b[0mself\u001b[0m\u001b[0;34m.\u001b[0m\u001b[0mforward\u001b[0m\u001b[0;34m(\u001b[0m\u001b[0;34m*\u001b[0m\u001b[0minput\u001b[0m\u001b[0;34m,\u001b[0m \u001b[0;34m**\u001b[0m\u001b[0mkwargs\u001b[0m\u001b[0;34m)\u001b[0m\u001b[0;34m\u001b[0m\u001b[0;34m\u001b[0m\u001b[0m\n\u001b[0m\u001b[1;32m    882\u001b[0m         for hook in itertools.chain(\n\u001b[1;32m    883\u001b[0m                 \u001b[0m_global_forward_hooks\u001b[0m\u001b[0;34m.\u001b[0m\u001b[0mvalues\u001b[0m\u001b[0;34m(\u001b[0m\u001b[0;34m)\u001b[0m\u001b[0;34m,\u001b[0m\u001b[0;34m\u001b[0m\u001b[0;34m\u001b[0m\u001b[0m\n",
      "\u001b[0;32m~/home/TDT4265-StarterCode/Project/SSD/ssd/modeling/box_head/loss.py\u001b[0m in \u001b[0;36mforward\u001b[0;34m(self, confidence, predicted_locations, labels, gt_locations)\u001b[0m\n\u001b[1;32m     28\u001b[0m             \u001b[0;31m# derived from cross_entropy=sum(log(p))\u001b[0m\u001b[0;34m\u001b[0m\u001b[0;34m\u001b[0m\u001b[0;34m\u001b[0m\u001b[0m\n\u001b[1;32m     29\u001b[0m             \u001b[0mloss\u001b[0m \u001b[0;34m=\u001b[0m \u001b[0;34m-\u001b[0m\u001b[0mF\u001b[0m\u001b[0;34m.\u001b[0m\u001b[0mlog_softmax\u001b[0m\u001b[0;34m(\u001b[0m\u001b[0mconfidence\u001b[0m\u001b[0;34m,\u001b[0m \u001b[0mdim\u001b[0m\u001b[0;34m=\u001b[0m\u001b[0;36m2\u001b[0m\u001b[0;34m)\u001b[0m\u001b[0;34m[\u001b[0m\u001b[0;34m:\u001b[0m\u001b[0;34m,\u001b[0m \u001b[0;34m:\u001b[0m\u001b[0;34m,\u001b[0m \u001b[0;36m0\u001b[0m\u001b[0;34m]\u001b[0m\u001b[0;34m\u001b[0m\u001b[0;34m\u001b[0m\u001b[0m\n\u001b[0;32m---> 30\u001b[0;31m             \u001b[0mmask\u001b[0m \u001b[0;34m=\u001b[0m \u001b[0mbox_utils\u001b[0m\u001b[0;34m.\u001b[0m\u001b[0mhard_negative_mining\u001b[0m\u001b[0;34m(\u001b[0m\u001b[0mloss\u001b[0m\u001b[0;34m,\u001b[0m \u001b[0mlabels\u001b[0m\u001b[0;34m,\u001b[0m \u001b[0mself\u001b[0m\u001b[0;34m.\u001b[0m\u001b[0mneg_pos_ratio\u001b[0m\u001b[0;34m)\u001b[0m\u001b[0;34m\u001b[0m\u001b[0;34m\u001b[0m\u001b[0m\n\u001b[0m\u001b[1;32m     31\u001b[0m \u001b[0;34m\u001b[0m\u001b[0m\n\u001b[1;32m     32\u001b[0m         \u001b[0mconfidence\u001b[0m \u001b[0;34m=\u001b[0m \u001b[0mconfidence\u001b[0m\u001b[0;34m[\u001b[0m\u001b[0mmask\u001b[0m\u001b[0;34m,\u001b[0m \u001b[0;34m:\u001b[0m\u001b[0;34m]\u001b[0m\u001b[0;34m\u001b[0m\u001b[0;34m\u001b[0m\u001b[0m\n",
      "\u001b[0;32m~/home/TDT4265-StarterCode/Project/SSD/ssd/utils/box_utils.py\u001b[0m in \u001b[0;36mhard_negative_mining\u001b[0;34m(loss, labels, neg_pos_ratio)\u001b[0m\n\u001b[1;32m    120\u001b[0m     \u001b[0mnum_neg\u001b[0m \u001b[0;34m=\u001b[0m \u001b[0mnum_pos\u001b[0m \u001b[0;34m*\u001b[0m \u001b[0mneg_pos_ratio\u001b[0m\u001b[0;34m\u001b[0m\u001b[0;34m\u001b[0m\u001b[0m\n\u001b[1;32m    121\u001b[0m \u001b[0;34m\u001b[0m\u001b[0m\n\u001b[0;32m--> 122\u001b[0;31m     \u001b[0mloss\u001b[0m\u001b[0;34m[\u001b[0m\u001b[0mpos_mask\u001b[0m\u001b[0;34m]\u001b[0m \u001b[0;34m=\u001b[0m \u001b[0;34m-\u001b[0m\u001b[0mmath\u001b[0m\u001b[0;34m.\u001b[0m\u001b[0minf\u001b[0m\u001b[0;34m\u001b[0m\u001b[0;34m\u001b[0m\u001b[0m\n\u001b[0m\u001b[1;32m    123\u001b[0m     \u001b[0m_\u001b[0m\u001b[0;34m,\u001b[0m \u001b[0mindexes\u001b[0m \u001b[0;34m=\u001b[0m \u001b[0mloss\u001b[0m\u001b[0;34m.\u001b[0m\u001b[0msort\u001b[0m\u001b[0;34m(\u001b[0m\u001b[0mdim\u001b[0m\u001b[0;34m=\u001b[0m\u001b[0;36m1\u001b[0m\u001b[0;34m,\u001b[0m \u001b[0mdescending\u001b[0m\u001b[0;34m=\u001b[0m\u001b[0;32mTrue\u001b[0m\u001b[0;34m)\u001b[0m\u001b[0;34m\u001b[0m\u001b[0;34m\u001b[0m\u001b[0m\n\u001b[1;32m    124\u001b[0m     \u001b[0m_\u001b[0m\u001b[0;34m,\u001b[0m \u001b[0morders\u001b[0m \u001b[0;34m=\u001b[0m \u001b[0mindexes\u001b[0m\u001b[0;34m.\u001b[0m\u001b[0msort\u001b[0m\u001b[0;34m(\u001b[0m\u001b[0mdim\u001b[0m\u001b[0;34m=\u001b[0m\u001b[0;36m1\u001b[0m\u001b[0;34m)\u001b[0m\u001b[0;34m\u001b[0m\u001b[0;34m\u001b[0m\u001b[0m\n",
      "\u001b[0;31mKeyboardInterrupt\u001b[0m: "
     ]
    }
   ],
   "source": [
    "model = start_train(cfg)"
   ]
  },
  {
   "cell_type": "code",
   "execution_count": 5,
   "metadata": {},
   "outputs": [
    {
     "name": "stdout",
     "output_type": "stream",
     "text": [
      "2021-03-23 15:00:19,172 SSD INFO: Start evaluating...\n",
      "2021-03-23 15:00:19,326 SSD.inference INFO: Evaluating mnist_detection_val dataset(1000 images):\n"
     ]
    },
    {
     "name": "stderr",
     "output_type": "stream",
     "text": [
      "100%|██████████| 100/100 [00:12<00:00,  7.69it/s]\n"
     ]
    },
    {
     "name": "stdout",
     "output_type": "stream",
     "text": [
      "2021-03-23 15:00:33,086 SSD.inference INFO: mAP: 0.8753\n",
      "0               : 0.8940\n",
      "1               : 0.8095\n",
      "2               : 0.8760\n",
      "3               : 0.8971\n",
      "4               : 0.8807\n",
      "5               : 0.8830\n",
      "6               : 0.8859\n",
      "7               : 0.8569\n",
      "8               : 0.8900\n",
      "9               : 0.8794\n",
      "\n"
     ]
    },
    {
     "data": {
      "text/plain": [
       "[{'metrics': {'mAP': 0.8752565431542013,\n",
       "   '0': 0.8939699650469805,\n",
       "   '1': 0.8094709526574602,\n",
       "   '2': 0.8760044641851805,\n",
       "   '3': 0.897146832405082,\n",
       "   '4': 0.8807326189016644,\n",
       "   '5': 0.883031870897962,\n",
       "   '6': 0.8859388314999235,\n",
       "   '7': 0.8569403048356649,\n",
       "   '8': 0.8899598842157962,\n",
       "   '9': 0.8793697068962991}}]"
      ]
     },
     "execution_count": 5,
     "metadata": {},
     "output_type": "execute_result"
    }
   ],
   "source": [
    "logger.info('Start evaluating...')\n",
    "torch.cuda.empty_cache()  # speed up evaluating after training finished\n",
    "do_evaluation(cfg, model)"
   ]
  },
  {
   "cell_type": "code",
   "execution_count": null,
   "metadata": {},
   "outputs": [],
   "source": []
  }
 ],
 "metadata": {
  "kernelspec": {
   "display_name": "Python 3",
   "language": "python",
   "name": "python3"
  },
  "language_info": {
   "codemirror_mode": {
    "name": "ipython",
    "version": 3
   },
   "file_extension": ".py",
   "mimetype": "text/x-python",
   "name": "python",
   "nbconvert_exporter": "python",
   "pygments_lexer": "ipython3",
   "version": "3.8.5"
  }
 },
 "nbformat": 4,
 "nbformat_minor": 4
}
