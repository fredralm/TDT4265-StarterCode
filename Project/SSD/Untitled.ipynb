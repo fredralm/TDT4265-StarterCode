{
 "cells": [
  {
   "cell_type": "markdown",
   "metadata": {},
   "source": [
    "# Project Report"
   ]
  },
  {
   "cell_type": "markdown",
   "metadata": {},
   "source": [
    "## Model Architecture\n",
    "\n",
    "\n",
    "| Is output | Layer Type | Number of Hidden Units / Number of Filters | Stride |\n",
    "| :-: | :-: | :-: | :-: |\n",
    "| 1 | BatchNorm2d | 512 | - |\n",
    "| 1 | Conv2d | 512 | ReLU |\n",
    "| 1 | BatchNorm2d | 512 | - |\n",
    "| 1 | Conv2d | 1024 | ReLU |\n",
    "| 1 | MaxPool2d | - | - |\n",
    "| 1 | Dropout | - | - |\n",
    "| 2 | Conv2d | 64 | ReLU |\n",
    "| 2 | Conv2d | 64 | ReLU |\n",
    "| 1 | BatchNorm2d | 64 | - |\n",
    "| 2 | MaxPool2d | - | - |\n",
    "| 2 | Dropout | - | - |\n",
    "| 3 | Conv2d | 128 | ReLU |\n",
    "| 3 | Conv2d | 128 | ReLU |\n",
    "| 1 | BatchNorm2d | 128 | - |\n",
    "| 3 | MaxPool2d | - | - |\n",
    "| 3 | Dropout | - | - |\n",
    "| --------- | --------- | --------- | --------- |\n",
    "|  | Flatten |  |  |\n",
    "| 4 | Fully-Connected | 64 | ReLU |\n",
    "| 5 | Fully-Connected | 10 | Softmax |"
   ]
  },
  {
   "cell_type": "markdown",
   "metadata": {},
   "source": []
  }
 ],
 "metadata": {
  "kernelspec": {
   "display_name": "Python 3",
   "language": "python",
   "name": "python3"
  },
  "language_info": {
   "codemirror_mode": {
    "name": "ipython",
    "version": 3
   },
   "file_extension": ".py",
   "mimetype": "text/x-python",
   "name": "python",
   "nbconvert_exporter": "python",
   "pygments_lexer": "ipython3",
   "version": "3.6.10"
  }
 },
 "nbformat": 4,
 "nbformat_minor": 4
}
