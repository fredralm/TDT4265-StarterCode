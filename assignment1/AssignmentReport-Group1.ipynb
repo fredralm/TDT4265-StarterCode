{
 "cells": [
  {
   "cell_type": "markdown",
   "metadata": {},
   "source": [
    "# Assignment 1 Report"
   ]
  },
  {
   "cell_type": "markdown",
   "metadata": {},
   "source": [
    "This is an outline for your report to ease the amount of work required to create your report. Jupyter notebook supports markdown, and I recommend you to check out this [cheat sheet](https://github.com/adam-p/markdown-here/wiki/Markdown-Cheatsheet). If you are not familiar with markdown.\n",
    "\n",
    "Before delivery, **remember to convert this file to PDF**. You can do it in two ways:\n",
    "1. Print the webpage (ctrl+P or cmd+P)\n",
    "2. Export with latex. This is somewhat more difficult, but you'll get somehwat of a \"prettier\" PDF. Go to File -> Download as -> PDF via LaTeX. You might have to install nbconvert and pandoc through conda; `conda install nbconvert pandoc`."
   ]
  },
  {
   "cell_type": "markdown",
   "metadata": {},
   "source": [
    "# Task 1"
   ]
  },
  {
   "cell_type": "markdown",
   "metadata": {},
   "source": [
    "## task 1a)\n",
    "\n",
    "![Task1a](task1a.png)"
   ]
  },
  {
   "cell_type": "markdown",
   "metadata": {},
   "source": [
    "## task 1b)\n",
    "\n",
    "![Task1b1](task1b1.png)\n",
    "![Task1b2](task1b2.png)"
   ]
  },
  {
   "cell_type": "markdown",
   "metadata": {},
   "source": [
    "# Task 2"
   ]
  },
  {
   "cell_type": "markdown",
   "metadata": {},
   "source": [
    "## Task 2b)\n",
    "![Task2b](task2b_binary_train_loss.png)"
   ]
  },
  {
   "cell_type": "markdown",
   "metadata": {},
   "source": [
    "## Task 2c)\n",
    "![Task2c](task2b_binary_train_accuracy.png)"
   ]
  },
  {
   "cell_type": "markdown",
   "metadata": {},
   "source": [
    "## Task 2d)\n",
    "Early stopping kicks in after 4 epochs."
   ]
  },
  {
   "cell_type": "markdown",
   "metadata": {},
   "source": [
    "## Task 2e)\n",
    "![Task2e1](task2e_train_loss_shuffle_difference.png)\n",
    "![Task2e2](task2e_val_accuracy_shuffle_difference.png)\n",
    "\n",
    "By shuffling the dataset we avoid the model being trained for only 2s at the start of every epoch, which would result in an accuracy drop when we hit the 3s until the model learns how to correctly classify both. With a shuffled dataset we encounter 2s and 3s randomly and the model learns that there exists more than one number to classify. \n",
    "\n",
    "In general shuffling helps reduce variance and overfitting by ensuring the data used is a representation of the whole dataset. In the MNIST database a sorted batch of data will never include all 10 digits and thereby make the model overfitted to the digits represented and completely oblivious to other digits. While a shuffled batch of data will almost always contain all digits such that the model trains on a more general batch."
   ]
  },
  {
   "cell_type": "markdown",
   "metadata": {},
   "source": [
    "# Task 3"
   ]
  },
  {
   "cell_type": "markdown",
   "metadata": {},
   "source": [
    "## Task 3b)\n",
    "![Task3b](task3b_softmax_train_loss.png)"
   ]
  },
  {
   "cell_type": "markdown",
   "metadata": {},
   "source": [
    "## Task 3c)\n",
    "![Task3c](task3c_softmax_train_accuracy.png)"
   ]
  },
  {
   "cell_type": "markdown",
   "metadata": {},
   "source": [
    "## Task 3d)\n",
    "The training accuracy is rising faster than the validation accuracy, indicating some overfitting. The validation accuracy is still increasing which implies more training could give a higher validation accuracy, but this higher accuracy would cost a lot of computational time compared to earlier training where the training and validation accuracies were rising almost identically.\n",
    "\n",
    "We can also see that the validation loss is plateauing faster than the training loss, which signals the same as the plateauing in validation accuracy compared to training accuracy."
   ]
  },
  {
   "cell_type": "markdown",
   "metadata": {},
   "source": [
    "# Task 4"
   ]
  },
  {
   "cell_type": "markdown",
   "metadata": {},
   "source": [
    "## Task 4a)\n",
    "\n",
    "![Task4a](task4a.png)"
   ]
  },
  {
   "cell_type": "markdown",
   "metadata": {},
   "source": [
    "## Task 4b)\n",
    "The L2 regularization reduces the model complexity which results in less of the noise from the dataset leaking through the model. The reduction of model complexity increases bias but reduces noise in the bias/noise tradeoff.\n",
    "\n",
    "![Task4b0](task4b_weights_lambda=0.png)\n",
    "![Task4b1](task4b_weights_lambda=1.png)"
   ]
  },
  {
   "cell_type": "markdown",
   "metadata": {},
   "source": [
    "## Task 4c)\n",
    "\n",
    "![Task4c](task4c_l2_reg_accuracy.png)\n",
    "\n",
    "The zoom for this plot is a bit off, as the plot with edited range for ylim did not have time to finish running, same as task4c."
   ]
  },
  {
   "cell_type": "markdown",
   "metadata": {},
   "source": [
    "## Task 4d)\n",
    "More regularization reduces complexity which trades less noise for more bias, which might reduce accuracy, especially for high regularization constants where more bias is introduced, ie. lambda = 1."
   ]
  },
  {
   "cell_type": "markdown",
   "metadata": {},
   "source": [
    "## Task 4e)\n",
    "Could not finish running the code in time for the submission deadline, started running at about 23:00 but had not yet finished at 23:55 so that i could get the final plots into the report. Code for plotting the L2 norms is included in the code zip.\n",
    "\n",
    "Also had to download Tex to deliver jupyter as pdf so my estimate of 5 min to be able to deliver was too short. Would have delivered 1 hr earlier if i knew code would not finish in the timeframe."
   ]
  },
  {
   "cell_type": "code",
   "execution_count": null,
   "metadata": {},
   "outputs": [],
   "source": [
    "a7557c83-76ee-4cc2-af20-9e0b140f870e"
   ]
  }
 ],
 "metadata": {
  "kernelspec": {
   "display_name": "Python 3",
   "language": "python",
   "name": "python3"
  },
  "language_info": {
   "codemirror_mode": {
    "name": "ipython",
    "version": 3
   },
   "file_extension": ".py",
   "mimetype": "text/x-python",
   "name": "python",
   "nbconvert_exporter": "python",
   "pygments_lexer": "ipython3",
   "version": "3.8.3"
  }
 },
 "nbformat": 4,
 "nbformat_minor": 4
}
